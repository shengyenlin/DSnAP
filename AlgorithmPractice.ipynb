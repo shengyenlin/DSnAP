{
 "cells": [
  {
   "cell_type": "markdown",
   "metadata": {},
   "source": [
    "## Linear Search"
   ]
  },
  {
   "cell_type": "code",
   "execution_count": 1,
   "metadata": {},
   "outputs": [],
   "source": [
    "pass #To-Do的感覺，先把一個function放在這邊之後再寫"
   ]
  },
  {
   "cell_type": "markdown",
   "metadata": {},
   "source": [
    "### duplicated target in list"
   ]
  },
  {
   "cell_type": "code",
   "execution_count": 17,
   "metadata": {},
   "outputs": [
    {
     "name": "stdout",
     "output_type": "stream",
     "text": [
      "[0, 5]\n"
     ]
    }
   ],
   "source": [
    "# Search list and target value\n",
    "tour_locations = [ \"New York City\", \"Los Angeles\", \"Bangkok\", \"Istanbul\", \"London\", \"New York City\", \"Toronto\"]\n",
    "target_city = \"New York City\"\n",
    "\n",
    "#Linear Search Algorithm\n",
    "def linear_search(search_list, target_value):\n",
    "    matches = list()\n",
    "    for idx in range(len(search_list)):\n",
    "        if search_list[idx] == target_value:\n",
    "            matches.append(idx)\n",
    "    if len(matches) != 0:\n",
    "        return matches\n",
    "    else:\n",
    "        raise ValueError(\"{0} not in list\".format(target_value))\n",
    "\n",
    "#Function call\n",
    "tour_stops = linear_search(tour_locations, target_city)\n",
    "print(tour_stops)"
   ]
  },
  {
   "cell_type": "markdown",
   "metadata": {},
   "source": [
    "### find maximum value using linear search"
   ]
  },
  {
   "cell_type": "code",
   "execution_count": 18,
   "metadata": {},
   "outputs": [
    {
     "name": "stdout",
     "output_type": "stream",
     "text": [
      "3\n"
     ]
    }
   ],
   "source": [
    "# Search list\n",
    "test_scores = [88, 93, 75, 100, 80, 67, 71, 92, 90, 83]\n",
    "\n",
    "#Linear Search Algorithm\n",
    "def linear_search(search_list):\n",
    "    maximum_score_index = None\n",
    "    for idx in range(len(search_list)):\n",
    "        if maximum_score_index is None or search_list[idx] > search_list[maximum_score_index]:\n",
    "            maximum_score_index = idx\n",
    "    return maximum_score_index\n",
    "\n",
    "# Function call\n",
    "highest_score = linear_search(test_scores)\n",
    "\n",
    "#Prints out the highest score in the list\n",
    "print(highest_score)"
   ]
  },
  {
   "cell_type": "markdown",
   "metadata": {},
   "source": [
    "## Binary Search"
   ]
  },
  {
   "cell_type": "markdown",
   "metadata": {},
   "source": [
    "### using duplicated sublist (waste of memory)"
   ]
  },
  {
   "cell_type": "code",
   "execution_count": 38,
   "metadata": {},
   "outputs": [
    {
     "name": "stdout",
     "output_type": "stream",
     "text": [
      "value not found\n"
     ]
    }
   ],
   "source": [
    "def binary_search(sorted_list, target):\n",
    "    #base case1 : can't find target value\n",
    "    if not sorted_list:\n",
    "        return 'value not found'\n",
    "    \n",
    "    #不會進位會退位，所以right sublist才要+1\n",
    "    mid_idx = len(sorted_list)//2\n",
    "    mid_val = sorted_list[mid_idx]\n",
    "\n",
    "    #base case2 : find target value\n",
    "    if mid_val == target:\n",
    "        return mid_idx\n",
    "    \n",
    "    #recursive step\n",
    "    #\n",
    "    if mid_val > target:\n",
    "        left_half = sorted_list[:mid_idx]\n",
    "        print(left_half)\n",
    "        return binary_search(left_half, target)\n",
    "    \n",
    "    if mid_val < target:\n",
    "        right_half = sorted_list[mid_idx + 1:]\n",
    "        result = binary_search(right_half, target)\n",
    "        #因為要回傳result + mid_idx + 1 => 多設立一個result這個變數\n",
    "        #result這個變數有時候會回傳文字 => 多設一個condition\n",
    "        if result == 'value not found':\n",
    "            return result\n",
    "        #because we cut the list into sublist, we need to return result + mid_idx + 1 \n",
    "        else:\n",
    "            return result + mid_idx + 1\n",
    "# For testing:\n",
    "sorted_values = [13, 14, 15, 16, 17]\n",
    "print(binary_search(sorted_values, 19))"
   ]
  },
  {
   "cell_type": "markdown",
   "metadata": {},
   "source": [
    "### pointer version (not need to cut into sublist and strange arithmetic)"
   ]
  },
  {
   "cell_type": "code",
   "execution_count": 46,
   "metadata": {},
   "outputs": [
    {
     "name": "stdout",
     "output_type": "stream",
     "text": [
      "element 102 is located at index 2\n"
     ]
    }
   ],
   "source": [
    "def binary_search(sorted_list, left_pointer, right_pointer, target):\n",
    "    # this condition indicates we've reached an empty \"sub-list\"\n",
    "    if left_pointer >= right_pointer:\n",
    "        return \"value not found\"\n",
    "\n",
    "    # We calculate the middle index from the pointers now\n",
    "    mid_idx = (left_pointer + right_pointer) // 2\n",
    "    mid_val = sorted_list[mid_idx]\n",
    "\n",
    "    if mid_val == target:\n",
    "        return mid_idx\n",
    "    if mid_val > target:\n",
    "    # we reduce the sub-list by passing in a new right_pointer\n",
    "        return binary_search(sorted_list, left_pointer, mid_idx, target)\n",
    "    if mid_val < target:\n",
    "    # we reduce the sub-list by passing in a new left_pointer\n",
    "        return binary_search(sorted_list, mid_idx + 1, right_pointer, target)\n",
    "\n",
    "values = [77, 80, 102, 123, 288, 300, 540]\n",
    "target = 102\n",
    "start_of_values = 0\n",
    "end_of_values = len(values)\n",
    "result = binary_search(values, start_of_values, end_of_values, target)\n",
    "if result == \"value not found\":\n",
    "    print(result)\n",
    "else:\n",
    "    print(\"element {0} is located at index {1}\".format(target, result))"
   ]
  },
  {
   "cell_type": "markdown",
   "metadata": {},
   "source": [
    "### iterative version"
   ]
  },
  {
   "cell_type": "code",
   "execution_count": null,
   "metadata": {},
   "outputs": [],
   "source": [
    "def binary_search(sorted_list, target):\n",
    "    left_pointer = 0\n",
    "    right_pointer = len(sorted_list)\n",
    "\n",
    "    # fill in the condition for the while loop\n",
    "    while left_pointer != right_pointer:\n",
    "        # calculate the middle index using the two pointers\n",
    "        mid_idx = (left_pointer + right_pointer) // 2\n",
    "        mid_val = sorted_list[mid_idx]\n",
    "        if mid_val == target:\n",
    "            return mid_idx\n",
    "        if target < mid_val:\n",
    "            # set the right_pointer to the appropriate value\n",
    "            right_pointer = mid_idx\n",
    "        if target > mid_val:\n",
    "            # set the left_pointer to the appropriate value\n",
    "            left_pointer = mid_idx\n",
    "\n",
    "    return \"Value not in list\"\n",
    "\n",
    "# test cases\n",
    "print(binary_search([5,6,7,8,9], 9))\n",
    "print(binary_search([5,6,7,8,9,10], 11))\n",
    "print(binary_search([5,6,7,8,9], 8))\n",
    "print(binary_search([5,6,7,8,9], 4))\n",
    "print(binary_search([5,6,7,8,9], 6))"
   ]
  },
  {
   "cell_type": "markdown",
   "metadata": {},
   "source": [
    "### search in a sparse list"
   ]
  },
  {
   "cell_type": "code",
   "execution_count": 41,
   "metadata": {},
   "outputs": [],
   "source": [
    "def sparse_search(data, search_val):\n",
    "    print(\"Data: \" + str(data))\n",
    "    print(\"Search Value: \" + str(search_val))\n",
    "    first = 0\n",
    "    last = len(data) - 1\n",
    "    while first <= last:\n",
    "        mid = (first + last) // 2\n",
    "        if not data[mid]: \n",
    "            left = mid - 1\n",
    "            right = mid + 1\n",
    "            #iterate through the list from the middle until it finds a none-empty value\n",
    "            while True:\n",
    "                if left < first and right > last:\n",
    "                    print(\"{0} is not in the dataset\".format(search_val))\n",
    "                    return\n",
    "                #data[right] is not empty\n",
    "                elif right <= last and data[right]:\n",
    "                    mid = right\n",
    "                    break\n",
    "                elif left >= first and data[left]:\n",
    "                    mid = left\n",
    "                    break\n",
    "                right += 1\n",
    "                left -= 1\n",
    "        if data[mid] == search_val:\n",
    "            print(\"{0} found at position {1}\".format(search_val, mid))\n",
    "            return\n",
    "        elif search_val < data[mid]:\n",
    "            last = mid - 1\n",
    "        elif search_val > data[mid]:\n",
    "            first = mid + 1\n",
    "    print(\"{0} is not in our dataset\".format(search_val))"
   ]
  },
  {
   "cell_type": "code",
   "execution_count": 35,
   "metadata": {},
   "outputs": [
    {
     "name": "stdout",
     "output_type": "stream",
     "text": [
      "Data: ['A', '', '', 'B', '', '', '', '', 'C']\n",
      "Search Value: B\n",
      "True\n",
      "False\n",
      "B found at position 3\n"
     ]
    }
   ],
   "source": [
    "sparse_search([\"A\", \"\", \"\", \"B\", \"\", \"\", \"\", \"\", \"C\"], \"B\")"
   ]
  },
  {
   "cell_type": "code",
   "execution_count": 36,
   "metadata": {},
   "outputs": [
    {
     "data": {
      "text/plain": [
       "True"
      ]
     },
     "execution_count": 36,
     "metadata": {},
     "output_type": "execute_result"
    }
   ],
   "source": [
    "not \"\""
   ]
  },
  {
   "cell_type": "code",
   "execution_count": 39,
   "metadata": {},
   "outputs": [
    {
     "data": {
      "text/plain": [
       "False"
      ]
     },
     "execution_count": 39,
     "metadata": {},
     "output_type": "execute_result"
    }
   ],
   "source": [
    "'' is None #empty string不能用None判斷"
   ]
  },
  {
   "cell_type": "code",
   "execution_count": 40,
   "metadata": {},
   "outputs": [
    {
     "data": {
      "text/plain": [
       "False"
      ]
     },
     "execution_count": 40,
     "metadata": {},
     "output_type": "execute_result"
    }
   ],
   "source": [
    "\"\" is None"
   ]
  },
  {
   "cell_type": "code",
   "execution_count": 42,
   "metadata": {},
   "outputs": [
    {
     "data": {
      "text/plain": [
       "False"
      ]
     },
     "execution_count": 42,
     "metadata": {},
     "output_type": "execute_result"
    }
   ],
   "source": [
    "[] is None"
   ]
  },
  {
   "cell_type": "code",
   "execution_count": 43,
   "metadata": {},
   "outputs": [
    {
     "data": {
      "text/plain": [
       "True"
      ]
     },
     "execution_count": 43,
     "metadata": {},
     "output_type": "execute_result"
    }
   ],
   "source": [
    "not []"
   ]
  },
  {
   "cell_type": "markdown",
   "metadata": {},
   "source": [
    "# Recursion"
   ]
  },
  {
   "cell_type": "markdown",
   "metadata": {},
   "source": [
    "## Mimicing call stack"
   ]
  },
  {
   "cell_type": "code",
   "execution_count": 2,
   "metadata": {},
   "outputs": [
    {
     "name": "stdout",
     "output_type": "stream",
     "text": [
      "[{'n_value': 4}]\n",
      "[{'n_value': 4}, {'n_value': 3}]\n",
      "[{'n_value': 4}, {'n_value': 3}, {'n_value': 2}]\n",
      "BASE CASE REACHED\n",
      "adding 2\n",
      "[{'n_value': 4}, {'n_value': 3}]\n",
      "adding 3\n",
      "[{'n_value': 4}]\n",
      "adding 4\n",
      "[]\n"
     ]
    },
    {
     "data": {
      "text/plain": [
       "(10, [])"
      ]
     },
     "execution_count": 2,
     "metadata": {},
     "output_type": "execute_result"
    }
   ],
   "source": [
    "def sum_to_one(n):\n",
    "  result = 1\n",
    "  call_stack = []\n",
    "  \n",
    "  while n != 1:\n",
    "    execution_context = {\"n_value\": n}\n",
    "    call_stack.append(execution_context)\n",
    "    n -= 1\n",
    "    print(call_stack)\n",
    "  print(\"BASE CASE REACHED\")\n",
    "  while call_stack:\n",
    "    return_value = call_stack[-1]\n",
    "    call_stack.remove(return_value)\n",
    "    value = return_value[\"n_value\"]\n",
    "    print(f\"adding {value}\")\n",
    "    result += value\n",
    "    print(call_stack)\n",
    "  return result, call_stack\n",
    "\n",
    "sum_to_one(4)"
   ]
  },
  {
   "cell_type": "markdown",
   "metadata": {},
   "source": [
    "## sum_to_one (recursion ver.)"
   ]
  },
  {
   "cell_type": "code",
   "execution_count": 1,
   "metadata": {},
   "outputs": [
    {
     "name": "stdout",
     "output_type": "stream",
     "text": [
      "Recursing with input: 7\n",
      "Recursing with input: 6\n",
      "Recursing with input: 5\n",
      "Recursing with input: 4\n",
      "Recursing with input: 3\n",
      "Recursing with input: 2\n",
      "28\n"
     ]
    }
   ],
   "source": [
    "# Define sum_to_one() below...\n",
    "def sum_to_one(n):\n",
    "  #base case\n",
    "  if n == 1:\n",
    "    return n\n",
    "  else:\n",
    "    print(\"Recursing with input: {0}\".format(n))\n",
    "    return sum_to_one(n-1) + n\n",
    "# uncomment when you're ready to test\n",
    "print(sum_to_one(7))"
   ]
  },
  {
   "cell_type": "code",
   "execution_count": 3,
   "metadata": {},
   "outputs": [
    {
     "ename": "RecursionError",
     "evalue": "maximum recursion depth exceeded in comparison",
     "output_type": "error",
     "traceback": [
      "\u001b[1;31m---------------------------------------------------------------------------\u001b[0m",
      "\u001b[1;31mRecursionError\u001b[0m                            Traceback (most recent call last)",
      "\u001b[1;32m<ipython-input-3-131c3eb5ce9c>\u001b[0m in \u001b[0;36m<module>\u001b[1;34m\u001b[0m\n\u001b[0;32m      7\u001b[0m     \u001b[1;32mreturn\u001b[0m \u001b[0mn\u001b[0m \u001b[1;33m*\u001b[0m \u001b[0mfactorial\u001b[0m\u001b[1;33m(\u001b[0m\u001b[0mn\u001b[0m\u001b[1;33m-\u001b[0m\u001b[1;36m1\u001b[0m\u001b[1;33m)\u001b[0m\u001b[1;33m\u001b[0m\u001b[1;33m\u001b[0m\u001b[0m\n\u001b[0;32m      8\u001b[0m \u001b[1;33m\u001b[0m\u001b[0m\n\u001b[1;32m----> 9\u001b[1;33m \u001b[0mprint\u001b[0m\u001b[1;33m(\u001b[0m\u001b[0mfactorial\u001b[0m\u001b[1;33m(\u001b[0m\u001b[1;36m12000\u001b[0m\u001b[1;33m)\u001b[0m\u001b[1;33m)\u001b[0m\u001b[1;33m\u001b[0m\u001b[1;33m\u001b[0m\u001b[0m\n\u001b[0m",
      "\u001b[1;32m<ipython-input-3-131c3eb5ce9c>\u001b[0m in \u001b[0;36mfactorial\u001b[1;34m(n)\u001b[0m\n\u001b[0;32m      5\u001b[0m     \u001b[1;32mreturn\u001b[0m \u001b[0mn\u001b[0m\u001b[1;33m\u001b[0m\u001b[1;33m\u001b[0m\u001b[0m\n\u001b[0;32m      6\u001b[0m   \u001b[1;32melse\u001b[0m\u001b[1;33m:\u001b[0m\u001b[1;33m\u001b[0m\u001b[1;33m\u001b[0m\u001b[0m\n\u001b[1;32m----> 7\u001b[1;33m     \u001b[1;32mreturn\u001b[0m \u001b[0mn\u001b[0m \u001b[1;33m*\u001b[0m \u001b[0mfactorial\u001b[0m\u001b[1;33m(\u001b[0m\u001b[0mn\u001b[0m\u001b[1;33m-\u001b[0m\u001b[1;36m1\u001b[0m\u001b[1;33m)\u001b[0m\u001b[1;33m\u001b[0m\u001b[1;33m\u001b[0m\u001b[0m\n\u001b[0m\u001b[0;32m      8\u001b[0m \u001b[1;33m\u001b[0m\u001b[0m\n\u001b[0;32m      9\u001b[0m \u001b[0mprint\u001b[0m\u001b[1;33m(\u001b[0m\u001b[0mfactorial\u001b[0m\u001b[1;33m(\u001b[0m\u001b[1;36m12000\u001b[0m\u001b[1;33m)\u001b[0m\u001b[1;33m)\u001b[0m\u001b[1;33m\u001b[0m\u001b[1;33m\u001b[0m\u001b[0m\n",
      "... last 1 frames repeated, from the frame below ...\n",
      "\u001b[1;32m<ipython-input-3-131c3eb5ce9c>\u001b[0m in \u001b[0;36mfactorial\u001b[1;34m(n)\u001b[0m\n\u001b[0;32m      5\u001b[0m     \u001b[1;32mreturn\u001b[0m \u001b[0mn\u001b[0m\u001b[1;33m\u001b[0m\u001b[1;33m\u001b[0m\u001b[0m\n\u001b[0;32m      6\u001b[0m   \u001b[1;32melse\u001b[0m\u001b[1;33m:\u001b[0m\u001b[1;33m\u001b[0m\u001b[1;33m\u001b[0m\u001b[0m\n\u001b[1;32m----> 7\u001b[1;33m     \u001b[1;32mreturn\u001b[0m \u001b[0mn\u001b[0m \u001b[1;33m*\u001b[0m \u001b[0mfactorial\u001b[0m\u001b[1;33m(\u001b[0m\u001b[0mn\u001b[0m\u001b[1;33m-\u001b[0m\u001b[1;36m1\u001b[0m\u001b[1;33m)\u001b[0m\u001b[1;33m\u001b[0m\u001b[1;33m\u001b[0m\u001b[0m\n\u001b[0m\u001b[0;32m      8\u001b[0m \u001b[1;33m\u001b[0m\u001b[0m\n\u001b[0;32m      9\u001b[0m \u001b[0mprint\u001b[0m\u001b[1;33m(\u001b[0m\u001b[0mfactorial\u001b[0m\u001b[1;33m(\u001b[0m\u001b[1;36m12000\u001b[0m\u001b[1;33m)\u001b[0m\u001b[1;33m)\u001b[0m\u001b[1;33m\u001b[0m\u001b[1;33m\u001b[0m\u001b[0m\n",
      "\u001b[1;31mRecursionError\u001b[0m: maximum recursion depth exceeded in comparison"
     ]
    }
   ],
   "source": [
    "# Define factorial() below:\n",
    "def factorial(n):\n",
    "  #base case\n",
    "  if n == 1:\n",
    "    return n\n",
    "  else:\n",
    "    return n * factorial(n-1)\n",
    "\n",
    "print(factorial(12000)) #Recursion Error / stack overflow"
   ]
  },
  {
   "cell_type": "markdown",
   "metadata": {},
   "source": [
    "## power set (iter. ver.)"
   ]
  },
  {
   "cell_type": "code",
   "execution_count": 55,
   "metadata": {},
   "outputs": [
    {
     "name": "stdout",
     "output_type": "stream",
     "text": [
      "0 1 0 False\n",
      "0 2 0 False\n",
      "0 4 0 False\n",
      "[]\n",
      "1 1 1 True\n",
      "1 2 0 False\n",
      "1 4 0 False\n",
      "['a']\n",
      "2 1 0 False\n",
      "2 2 2 True\n",
      "2 4 0 False\n",
      "['b']\n",
      "3 1 1 True\n",
      "3 2 2 True\n",
      "3 4 0 False\n",
      "['a', 'b']\n",
      "4 1 0 False\n",
      "4 2 0 False\n",
      "4 4 4 True\n",
      "['c']\n",
      "5 1 1 True\n",
      "5 2 0 False\n",
      "5 4 4 True\n",
      "['a', 'c']\n",
      "6 1 0 False\n",
      "6 2 2 True\n",
      "6 4 4 True\n",
      "['b', 'c']\n",
      "7 1 1 True\n",
      "7 2 2 True\n",
      "7 4 4 True\n",
      "['a', 'b', 'c']\n"
     ]
    },
    {
     "data": {
      "text/plain": [
       "[[], ['a'], ['b'], ['a', 'b'], ['c'], ['a', 'c'], ['b', 'c'], ['a', 'b', 'c']]"
      ]
     },
     "execution_count": 55,
     "metadata": {},
     "output_type": "execute_result"
    }
   ],
   "source": [
    "def power_set(set):\n",
    "  power_set_size = 2**len(set)\n",
    "  result = []\n",
    " \n",
    "  for bit in range(0, power_set_size):\n",
    "    sub_set = []\n",
    "    for binary_digit in range(0, len(set)):\n",
    "      print(bit, 1 << binary_digit, (bit & (1 << binary_digit)), (bit & (1 << binary_digit)) > 0)\n",
    "      if((bit & (1 << binary_digit)) > 0):\n",
    "        sub_set.append(set[binary_digit])\n",
    "    print(sub_set)\n",
    "    result.append(sub_set)\n",
    "  return result\n",
    "\n",
    "power_set(['a', 'b', 'c'])"
   ]
  },
  {
   "cell_type": "code",
   "execution_count": 39,
   "metadata": {},
   "outputs": [
    {
     "name": "stdout",
     "output_type": "stream",
     "text": [
      "1\n",
      "\n",
      "1\n",
      "1\n",
      "\n",
      "10\n",
      "2\n",
      "\n",
      "100\n",
      "4\n"
     ]
    }
   ],
   "source": [
    "# << : 位運算, 相當於將數字往左推\n",
    "print(format(1, 'b'))\n",
    "print()\n",
    "print(format(1 << 0 , 'b'))\n",
    "print(1 << 0)\n",
    "print()\n",
    "print(format(1 << 1 , 'b'))\n",
    "print(1 << 1)\n",
    "print()\n",
    "print(format(1 << 2, 'b'))\n",
    "print(1 << 2)"
   ]
  },
  {
   "cell_type": "code",
   "execution_count": 44,
   "metadata": {},
   "outputs": [
    {
     "name": "stdout",
     "output_type": "stream",
     "text": [
      "101\n",
      "\n",
      "1010\n",
      "10\n",
      "\n",
      "10100\n",
      "20\n"
     ]
    }
   ],
   "source": [
    "print(format(5, 'b'))\n",
    "print()\n",
    "print(format(5 << 1, 'b'))\n",
    "print(5 << 1)\n",
    "print()\n",
    "print(format(5 << 2, 'b'))\n",
    "print(5 << 2)"
   ]
  },
  {
   "cell_type": "code",
   "execution_count": 45,
   "metadata": {},
   "outputs": [
    {
     "name": "stdout",
     "output_type": "stream",
     "text": [
      "1\n",
      "0\n"
     ]
    },
    {
     "data": {
      "text/plain": [
       "0"
      ]
     },
     "execution_count": 45,
     "metadata": {},
     "output_type": "execute_result"
    }
   ],
   "source": [
    "# & : 對位元進行AND的運算\n",
    "print(format(1, 'b'))\n",
    "print(format(0, 'b'))\n",
    "1 & 0"
   ]
  },
  {
   "cell_type": "code",
   "execution_count": 47,
   "metadata": {},
   "outputs": [
    {
     "name": "stdout",
     "output_type": "stream",
     "text": [
      "1\n",
      "1\n"
     ]
    },
    {
     "data": {
      "text/plain": [
       "1"
      ]
     },
     "execution_count": 47,
     "metadata": {},
     "output_type": "execute_result"
    }
   ],
   "source": [
    "print(format(1, 'b'))\n",
    "print(format(1, 'b'))\n",
    "1 & 1"
   ]
  },
  {
   "cell_type": "code",
   "execution_count": 54,
   "metadata": {},
   "outputs": [
    {
     "name": "stdout",
     "output_type": "stream",
     "text": [
      "110\n",
      "11\n"
     ]
    },
    {
     "data": {
      "text/plain": [
       "2"
      ]
     },
     "execution_count": 54,
     "metadata": {},
     "output_type": "execute_result"
    }
   ],
   "source": [
    "print(format(6, 'b')) #110\n",
    "print(format(3, 'b')) #011\n",
    "6 & 3 # = 2 = 010 in 二進位"
   ]
  },
  {
   "cell_type": "markdown",
   "metadata": {},
   "source": [
    "## power set (recur. ver.)"
   ]
  },
  {
   "cell_type": "code",
   "execution_count": 61,
   "metadata": {},
   "outputs": [
    {
     "name": "stdout",
     "output_type": "stream",
     "text": [
      "[['b']]\n",
      "[['a', 'b'], ['a']]\n",
      "\n",
      "['a', 'b']\n",
      "['a']\n",
      "['b']\n",
      "[]\n"
     ]
    }
   ],
   "source": [
    "def power_set(my_list):\n",
    "    # base case: an empty list\n",
    "    if len(my_list) == 0:\n",
    "        return [[]]\n",
    "    # recursive step: subsets without first element\n",
    "    power_set_without_first = power_set(my_list[1:])\n",
    "    # subsets with first element\n",
    "    with_first = [ [my_list[0]] + rest for rest in power_set_without_first ]\n",
    "    print(with_first)\n",
    "    # return combination of the two\n",
    "    return with_first + power_set_without_first\n",
    "  \n",
    "universities = ['a', 'b']\n",
    "power_set_of_universities = power_set(universities)\n",
    "print()\n",
    "for set in power_set_of_universities:\n",
    "  print(set)\n"
   ]
  },
  {
   "cell_type": "code",
   "execution_count": 62,
   "metadata": {},
   "outputs": [
    {
     "data": {
      "text/plain": [
       "['a', 'b']"
      ]
     },
     "execution_count": 62,
     "metadata": {},
     "output_type": "execute_result"
    }
   ],
   "source": [
    "a = ['a']\n",
    "b = ['b']\n",
    "a + b"
   ]
  },
  {
   "cell_type": "markdown",
   "metadata": {},
   "source": [
    "## flatten a list (recur. ver.)"
   ]
  },
  {
   "cell_type": "code",
   "execution_count": 63,
   "metadata": {},
   "outputs": [
    {
     "name": "stdout",
     "output_type": "stream",
     "text": [
      "list found!\n",
      "list found!\n",
      "list found!\n",
      "list found!\n",
      "['mercury', 'venus', 'earth', 'mars', 'jupiter', 'saturn', 'uranus', 'neptune', 'pluto']\n"
     ]
    }
   ],
   "source": [
    "def flatten(my_list):\n",
    "  result = []\n",
    "  for element in my_list:\n",
    "    if isinstance(element, list):\n",
    "      print(\"list found!\")\n",
    "      #return a list\n",
    "      flat_list = flatten(element)\n",
    "      #listA + listB = listA.extend(listB)\n",
    "      result += flat_list\n",
    "    else:\n",
    "      result.append(element)\n",
    "  return result\n",
    "\n",
    "### reserve for testing...\n",
    "planets = ['mercury', 'venus', ['earth'], 'mars', [['jupiter', 'saturn']], 'uranus', ['neptune', 'pluto']]\n",
    "print(flatten(planets))"
   ]
  },
  {
   "cell_type": "markdown",
   "metadata": {},
   "source": [
    "## Fibonacci (recur. ver.)"
   ]
  },
  {
   "cell_type": "code",
   "execution_count": 64,
   "metadata": {},
   "outputs": [
    {
     "name": "stdout",
     "output_type": "stream",
     "text": [
      "610\n"
     ]
    }
   ],
   "source": [
    "def fibonacci(n):\n",
    "  if n == 1:\n",
    "    return 1\n",
    "  if n == 0:\n",
    "    return 0\n",
    "  else:\n",
    "    return fibonacci(n-1) + fibonacci(n-2)\n",
    "\n",
    "\n",
    "\n",
    "print(fibonacci(15))\n",
    "# set the appropriate runtime:\n",
    "# 1, logN, N, N^2, 2^N, N!\n",
    "fibonacci_runtime = \"2^N\""
   ]
  },
  {
   "attachments": {
    "d261944b-0a72-4641-9ca6-32b21d371b7c.png": {
     "image/png": "[encoded data removed]"
    }
   },
   "cell_type": "markdown",
   "metadata": {},
   "source": [
    "## binary search tree (bst)\n",
    "- building (this function) : O(N logN)\n",
    "- searching : O(logN)\n",
    "\n",
    "![image.png](attachment:d261944b-0a72-4641-9ca6-32b21d371b7c.png)"
   ]
  },
  {
   "cell_type": "code",
   "execution_count": 66,
   "metadata": {},
   "outputs": [
    {
     "name": "stdout",
     "output_type": "stream",
     "text": [
      "Middle index: 2\n",
      "Middle value: 14\n",
      "Middle index: 1\n",
      "Middle value: 13\n",
      "Middle index: 0\n",
      "Middle value: 12\n",
      "Middle index: 1\n",
      "Middle value: 16\n",
      "Middle index: 0\n",
      "Middle value: 15\n",
      "{'data': 14, 'left_child': {'data': 13, 'left_child': {'data': 12, 'left_child': 'No Child', 'right_child': 'No Child'}, 'right_child': 'No Child'}, 'right_child': {'data': 16, 'left_child': {'data': 15, 'left_child': 'No Child', 'right_child': 'No Child'}, 'right_child': 'No Child'}}\n"
     ]
    }
   ],
   "source": [
    "def build_bst(my_list):\n",
    "  #base case\n",
    "  if not my_list:\n",
    "    return \"No Child\"\n",
    "  middle_idx = len(my_list) // 2\n",
    "  middle_value = my_list[middle_idx]\n",
    "  print(\"Middle index: {0}\".format(middle_idx))\n",
    "  print(\"Middle value: {0}\".format(middle_value))\n",
    "  tree_node = {\"data\" : middle_value, \"left_child\" : build_bst(my_list[:middle_idx]), \"right_child\" : build_bst(my_list[middle_idx + 1:])}\n",
    "  return tree_node\n",
    "# For testing\n",
    "sorted_list = [12, 13, 14, 15, 16]\n",
    "binary_search_tree = build_bst(sorted_list)\n",
    "print(binary_search_tree)\n",
    "\n",
    "# fill in the runtime as a string\n",
    "# 1, logN, N, N*logN, N^2, 2^N, N!\n",
    "runtime = \"N*logN\""
   ]
  },
  {
   "cell_type": "markdown",
   "metadata": {},
   "source": [
    "## Find the node recursively in a linked list"
   ]
  },
  {
   "cell_type": "code",
   "execution_count": null,
   "metadata": {},
   "outputs": [],
   "source": [
    "from Node import Node\n",
    "\n",
    "class LinkedList:\n",
    "  def __init__(self, value=None):\n",
    "    self.head_node = Node(value)\n",
    "  \n",
    "  def get_head_node(self):\n",
    "    return self.head_node\n",
    "  \n",
    "  def insert_beginning(self, new_value):\n",
    "    new_node = Node(new_value)\n",
    "    new_node.set_next_node(self.head_node)\n",
    "    self.head_node = new_node\n",
    "    \n",
    "  def stringify_list(self):\n",
    "    string_list = \"\"\n",
    "    current_node = self.get_head_node()\n",
    "    while current_node:\n",
    "      if current_node.get_value() != None:\n",
    "        string_list += str(current_node.get_value()) + \"\\n\"\n",
    "      current_node = current_node.get_next_node()\n",
    "    return string_list\n",
    "  \n",
    "  def remove_node(self, value_to_remove):\n",
    "    current_node = self.get_head_node()\n",
    "    if current_node.get_value() == value_to_remove:\n",
    "      self.head_node = current_node.get_next_node()\n",
    "    else:\n",
    "      while current_node:\n",
    "        next_node = current_node.get_next_node()\n",
    "        if next_node.get_value() == value_to_remove:\n",
    "          current_node.set_next_node(next_node.get_next_node())\n",
    "          current_node = None\n",
    "        else:\n",
    "          current_node = next_node\n",
    "    \n",
    "  def find_node_iteratively(self, value):\n",
    "    current_node = self.head_node\n",
    "    \n",
    "    while current_node:\n",
    "      if current_node.value == value:\n",
    "        return current_node\n",
    "      current_node = current_node.get_next_node()\n",
    "      \n",
    "    return None\n",
    "    \n",
    "  def find_node_recursively(self, value, current_node):\n",
    "    if current_node == None:\n",
    "      return None\n",
    "    elif current_node.value == value:\n",
    "      return current_node\n",
    "    else:\n",
    "      return self.find_node_recursively(value, current_node.get_next_node())"
   ]
  },
  {
   "cell_type": "markdown",
   "metadata": {},
   "source": [
    "# Merge Sort"
   ]
  },
  {
   "cell_type": "code",
   "execution_count": 9,
   "metadata": {},
   "outputs": [
    {
     "name": "stdout",
     "output_type": "stream",
     "text": [
      "[125, 264, 356, 455, 569, 746, 895, 949]\n",
      "[19, 113, 180, 201, 202, 268, 276, 318, 370, 373, 391, 403, 534, 543, 571, 595, 624, 677, 717, 770, 787, 795, 975]\n",
      "[147, 151, 380, 387, 439, 542, 585, 743, 820, 860, 865, 924]\n"
     ]
    }
   ],
   "source": [
    "def merge_sort(items):\n",
    "  if len(items) <= 1:\n",
    "    return items\n",
    "\n",
    "  middle_index = len(items) // 2\n",
    "  left_split = items[:middle_index]\n",
    "  right_split = items[middle_index:]\n",
    "\n",
    "  left_sorted = merge_sort(left_split)\n",
    "  right_sorted = merge_sort(right_split)\n",
    "\n",
    "  return merge(left_sorted, right_sorted)\n",
    "\n",
    "def merge(left, right):\n",
    "  result = []\n",
    "\n",
    "  while (left and right):\n",
    "    if left[0] < right[0]:\n",
    "      result.append(left[0])\n",
    "      left.pop(0)\n",
    "    else:\n",
    "      result.append(right[0])\n",
    "      right.pop(0)\n",
    "\n",
    "  if left:\n",
    "    result += left\n",
    "  if right:\n",
    "    result += right\n",
    "\n",
    "  return result\n",
    "\n",
    "unordered_list1 = [356, 746, 264, 569, 949, 895, 125, 455]\n",
    "unordered_list2 = [787, 677, 391, 318, 543, 717, 180, 113, 795, 19, 202, 534, 201, 370, 276, 975, 403, 624, 770, 595, 571, 268, 373]\n",
    "unordered_list3 = [860, 380, 151, 585, 743, 542, 147, 820, 439, 865, 924, 387]\n",
    "ordered_list1 = merge_sort(unordered_list1)\n",
    "ordered_list2 = merge_sort(unordered_list2)\n",
    "ordered_list3 = merge_sort(unordered_list3)\n",
    "print(ordered_list1)\n",
    "print(ordered_list2)\n",
    "print(ordered_list3)"
   ]
  },
  {
   "cell_type": "markdown",
   "metadata": {},
   "source": [
    "# Quick Sort"
   ]
  },
  {
   "cell_type": "code",
   "execution_count": 10,
   "metadata": {},
   "outputs": [],
   "source": [
    "#detailed explaination of two pointers algo.\n",
    "\n",
    "# [5, 6, 2, 3, 1, 4]\n",
    "# # we randomly select \"3\" and swap with the last element\n",
    "# [5, 6, 2, 4, 1, 3]\n",
    " \n",
    "# # We'll use () to mark our \"lesser than\" pointer\n",
    "# # We'll use {} to mark our progress through the list\n",
    " \n",
    "# [{(5)}, 6, 2, 4, 1, 3]\n",
    "# # {5} is not less than 3, so the \"lesser than\" pointer doesn't move\n",
    " \n",
    "# [(5), {6}, 2, 4, 1, 3]\n",
    "# # {6} is not less than 3, so the \"lesser than\" pointer doesn't move\n",
    " \n",
    "# [(5), 6, {2}, 4, 1, 3]\n",
    "# # {2} is less than 3, so we SWAP the values...\n",
    "# [(2), 6, {5}, 4, 1, 3]\n",
    "# # Then we increment the \"lesser than\" pointer\n",
    "# [2, (6), {5}, 4, 1, 3]\n",
    " \n",
    "# [2, (6), 5, {4}, 1, 3]\n",
    "# # {4} is not less than 3, so the \"lesser than\" pointer doesn't move\n",
    " \n",
    "# [2, (6), 5, 4, {1}, 3]\n",
    "# # {1} is less than 3, so we SWAP the values...\n",
    "# [2, (1), 5, 4, {6}, 3]\n",
    "# # Then we increment the \"lesser than\" pointer\n",
    "# [2, 1, (5), 4, {6}, 3]\n",
    " \n",
    "# # We've reached the end of the non-pivot values\n",
    "# [2, 1, (5), 4, 6, {3}]\n",
    "# # Swap the \"lesser than\" pointer with the pivot...\n",
    "# [2, 1, (3), 4, 6, {5}]"
   ]
  },
  {
   "cell_type": "code",
   "execution_count": 141,
   "metadata": {},
   "outputs": [
    {
     "name": "stdout",
     "output_type": "stream",
     "text": [
      "PRE SORT:  [5, 4, 7, 6, 1, 3, 2, 8]\n",
      "Running quicksort on [5, 4, 7, 6, 1, 3, 2, 8]\n",
      "Selected pivot 2\n",
      "Swapping 1 with 2\n",
      "[1, 2, 7, 6, 5, 3, 8, 4] successfully partitioned\n",
      "Running quicksort on [7, 6, 5, 3, 8, 4]\n",
      "Selected pivot 4\n",
      "Swapping 3 with 4\n",
      "[3, 4, 5, 7, 8, 6] successfully partitioned\n",
      "Running quicksort on [5, 7, 8, 6]\n",
      "Selected pivot 5\n",
      "[5, 7, 8, 6] successfully partitioned\n",
      "Running quicksort on [7, 8, 6]\n",
      "Selected pivot 6\n",
      "[6, 8, 7] successfully partitioned\n",
      "Running quicksort on [8, 7]\n",
      "Selected pivot 7\n",
      "[7, 8] successfully partitioned\n",
      "None\n",
      "POST SORT:  [1, 2, 3, 4, 5, 6, 7, 8]\n"
     ]
    }
   ],
   "source": [
    "from random import randrange, shuffle\n",
    "\n",
    "def quicksort(list, start, end):\n",
    "  # this portion of list has been sorted\n",
    "  if start >= end:\n",
    "    return\n",
    "  print(\"Running quicksort on {0}\".format(list[start: end + 1]))\n",
    "  # select random element to be pivot\n",
    "  pivot_idx = randrange(start, end + 1)\n",
    "  pivot_element = list[pivot_idx]\n",
    "  print(\"Selected pivot {0}\".format(pivot_element))\n",
    "  # swap random element with last element in sub-lists\n",
    "  list[end], list[pivot_idx] = list[pivot_idx], list[end]\n",
    "\n",
    "  # tracks all elements which should be to left (lesser than) pivot\n",
    "  less_than_pointer = start\n",
    "  \n",
    "  for i in range(start, end):\n",
    "    # we found an element out of place\n",
    "    if list[i] < pivot_element:\n",
    "      # swap element to the right-most portion of lesser elements\n",
    "      print(\"Swapping {0} with {1}\".format(list[i], pivot_element))\n",
    "      list[i], list[less_than_pointer] = list[less_than_pointer], list[i]\n",
    "      # tally that we have one more lesser element\n",
    "      less_than_pointer += 1\n",
    "  # move pivot element to the right-most portion of lesser elements\n",
    "  list[end], list[less_than_pointer] = list[less_than_pointer], list[end]\n",
    "  print(\"{0} successfully partitioned\".format(list[start: end + 1]))\n",
    "  # recursively sort left and right sub-lists\n",
    "  quicksort(list, start, less_than_pointer - 1)\n",
    "  quicksort(list, less_than_pointer + 1, end)\n",
    "\n",
    "\n",
    "    \n",
    "  \n",
    "list = [5,3,1,7,4,6,2,8]\n",
    "shuffle(list)\n",
    "print(\"PRE SORT: \", list)\n",
    "print(quicksort(list, 0, len(list) -1))\n",
    "print(\"POST SORT: \", list)"
   ]
  },
  {
   "cell_type": "markdown",
   "metadata": {},
   "source": [
    "# Radix Sort"
   ]
  },
  {
   "cell_type": "code",
   "execution_count": 1,
   "metadata": {},
   "outputs": [
    {
     "name": "stdout",
     "output_type": "stream",
     "text": [
      "[1, 40, 89, 163, 182, 183, 199, 355, 373, 524, 535, 559, 621, 641, 689, 830, 921, 959, 961]\n"
     ]
    }
   ],
   "source": [
    "def radix_sort(to_be_sorted):\n",
    "  maximum_value = max(to_be_sorted)\n",
    "  max_exponent = len(str(maximum_value))\n",
    "  being_sorted = to_be_sorted[:]\n",
    "\n",
    "  for exponent in range(max_exponent):\n",
    "    position = exponent + 1\n",
    "    index = -position\n",
    "\n",
    "    digits = [[] for i in range(10)]\n",
    "\n",
    "    for number in being_sorted:\n",
    "      number_as_a_string = str(number)\n",
    "      try:\n",
    "        digit = number_as_a_string[index]\n",
    "      except IndexError:\n",
    "        digit = 0\n",
    "      digit = int(digit)\n",
    "\n",
    "      digits[digit].append(number)\n",
    "\n",
    "    being_sorted = []\n",
    "    for numeral in digits:\n",
    "      being_sorted.extend(numeral)\n",
    "\n",
    "  return being_sorted\n",
    "\n",
    "unsorted_list = [830, 921, 163, 373, 961, 559, 89, 199, 535, 959, 40, 641, 355, 689, 621, 183, 182, 524, 1]\n",
    "print(radix_sort(unsorted_list))"
   ]
  }
 ],
 "metadata": {
  "kernelspec": {
   "display_name": "test",
   "language": "python",
   "name": "test"
  },
  "language_info": {
   "codemirror_mode": {
    "name": "ipython",
    "version": 3
   },
   "file_extension": ".py",
   "mimetype": "text/x-python",
   "name": "python",
   "nbconvert_exporter": "python",
   "pygments_lexer": "ipython3",
   "version": "3.6.8"
  }
 },
 "nbformat": 4,
 "nbformat_minor": 4
}
