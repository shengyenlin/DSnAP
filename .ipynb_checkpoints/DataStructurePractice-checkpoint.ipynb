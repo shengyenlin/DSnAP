{
 "cells": [
  {
   "cell_type": "markdown",
   "metadata": {},
   "source": [
    "## Node"
   ]
  },
  {
   "cell_type": "code",
   "execution_count": 1,
   "metadata": {},
   "outputs": [
    {
     "name": "stdout",
     "output_type": "stream",
     "text": [
      "enjoys spending time in movie lots\n",
      "has a penchant for hoarding snacks\n"
     ]
    }
   ],
   "source": [
    "class Node:\n",
    "    def __init__(self, value, link_node=None):\n",
    "        self.value = value\n",
    "        self.link_node = link_node\n",
    "\n",
    "    def set_next_node(self, link_node): #setters\n",
    "        self.link_node = link_node\n",
    "\n",
    "    def get_next_node(self): #getters\n",
    "        return self.link_node\n",
    "\n",
    "    def get_value(self): #getter\n",
    "        return self.value\n",
    "\n",
    "yacko = Node(\"likes to yak\")\n",
    "wacko = Node(\"has a penchant for hoarding snacks\")\n",
    "dot = Node(\"enjoys spending time in movie lots\")\n",
    "\n",
    "yacko.set_next_node(dot)\n",
    "dot.set_next_node(wacko)\n",
    "\n",
    "dots_data = yacko.get_next_node().get_value()\n",
    "wackos_data = dot.get_next_node().get_value()\n",
    "print(dots_data)\n",
    "print(wackos_data)"
   ]
  },
  {
   "cell_type": "markdown",
   "metadata": {},
   "source": [
    "## Linked List\n",
    "- need to iterate through the entire list to add a tail node"
   ]
  },
  {
   "cell_type": "code",
   "execution_count": 1,
   "metadata": {},
   "outputs": [],
   "source": [
    "class Node:\n",
    "    def __init__(self, value, next_node=None):\n",
    "        self.value = value\n",
    "        self.next_node = next_node\n",
    "\n",
    "    def get_value(self):\n",
    "        return self.value\n",
    "\n",
    "    def get_next_node(self):\n",
    "        return self.next_node\n",
    "\n",
    "    def set_next_node(self, next_node):\n",
    "        self.next_node = next_node\n",
    "        \n",
    "class LinkedList:\n",
    "    def __init__(self, value=None):\n",
    "        self.head_node = Node(value)\n",
    "\n",
    "    def get_head_node(self):\n",
    "        return self.head_node\n",
    "\n",
    "    def insert_beginning(self, new_value):\n",
    "        new_node = Node(new_value)\n",
    "        new_node.set_next_node(self.head_node)\n",
    "        self.head_node = new_node\n",
    "\n",
    "    def stringify_list(self):\n",
    "        string_list = \"\"\n",
    "        current_node = self.get_head_node()\n",
    "        while current_node:\n",
    "            if current_node.get_value() != None:\n",
    "                string_list += str(current_node.get_value()) + \" \"\n",
    "            current_node = current_node.get_next_node()\n",
    "        return string_list\n",
    "\n",
    "    def remove_node(self, value_to_remove):\n",
    "        current_node = self.get_head_node()\n",
    "        if current_node.get_value() == value_to_remove:\n",
    "            self.head_node = current_node.get_next_node()\n",
    "        else:\n",
    "            while current_node:\n",
    "                next_node = current_node.get_next_node()\n",
    "                if next_node.get_value() == value_to_remove:\n",
    "                    current_node.set_next_node(next_node.get_next_node())\n",
    "                    current_node = None\n",
    "                else:\n",
    "                    current_node = next_node"
   ]
  },
  {
   "cell_type": "code",
   "execution_count": 2,
   "metadata": {},
   "outputs": [
    {
     "name": "stdout",
     "output_type": "stream",
     "text": [
      "9 8 7 6 5 4 3 2 1 0 \n",
      "9 8 7 5 4 3 2 1 0 \n"
     ]
    }
   ],
   "source": [
    "ll = LinkedList()\n",
    "for i in range(10):\n",
    "    ll.insert_beginning(i)\n",
    "\n",
    "print(ll.stringify_list())\n",
    "\n",
    "ll.remove_node(6)\n",
    "print(ll.stringify_list())"
   ]
  },
  {
   "cell_type": "markdown",
   "metadata": {},
   "source": [
    "## Swap two nodes in Linked List"
   ]
  },
  {
   "cell_type": "code",
   "execution_count": null,
   "metadata": {},
   "outputs": [],
   "source": [
    "import Node\n",
    "import LinkedList"
   ]
  },
  {
   "cell_type": "code",
   "execution_count": 5,
   "metadata": {},
   "outputs": [],
   "source": [
    "def swap_nodes(input_list, val1, val2):\n",
    "    print(f'Swapping {val1} with {val2}')\n",
    "    \n",
    "    node1_prev = None\n",
    "    node2_prev = None\n",
    "    node1 = input_list.head_node\n",
    "    node2 = input_list.head_node\n",
    "    \n",
    "    if val1 == val2:\n",
    "        print(\"Elements are the same - no swap needed\")\n",
    "        return None\n",
    "    \n",
    "    #iterate through the linked list to find node that matching val1\n",
    "    while node1 is not None:\n",
    "        if node1.get_value() is val1:\n",
    "            break\n",
    "        node1_prev = node1\n",
    "        node1 = node1.get_next_node()\n",
    "    #iterate through the linked list to find node that matching val2\n",
    "    while node2 is not None:\n",
    "        if node2.get_value() is val2:\n",
    "            break\n",
    "        node2_prev = node2\n",
    "        node2 = node2.get_next_node()\n",
    "    \n",
    "    if (node1 is None or node2 is None):\n",
    "        print(\"Swap not possible - one or more element is not in the list\")\n",
    "        return None\n",
    "    \n",
    "    #previous node is None = this node is head\n",
    "    if node1_prev is None:\n",
    "        input_list.head_node = node2\n",
    "    else:\n",
    "        node1_prev.set_next_node(node2)\n",
    "        \n",
    "    if node2_prev is None:\n",
    "        input_list.head_node = node1\n",
    "    else:\n",
    "        node2_prev.set_next_node(node1)\n",
    "        \n",
    "    #set pointers of node1 and node2\n",
    "    temp = node1.get_next_node()\n",
    "    node1.set_next_node(node2.get_next_node())\n",
    "    node2.set_next_node(temp)"
   ]
  },
  {
   "cell_type": "code",
   "execution_count": 6,
   "metadata": {},
   "outputs": [
    {
     "name": "stdout",
     "output_type": "stream",
     "text": [
      "9 8 7 6 5 4 3 2 1 0 \n",
      "Swapping 2 with 4\n",
      "9 8 7 6 5 2 3 4 1 0 \n"
     ]
    }
   ],
   "source": [
    "ll = LinkedList()\n",
    "for i in range(10):\n",
    "    ll.insert_beginning(i)\n",
    "\n",
    "print(ll.stringify_list())\n",
    "swap_nodes(ll, 2, 4)\n",
    "print(ll.stringify_list())"
   ]
  },
  {
   "cell_type": "markdown",
   "metadata": {},
   "source": [
    "## Get the nth last element of a singly linked list"
   ]
  },
  {
   "cell_type": "code",
   "execution_count": 52,
   "metadata": {},
   "outputs": [
    {
     "name": "stdout",
     "output_type": "stream",
     "text": [
      "7779\n"
     ]
    }
   ],
   "source": [
    "#from LinkedList import LinkedList\n",
    "\n",
    "def nth_last_node(linked_list, n):\n",
    "    nth_last_pointer = None\n",
    "    tail_pointer = linked_list.head_node\n",
    "    count = 1 \n",
    "\n",
    "    while tail_pointer.value is not None:\n",
    "        tail_pointer = tail_pointer.get_next_node()\n",
    "        count += 1\n",
    "        if count >= n+1:\n",
    "            if nth_last_pointer is None:\n",
    "                nth_last_pointer = linked_list.head_node\n",
    "            else:\n",
    "                nth_last_pointer = nth_last_pointer.get_next_node()\n",
    "\n",
    "        #print(f\"the position of tail_pointer is {count}\")\n",
    "        #print(tail_pointer)\n",
    "        #print(tail_pointer.value, nth_last_pointer.value)\n",
    "    return nth_last_pointer\n",
    "\n",
    "def generate_test_linked_list():\n",
    "    linked_list = LinkedList()\n",
    "    for i in range(7834, 0, -1):\n",
    "        linked_list.insert_beginning(i)\n",
    "    return linked_list\n",
    "\n",
    "# Use this to test your code:\n",
    "test_list = generate_test_linked_list()\n",
    "#print(test_list.stringify_list())\n",
    "nth_last = nth_last_node(test_list, 56)\n",
    "print(nth_last.value)"
   ]
  },
  {
   "cell_type": "markdown",
   "metadata": {},
   "source": [
    "## Find middle node"
   ]
  },
  {
   "cell_type": "code",
   "execution_count": 114,
   "metadata": {},
   "outputs": [
    {
     "name": "stdout",
     "output_type": "stream",
     "text": [
      "1 2 3 4 \n",
      "3\n"
     ]
    }
   ],
   "source": [
    "def find_middle(linked_list):\n",
    "    fast_pointer = linked_list.head_node\n",
    "    slow_pointer = linked_list.head_node\n",
    "    while fast_pointer.value:\n",
    "        #print(fast_pointer.value)\n",
    "        fast_pointer = fast_pointer.get_next_node()\n",
    "        if fast_pointer.value:\n",
    "            #print(fast_pointer)\n",
    "            fast_pointer = fast_pointer.get_next_node()\n",
    "            slow_pointer = slow_pointer.get_next_node()\n",
    "    return slow_pointer\n",
    "\n",
    "def generate_test_linked_list(length):\n",
    "    linked_list = LinkedList()\n",
    "    for i in range(length, 0, -1):\n",
    "        linked_list.insert_beginning(i)\n",
    "    return linked_list\n",
    "\n",
    "# Use this to test your code:\n",
    "test_list = generate_test_linked_list(4)\n",
    "print(test_list.stringify_list())\n",
    "middle_node = find_middle(test_list)\n",
    "print(middle_node.value)"
   ]
  },
  {
   "cell_type": "code",
   "execution_count": 103,
   "metadata": {},
   "outputs": [
    {
     "name": "stdout",
     "output_type": "stream",
     "text": [
      "True\n"
     ]
    }
   ],
   "source": [
    "print(None is None)"
   ]
  },
  {
   "cell_type": "markdown",
   "metadata": {},
   "source": [
    "## Doubly Linked List\n",
    "- Not need to iterate through the entire list to add a tail node since it's bidirectional"
   ]
  },
  {
   "cell_type": "code",
   "execution_count": null,
   "metadata": {},
   "outputs": [],
   "source": [
    "class Node:\n",
    "    def __init__(self, value, next_node=None, prev_node=None):\n",
    "        self.value = value\n",
    "        self.next_node = next_node\n",
    "        self.prev_node = prev_node\n",
    "    \n",
    "    def set_next_node(self, next_node):\n",
    "        self.next_node = next_node\n",
    "    \n",
    "    def get_next_node(self):\n",
    "        return self.next_node\n",
    "\n",
    "    def set_prev_node(self, prev_node):\n",
    "        self.prev_node = prev_node\n",
    "    \n",
    "    def get_prev_node(self):\n",
    "        return self.prev_node\n",
    "  \n",
    "    def get_value(self):\n",
    "        return self.value\n",
    "\n",
    "\n",
    "class DoublyLinkedList:\n",
    "    def __init__(self):\n",
    "        self.head_node = None\n",
    "        self.tail_node = None\n",
    "  \n",
    "    def add_to_head(self, new_value):\n",
    "        new_head = Node(new_value)\n",
    "        current_head = self.head_node\n",
    "\n",
    "        if current_head != None:\n",
    "            current_head.set_prev_node(new_head)\n",
    "            new_head.set_next_node(current_head)\n",
    "\n",
    "        self.head_node = new_head\n",
    "\n",
    "        if self.tail_node == None:\n",
    "            self.tail_node = new_head\n",
    "\n",
    "    def add_to_tail(self, new_value):\n",
    "        new_tail = Node(new_value)\n",
    "        current_tail = self.tail_node\n",
    "\n",
    "        if current_tail != None:\n",
    "            current_tail.set_next_node(new_tail)\n",
    "            new_tail.set_prev_node(current_tail)\n",
    "\n",
    "        self.tail_node = new_tail\n",
    "\n",
    "        if self.head_node == None:\n",
    "            self.head_node = new_tail\n",
    "\n",
    "    def remove_head(self):\n",
    "        removed_head = self.head_node\n",
    "\n",
    "        if removed_head == None:\n",
    "            return None\n",
    "\n",
    "        self.head_node = removed_head.get_next_node()\n",
    "\n",
    "        if self.head_node != None:\n",
    "            self.head_node.set_prev_node(None)\n",
    "\n",
    "        if removed_head == self.tail_node:\n",
    "            self.remove_tail()\n",
    "\n",
    "        return removed_head.get_value()\n",
    "\n",
    "    def remove_tail(self):\n",
    "        removed_tail = self.tail_node\n",
    "\n",
    "        if removed_tail == None:\n",
    "            return None\n",
    "\n",
    "        self.tail_node = removed_tail.get_prev_node()\n",
    "\n",
    "        if self.tail_node != None:\n",
    "            self.tail_node.set_next_node(None)\n",
    "\n",
    "        if removed_tail == self.head_node:\n",
    "            self.remove_head()\n",
    "\n",
    "        return removed_tail.get_value()\n",
    "\n",
    "    def remove_by_value(self, value_to_remove):\n",
    "        node_to_remove = None\n",
    "        current_node = self.head_node\n",
    "\n",
    "        while current_node != None:\n",
    "            if current_node.get_value() == value_to_remove:\n",
    "            node_to_remove = current_node\n",
    "            break\n",
    "\n",
    "        current_node = current_node.get_next_node()\n",
    "\n",
    "        if node_to_remove == None:\n",
    "            return None\n",
    "\n",
    "        if node_to_remove == self.head_node:\n",
    "            self.remove_head()\n",
    "        elif node_to_remove == self.tail_node:\n",
    "            self.remove_tail()\n",
    "        else:\n",
    "            next_node = node_to_remove.get_next_node()\n",
    "            prev_node = node_to_remove.get_prev_node()\n",
    "            next_node.set_prev_node(prev_node)\n",
    "            prev_node.set_next_node(next_node)\n",
    "\n",
    "        return node_to_remove\n",
    "\n",
    "    def stringify_list(self):\n",
    "        string_list = \"\"\n",
    "        current_node = self.head_node\n",
    "        while current_node:\n",
    "            if current_node.get_value() != None:\n",
    "                string_list += str(current_node.get_value()) + \"\\n\"\n",
    "            current_node = current_node.get_next_node()\n",
    "        return string_list"
   ]
  },
  {
   "cell_type": "markdown",
   "metadata": {},
   "source": [
    "## Queues"
   ]
  },
  {
   "cell_type": "code",
   "execution_count": null,
   "metadata": {},
   "outputs": [],
   "source": [
    "from node import Node\n",
    "\n",
    "class Queue:\n",
    "    def __init__(self, max_size=None):\n",
    "        self.head = None\n",
    "        self.tail = None\n",
    "        self.max_size = max_size\n",
    "        self.size = 0\n",
    "    \n",
    "    def enqueue(self, value):\n",
    "        if self.has_space():\n",
    "            item_to_add = Node(value)\n",
    "            print(\"Adding \" + str(item_to_add.get_value()) + \" to the queue!\")\n",
    "            if self.is_empty():\n",
    "                self.head = item_to_add\n",
    "                self.tail = item_to_add\n",
    "            else:\n",
    "                self.tail.set_next_node(item_to_add)\n",
    "                self.tail = item_to_add\n",
    "                self.size += 1\n",
    "        else:\n",
    "        print(\"Sorry, no more room!\")\n",
    "  \n",
    "    def dequeue(self):\n",
    "        if not self.is_empty():\n",
    "            item_to_remove = self.head\n",
    "            print(\"Removing \" + str(item_to_remove.get_value()) + \" from the queue!\")\n",
    "            if self.size == 1:\n",
    "            self.head = None\n",
    "            self.tail = None\n",
    "            else:\n",
    "            self.head = self.head.get_next_node()\n",
    "            self.size -= 1\n",
    "            return item_to_remove.get_value()\n",
    "        else:\n",
    "        print(\"This queue is totally empty!\")\n",
    "\n",
    "    def peek(self):\n",
    "        if self.is_empty():\n",
    "            print(\"Nothing to see here!\")\n",
    "        else:\n",
    "            return self.head.get_value()\n",
    "  \n",
    "    def get_size(self):\n",
    "        return self.size\n",
    "  \n",
    "    def has_space(self):\n",
    "        if self.max_size == None:\n",
    "            return True\n",
    "        else:\n",
    "            return self.max_size > self.get_size()\n",
    "    \n",
    "    def is_empty(self):\n",
    "        return self.size == 0\n",
    "\n",
    "q = Queue()\n",
    "q.enqueue(\"some guy with a mustache\")\n",
    "q.dequeue()"
   ]
  },
  {
   "cell_type": "markdown",
   "metadata": {},
   "source": [
    "## Stacks"
   ]
  },
  {
   "cell_type": "code",
   "execution_count": 5,
   "metadata": {},
   "outputs": [],
   "source": [
    "class Stack:\n",
    "    def __init__(self, name):\n",
    "        self.top_item = None\n",
    "        self.size = 0\n",
    "        self.limit = 1000\n",
    "        self.name = name\n",
    "  \n",
    "    def push(self, value):\n",
    "        if self.has_space():\n",
    "            item = Node(value)\n",
    "            item.set_next_node(self.top_item)\n",
    "            self.top_item = item\n",
    "            self.size += 1\n",
    "            #print(\"Adding {} to the pizza stack!\".format(value))\n",
    "        else:\n",
    "            print(\"No room for {}!\".format(value))\n",
    "\n",
    "    def pop(self):\n",
    "        if not self.is_empty():\n",
    "            item_to_remove = self.top_item\n",
    "            self.top_item = item_to_remove.get_next_node()\n",
    "            self.size -= 1\n",
    "            #print(\"Delivering \" + item_to_remove.get_value())\n",
    "            return item_to_remove.get_value()\n",
    "        #print(\"All out of pizza.\")\n",
    "\n",
    "    def peek(self):\n",
    "        if not self.is_empty():\n",
    "            return self.top_item.get_value()\n",
    "        print(\"Nothing to see here!\")\n",
    "\n",
    "    def has_space(self):\n",
    "        return self.limit > self.size\n",
    "\n",
    "    def is_empty(self):\n",
    "        return self.size == 0\n",
    "    \n",
    "    def get_size(self):\n",
    "        return self.size\n",
    "    \n",
    "    def get_name(self):\n",
    "        return self.name\n",
    "    \n",
    "    def print_items(self):\n",
    "        pointer = self.top_item\n",
    "        print_list = []\n",
    "        while(pointer):\n",
    "            print_list.append(pointer.get_value())\n",
    "            pointer = pointer.get_next_node()\n",
    "        print_list.reverse()\n",
    "        print(\"{0} Stack: {1}\".format(self.get_name(), print_list))"
   ]
  },
  {
   "cell_type": "code",
   "execution_count": 17,
   "metadata": {},
   "outputs": [
    {
     "name": "stdout",
     "output_type": "stream",
     "text": [
      "Adding pizza #1 to the pizza stack!\n",
      "Adding pizza #2 to the pizza stack!\n",
      "Adding pizza #3 to the pizza stack!\n",
      "Adding pizza #4 to the pizza stack!\n",
      "Adding pizza #5 to the pizza stack!\n",
      "Adding pizza #6 to the pizza stack!\n",
      "No room for pizza #7!\n",
      "The first pizza to deliver is pizza #6\n",
      "Delivering pizza #6\n",
      "Delivering pizza #5\n",
      "Delivering pizza #4\n",
      "Delivering pizza #3\n",
      "Delivering pizza #2\n",
      "Delivering pizza #1\n",
      "All out of pizza.\n"
     ]
    }
   ],
   "source": [
    "pizza_stack = Stack(6)\n",
    "# Adding pizzas as they are ready until we have \n",
    "pizza_stack.push(\"pizza #1\")\n",
    "pizza_stack.push(\"pizza #2\")\n",
    "pizza_stack.push(\"pizza #3\")\n",
    "pizza_stack.push(\"pizza #4\")\n",
    "pizza_stack.push(\"pizza #5\")\n",
    "pizza_stack.push(\"pizza #6\")\n",
    "\n",
    "# Uncomment the push() statement below:\n",
    "pizza_stack.push(\"pizza #7\")\n",
    "\n",
    "# Delivering pizzas from the top of the stack down\n",
    "print(\"The first pizza to deliver is \" + pizza_stack.peek())\n",
    "pizza_stack.pop()\n",
    "pizza_stack.pop()\n",
    "pizza_stack.pop()\n",
    "pizza_stack.pop()\n",
    "pizza_stack.pop()\n",
    "pizza_stack.pop()\n",
    "\n",
    "# Uncomment the pop() statement below:\n",
    "pizza_stack.pop()"
   ]
  },
  {
   "cell_type": "markdown",
   "metadata": {},
   "source": [
    "### Hanoi Tower Game"
   ]
  },
  {
   "cell_type": "code",
   "execution_count": 6,
   "metadata": {},
   "outputs": [
    {
     "name": "stdout",
     "output_type": "stream",
     "text": [
      "\n",
      "Let's play Towers of Hanoi!!\n"
     ]
    },
    {
     "name": "stdin",
     "output_type": "stream",
     "text": [
      "\n",
      "How many disks do you want to ply with\n",
      " 3\n"
     ]
    },
    {
     "name": "stdout",
     "output_type": "stream",
     "text": [
      "\n",
      "The fastest you can solve this game is in 7 moves\n",
      "\n",
      "\n",
      "\n",
      "...Current Stacks...\n",
      "Left Stack: [3, 2, 1]\n",
      "Middle Stack: []\n",
      "Right Stack: []\n",
      "\n",
      "Which stack do you want to move from?\n",
      "\n",
      "Enter L for Left\n",
      "Enter M for Middle\n",
      "Enter R for Right\n"
     ]
    },
    {
     "name": "stdin",
     "output_type": "stream",
     "text": [
      " L\n"
     ]
    },
    {
     "name": "stdout",
     "output_type": "stream",
     "text": [
      "\n",
      "Which stack do you want to move to?\n",
      "\n",
      "Enter L for Left\n",
      "Enter M for Middle\n",
      "Enter R for Right\n"
     ]
    },
    {
     "name": "stdin",
     "output_type": "stream",
     "text": [
      " R\n"
     ]
    },
    {
     "name": "stdout",
     "output_type": "stream",
     "text": [
      "\n",
      "\n",
      "\n",
      "...Current Stacks...\n",
      "Left Stack: [3, 2]\n",
      "Middle Stack: []\n",
      "Right Stack: [1]\n",
      "\n",
      "Which stack do you want to move from?\n",
      "\n",
      "Enter L for Left\n",
      "Enter M for Middle\n",
      "Enter R for Right\n"
     ]
    },
    {
     "name": "stdin",
     "output_type": "stream",
     "text": [
      " L\n"
     ]
    },
    {
     "name": "stdout",
     "output_type": "stream",
     "text": [
      "\n",
      "Which stack do you want to move to?\n",
      "\n",
      "Enter L for Left\n",
      "Enter M for Middle\n",
      "Enter R for Right\n"
     ]
    },
    {
     "name": "stdin",
     "output_type": "stream",
     "text": [
      " M\n"
     ]
    },
    {
     "name": "stdout",
     "output_type": "stream",
     "text": [
      "\n",
      "\n",
      "\n",
      "...Current Stacks...\n",
      "Left Stack: [3]\n",
      "Middle Stack: [2]\n",
      "Right Stack: [1]\n",
      "\n",
      "Which stack do you want to move from?\n",
      "\n",
      "Enter L for Left\n",
      "Enter M for Middle\n",
      "Enter R for Right\n"
     ]
    },
    {
     "name": "stdin",
     "output_type": "stream",
     "text": [
      " R\n"
     ]
    },
    {
     "name": "stdout",
     "output_type": "stream",
     "text": [
      "\n",
      "Which stack do you want to move to?\n",
      "\n",
      "Enter L for Left\n",
      "Enter M for Middle\n",
      "Enter R for Right\n"
     ]
    },
    {
     "name": "stdin",
     "output_type": "stream",
     "text": [
      " M\n"
     ]
    },
    {
     "name": "stdout",
     "output_type": "stream",
     "text": [
      "\n",
      "\n",
      "\n",
      "...Current Stacks...\n",
      "Left Stack: [3]\n",
      "Middle Stack: [2, 1]\n",
      "Right Stack: []\n",
      "\n",
      "Which stack do you want to move from?\n",
      "\n",
      "Enter L for Left\n",
      "Enter M for Middle\n",
      "Enter R for Right\n"
     ]
    },
    {
     "name": "stdin",
     "output_type": "stream",
     "text": [
      " L\n"
     ]
    },
    {
     "name": "stdout",
     "output_type": "stream",
     "text": [
      "\n",
      "Which stack do you want to move to?\n",
      "\n",
      "Enter L for Left\n",
      "Enter M for Middle\n",
      "Enter R for Right\n"
     ]
    },
    {
     "name": "stdin",
     "output_type": "stream",
     "text": [
      " R\n"
     ]
    },
    {
     "name": "stdout",
     "output_type": "stream",
     "text": [
      "\n",
      "\n",
      "\n",
      "...Current Stacks...\n",
      "Left Stack: []\n",
      "Middle Stack: [2, 1]\n",
      "Right Stack: [3]\n",
      "\n",
      "Which stack do you want to move from?\n",
      "\n",
      "Enter L for Left\n",
      "Enter M for Middle\n",
      "Enter R for Right\n"
     ]
    },
    {
     "name": "stdin",
     "output_type": "stream",
     "text": [
      " M\n"
     ]
    },
    {
     "name": "stdout",
     "output_type": "stream",
     "text": [
      "\n",
      "Which stack do you want to move to?\n",
      "\n",
      "Enter L for Left\n",
      "Enter M for Middle\n",
      "Enter R for Right\n"
     ]
    },
    {
     "name": "stdin",
     "output_type": "stream",
     "text": [
      " L\n"
     ]
    },
    {
     "name": "stdout",
     "output_type": "stream",
     "text": [
      "\n",
      "\n",
      "\n",
      "...Current Stacks...\n",
      "Left Stack: [1]\n",
      "Middle Stack: [2]\n",
      "Right Stack: [3]\n",
      "\n",
      "Which stack do you want to move from?\n",
      "\n",
      "Enter L for Left\n",
      "Enter M for Middle\n",
      "Enter R for Right\n"
     ]
    },
    {
     "name": "stdin",
     "output_type": "stream",
     "text": [
      " M\n"
     ]
    },
    {
     "name": "stdout",
     "output_type": "stream",
     "text": [
      "\n",
      "Which stack do you want to move to?\n",
      "\n",
      "Enter L for Left\n",
      "Enter M for Middle\n",
      "Enter R for Right\n"
     ]
    },
    {
     "name": "stdin",
     "output_type": "stream",
     "text": [
      " R\n"
     ]
    },
    {
     "name": "stdout",
     "output_type": "stream",
     "text": [
      "\n",
      "\n",
      "\n",
      "...Current Stacks...\n",
      "Left Stack: [1]\n",
      "Middle Stack: []\n",
      "Right Stack: [3, 2]\n",
      "\n",
      "Which stack do you want to move from?\n",
      "\n",
      "Enter L for Left\n",
      "Enter M for Middle\n",
      "Enter R for Right\n"
     ]
    },
    {
     "name": "stdin",
     "output_type": "stream",
     "text": [
      " L\n"
     ]
    },
    {
     "name": "stdout",
     "output_type": "stream",
     "text": [
      "\n",
      "Which stack do you want to move to?\n",
      "\n",
      "Enter L for Left\n",
      "Enter M for Middle\n",
      "Enter R for Right\n"
     ]
    },
    {
     "name": "stdin",
     "output_type": "stream",
     "text": [
      " R\n"
     ]
    },
    {
     "name": "stdout",
     "output_type": "stream",
     "text": [
      "\n",
      "\n",
      "You completed the game in 7 moves, and the optimal number of moves is 7\n"
     ]
    }
   ],
   "source": [
    "## from stack import Stack\n",
    "\n",
    "print(\"\\nLet's play Towers of Hanoi!!\")\n",
    "\n",
    "#Create the Stacks\n",
    "stacks = []\n",
    "left_stack = Stack(\"Left\")\n",
    "middle_stack = Stack(\"Middle\")\n",
    "right_stack = Stack(\"Right\")\n",
    "stacks.append(left_stack)\n",
    "stacks.append(middle_stack)\n",
    "stacks.append(right_stack)\n",
    "\n",
    "#Set up the Game\n",
    "num_disks = int(input(\"\\nHow many disks do you want to ply with\\n\"))\n",
    "while num_disks < 3:\n",
    "    num_disks = int(input(\"Enter a number greather than or equal to 3\\n\"))\n",
    "for i in range(num_disks, 0, -1):\n",
    "    left_stack.push(i)\n",
    "num_optimal_moves = 2 ** num_disks - 1\n",
    "print(\"\\nThe fastest you can solve this game is in {0} moves\".format(num_optimal_moves))\n",
    "\n",
    "#Get User Input\n",
    "def get_input():\n",
    "    choices = [stack.get_name()[0] for stack in stacks]\n",
    "    while True:\n",
    "        for i in range(len(stacks)):\n",
    "            name = stacks[i].get_name()\n",
    "            letter = choices[i]\n",
    "            print(\"Enter {0} for {1}\".format(letter, name))\n",
    "        user_input = input(\"\")\n",
    "        if user_input in choices:\n",
    "            for i in range(len(stacks)):\n",
    "                if user_input == choices[i]:\n",
    "                    return stacks[i]\n",
    "#Play the Game\n",
    "num_user_moves = 0\n",
    "while right_stack.get_size() != num_disks:\n",
    "    print(\"\\n\\n\\n...Current Stacks...\")\n",
    "    for stack in stacks:\n",
    "        stack.print_items()\n",
    "    while True:\n",
    "        print(\"\\nWhich stack do you want to move from?\\n\")\n",
    "        from_stack = get_input()\n",
    "        print(\"\\nWhich stack do you want to move to?\\n\")\n",
    "        to_stack = get_input()\n",
    "\n",
    "        if from_stack.is_empty():\n",
    "            print(\"\\n\\nInvalid Move. Try Again\")\n",
    "        elif to_stack.is_empty() or from_stack.peek() < to_stack.peek():\n",
    "            disk = from_stack.pop()\n",
    "            to_stack.push(disk)\n",
    "            num_user_moves += 1\n",
    "            break\n",
    "        else:\n",
    "            print(\"\\n\\nInvalid Move. Try Again.\")\n",
    "print(\"\\n\\nYou completed the game in {0} moves, and the optimal number of moves is {1}\".format(num_user_moves, num_optimal_moves))"
   ]
  },
  {
   "cell_type": "markdown",
   "metadata": {},
   "source": [
    "# Hash maps - open dressing"
   ]
  },
  {
   "cell_type": "code",
   "execution_count": 2,
   "metadata": {},
   "outputs": [
    {
     "name": "stdout",
     "output_type": "stream",
     "text": [
      "igneous\n",
      "sedimentary\n",
      "metamorphic\n"
     ]
    }
   ],
   "source": [
    "class HashMap:\n",
    "    def __init__(self, array_size):\n",
    "        self.array_size = array_size\n",
    "        self.array = [None for item in range(array_size)]\n",
    "\n",
    "    def hash(self, key, count_collisions=0):\n",
    "        key_bytes = key.encode()\n",
    "        hash_code = sum(key_bytes)\n",
    "        return hash_code + count_collisions\n",
    "\n",
    "    def compressor(self, hash_code):\n",
    "        return hash_code % self.array_size\n",
    "\n",
    "    def assign(self, key, value):\n",
    "        array_index = self.compressor(self.hash(key))\n",
    "        current_array_value = self.array[array_index]\n",
    "\n",
    "        if current_array_value is None:\n",
    "            self.array[array_index] = [key, value]\n",
    "            return\n",
    "\n",
    "        if current_array_value[0] == key:\n",
    "            self.array[array_index] = [key, value]\n",
    "            return\n",
    "\n",
    "        # Collision!\n",
    "        number_collisions = 1\n",
    "\n",
    "        while(current_array_value[0] != key):\n",
    "            new_hash_code = self.hash(key, number_collisions)\n",
    "            new_array_index = self.compressor(new_hash_code)\n",
    "            current_array_value = self.array[new_array_index]\n",
    "\n",
    "            if current_array_value is None:\n",
    "                self.array[new_array_index] = [key, value]\n",
    "                return\n",
    "\n",
    "            if current_array_value[0] == key:\n",
    "                self.array[new_array_index] = [key, value]\n",
    "                return\n",
    "\n",
    "            number_collisions += 1\n",
    "\n",
    "        return\n",
    "\n",
    "    def retrieve(self, key):\n",
    "        array_index = self.compressor(self.hash(key))\n",
    "        possible_return_value = self.array[array_index]\n",
    "\n",
    "        if possible_return_value is None:\n",
    "            return None\n",
    "\n",
    "        if possible_return_value[0] == key:\n",
    "            return possible_return_value[1]\n",
    "\n",
    "        retrieval_collisions = 1\n",
    "\n",
    "        while (possible_return_value != key):\n",
    "            new_hash_code = self.hash(key, retrieval_collisions)\n",
    "            retrieving_array_index = self.compressor(new_hash_code)\n",
    "            possible_return_value = self.array[retrieving_array_index]\n",
    "\n",
    "            if possible_return_value is None:\n",
    "                return None\n",
    "\n",
    "            if possible_return_value[0] == key:\n",
    "                return possible_return_value[1]\n",
    "\n",
    "            retrieval_collisions += 1\n",
    "\n",
    "        return\n",
    "\n",
    "hash_map = HashMap(15)\n",
    "hash_map.assign('gabbro', 'igneous')\n",
    "hash_map.assign('sandstone', 'sedimentary')\n",
    "hash_map.assign('gneiss', 'metamorphic')\n",
    "\n",
    "print(hash_map.retrieve('gabbro'))\n",
    "print(hash_map.retrieve('sandstone'))\n",
    "print(hash_map.retrieve('gneiss'))"
   ]
  },
  {
   "cell_type": "markdown",
   "metadata": {},
   "source": [
    "# Hash maps - seperate chaining"
   ]
  },
  {
   "cell_type": "code",
   "execution_count": 3,
   "metadata": {},
   "outputs": [],
   "source": [
    "class Node:\n",
    "    def __init__(self, value):\n",
    "        self.value = value\n",
    "        self.next_node = None\n",
    "\n",
    "    def get_value(self):\n",
    "        return self.value\n",
    "\n",
    "    def get_next_node(self):\n",
    "        return self.next_node\n",
    "\n",
    "    def set_next_node(self, next_node):\n",
    "        self.next_node = next_node\n",
    "\n",
    "class LinkedList:\n",
    "    def __init__(self, head_node=None):\n",
    "        self.head_node = head_node\n",
    "\n",
    "    def insert(self, new_node):\n",
    "        current_node = self.head_node\n",
    "\n",
    "        if not current_node:\n",
    "            self.head_node = new_node\n",
    "\n",
    "        while(current_node):\n",
    "            next_node = current_node.get_next_node()\n",
    "            if not next_node:\n",
    "                current_node.set_next_node(new_node)\n",
    "            current_node = next_node\n",
    "\n",
    "    def __iter__(self):\n",
    "        current_node = self.head_node\n",
    "        while(current_node):\n",
    "            yield current_node.get_value()\n",
    "            current_node = current_node.get_next_node()"
   ]
  },
  {
   "cell_type": "code",
   "execution_count": 4,
   "metadata": {},
   "outputs": [],
   "source": [
    "flower_definitions = [['begonia', 'cautiousness'], \n",
    "                      ['chrysanthemum', 'cheerfulness'], \n",
    "                      ['carnation', 'memories'], \n",
    "                      ['daisy', 'innocence'], \n",
    "                      ['hyacinth', 'playfulness'], \n",
    "                      ['lavender', 'devotion'], \n",
    "                      ['magnolia', 'dignity'], \n",
    "                      ['morning glory', 'unrequited love'], \n",
    "                      ['periwinkle', 'new friendship'], \n",
    "                      ['poppy', 'rest'], \n",
    "                      ['rose', 'love'], \n",
    "                      ['snapdragon', 'grace'], \n",
    "                      ['sunflower', 'longevity'], \n",
    "                      ['wisteria', 'good luck']]"
   ]
  },
  {
   "cell_type": "code",
   "execution_count": 5,
   "metadata": {},
   "outputs": [
    {
     "name": "stdout",
     "output_type": "stream",
     "text": [
      "innocence\n"
     ]
    }
   ],
   "source": [
    "#from linked_list import Node, LinkedList\n",
    "#from blossom_lib import flower_definitions\n",
    "class HashMap:\n",
    "    def __init__(self, size):\n",
    "        self.array_size = size\n",
    "        self.array = [LinkedList() for i in range(self.array_size)]\n",
    "\n",
    "    def hash(self, key):\n",
    "        return sum(key.encode())\n",
    "\n",
    "    def compress(self, hash_code):\n",
    "        return hash_code % self.array_size\n",
    "\n",
    "    def assign(self, key, value):\n",
    "        array_index = self.compress(self.hash(key))\n",
    "        payload = Node([key, value])\n",
    "        list_at_array = self.array[array_index]\n",
    "        for item in list_at_array: #linked_list has __iter__ method here\n",
    "            if key == item[0]:\n",
    "                item[1] = value\n",
    "                return \n",
    "        list_at_array.insert(payload)\n",
    "    \n",
    "    def retrieve(self, key):\n",
    "        array_index = self.compress(self.hash(key))\n",
    "        list_at_index = self.array[array_index]\n",
    "        for item in list_at_index:\n",
    "            if key == item[0]:\n",
    "                return item[1]\n",
    "        return None\n",
    "\n",
    "blossom = HashMap(len(flower_definitions))\n",
    "for flower in flower_definitions:\n",
    "    blossom.assign(flower[0], flower[1])\n",
    "print(blossom.retrieve('daisy'))"
   ]
  },
  {
   "cell_type": "markdown",
   "metadata": {},
   "source": [
    "# Tree"
   ]
  },
  {
   "cell_type": "code",
   "execution_count": 1,
   "metadata": {},
   "outputs": [
    {
     "name": "stdout",
     "output_type": "stream",
     "text": [
      "Adding Vice-President\n",
      "Adding Head of Marketing\n",
      "Adding Marketing Assistant\n",
      "Traversing...\n",
      "CEO\n",
      "[]\n",
      "[<__main__.TreeNode object at 0x000001C68DFE5F98>, <__main__.TreeNode object at 0x000001C68DFE5FD0>]\n",
      "--------------------\n",
      "Head of Marketing\n",
      "[<__main__.TreeNode object at 0x000001C68DFE5F98>]\n",
      "[<__main__.TreeNode object at 0x000001C68DFE5F98>, <__main__.TreeNode object at 0x000001C68DFD8128>]\n",
      "--------------------\n",
      "Marketing Assistant\n",
      "[<__main__.TreeNode object at 0x000001C68DFE5F98>]\n",
      "[<__main__.TreeNode object at 0x000001C68DFE5F98>]\n",
      "--------------------\n",
      "Vice-President\n",
      "[]\n",
      "[]\n",
      "--------------------\n"
     ]
    }
   ],
   "source": [
    "# Define your \"TreeNode\" Python class below\n",
    "class TreeNode:\n",
    "  def __init__(self, value):\n",
    "    self.value = value\n",
    "    self.children = []\n",
    "\n",
    "  def add_child(self, child_node):\n",
    "    print(\"Adding \" + child_node.value)\n",
    "    self.children.append(child_node)\n",
    "    \n",
    "  def remove_child(self, child_node):\n",
    "    print(\"Removing \" + child_node.value + \" from \" + self.value)\n",
    "    self.children = [child for child in self.children \n",
    "                     if child is not child_node]\n",
    "\n",
    "  def traverse(self):\n",
    "    print(\"Traversing...\")\n",
    "    #print(self)\n",
    "    nodes_to_visit = [self] #address of class object (self)\n",
    "    while len(nodes_to_visit) != 0:\n",
    "      #print(nodes_to_visit)\n",
    "      current_node = nodes_to_visit.pop() #list will be updated, pop = remove last item in list\n",
    "      print(current_node.value)\n",
    "      print(nodes_to_visit)\n",
    "      nodes_to_visit.extend(current_node.children) #extend會將元素加到最後面\n",
    "      print(nodes_to_visit)\n",
    "      print(\"--------------------\")\n",
    "\n",
    "root = TreeNode(\"CEO\")\n",
    "first_child = TreeNode(\"Vice-President\")\n",
    "second_child = TreeNode(\"Head of Marketing\")\n",
    "third_child = TreeNode(\"Marketing Assistant\")\n",
    "\n",
    "root.add_child(first_child)\n",
    "root.add_child(second_child)\n",
    "second_child.add_child(third_child)\n",
    "\n",
    "root.traverse()"
   ]
  },
  {
   "cell_type": "markdown",
   "metadata": {},
   "source": [
    "# Tree project"
   ]
  },
  {
   "cell_type": "code",
   "execution_count": 3,
   "metadata": {},
   "outputs": [
    {
     "name": "stdin",
     "output_type": "stream",
     "text": [
      "What is your name?  martin\n"
     ]
    },
    {
     "name": "stdout",
     "output_type": "stream",
     "text": [
      "martin\n",
      "\n",
      "You are in a forest clearing. There is a path to the left.\n",
      "A bear emerges from the trees and roars!\n",
      "Do you: \n",
      "1 ) Roar back!\n",
      "2 ) Run to the left...\n",
      "\n"
     ]
    },
    {
     "name": "stdin",
     "output_type": "stream",
     "text": [
      "Enter 1 or 2 to continue the story:  2\n"
     ]
    },
    {
     "name": "stdout",
     "output_type": "stream",
     "text": [
      "\n",
      "You come across a clearing full of flowers. \n",
      "The bear follows you and asks 'what gives?'\n",
      "Do you:\n",
      "1 ) Gasp 'A talking bear!'\n",
      "2 ) Explain that the bear scared you.\n",
      "\n"
     ]
    },
    {
     "name": "stdin",
     "output_type": "stream",
     "text": [
      "Enter 1 or 2 to continue the story:  2\n"
     ]
    },
    {
     "name": "stdout",
     "output_type": "stream",
     "text": [
      "\n",
      "The bear understands and apologizes for startling you. Your new friend shows you a \n",
      "path leading out of the forest.\n",
      " \n",
      "YOU HAVE ESCAPED THE WILDERNESS.\n",
      "\n"
     ]
    }
   ],
   "source": [
    "# TREENODE CLASS\n",
    "######\n",
    "class TreeNode():\n",
    "  def __init__(self, story_piece):\n",
    "    self.story_piece = story_piece\n",
    "    self.choices = []\n",
    "\n",
    "  def add_child(self, node):\n",
    "    self.choices.append(node)\n",
    "\n",
    "  def traverse(self):\n",
    "    story_node = self\n",
    "    print(story_node.story_piece)\n",
    "    while len(story_node.choices) != 0:\n",
    "      choice = input(\"Enter 1 or 2 to continue the story: \")\n",
    "      valid_choice = [\"1\", \"2\"]\n",
    "      if choice not in valid_choice:\n",
    "        continue\n",
    "      chosen_index = int(choice) - 1\n",
    "      chosen_child = story_node.choices[chosen_index]\n",
    "      print(chosen_child.story_piece)\n",
    "      story_node = chosen_child\n",
    "######\n",
    "# VARIABLES FOR TREE\n",
    "######\n",
    "\n",
    "######\n",
    "# TESTING AREA\n",
    "######\n",
    "text = \"\"\"\n",
    "You are in a forest clearing. There is a path to the left.\n",
    "A bear emerges from the trees and roars!\n",
    "Do you: \n",
    "1 ) Roar back!\n",
    "2 ) Run to the left...\n",
    "\"\"\"\n",
    "story_root = TreeNode(text)\n",
    "user_choice = input(\"What is your name? \")\n",
    "print(user_choice)\n",
    "text_a = \"\"\"\n",
    "The bear is startled and runs away.\n",
    "Do you:\n",
    "1 ) Shout 'Sorry bear!'\n",
    "2 ) Yell 'Hooray!'\n",
    "\"\"\"\n",
    "text_b = \"\"\"\n",
    "You come across a clearing full of flowers. \n",
    "The bear follows you and asks 'what gives?'\n",
    "Do you:\n",
    "1 ) Gasp 'A talking bear!'\n",
    "2 ) Explain that the bear scared you.\n",
    "\"\"\"\n",
    "text_a_1 = \"\"\"\n",
    "The bear returns and tells you it's been a rough week. After making peace with\n",
    "a talking bear, he shows you the way out of the forest.\n",
    " \n",
    "YOU HAVE ESCAPED THE WILDERNESS.\n",
    "\"\"\"\n",
    "\n",
    "text_a_2 = \"\"\"\n",
    "The bear returns and tells you that bullying is not okay before leaving you alone\n",
    "in the wilderness.\n",
    " \n",
    "YOU REMAIN LOST.\n",
    "\"\"\"\n",
    "\n",
    "text_b_1 = \"\"\"\n",
    "The bear is unamused. After smelling the flowers, it turns around and leaves you alone.\n",
    " \n",
    "YOU REMAIN LOST.\n",
    "\"\"\"\n",
    "\n",
    "text_b_2 = \"\"\"\n",
    "The bear understands and apologizes for startling you. Your new friend shows you a \n",
    "path leading out of the forest.\n",
    " \n",
    "YOU HAVE ESCAPED THE WILDERNESS.\n",
    "\"\"\"\n",
    "\n",
    "choice_a = TreeNode(text_a)\n",
    "choice_b = TreeNode(text_b)\n",
    "choice_a_1 = TreeNode(text_a_1)\n",
    "choice_a_2 = TreeNode(text_a_2)\n",
    "choice_b_1 = TreeNode(text_b_1)\n",
    "choice_b_2 = TreeNode(text_b_2)\n",
    "story_root.add_child(choice_a)\n",
    "story_root.add_child(choice_b)\n",
    "choice_a.add_child(choice_a_1)\n",
    "choice_a.add_child(choice_a_2)\n",
    "choice_b.add_child(choice_b_1)\n",
    "choice_b.add_child(choice_b_2)\n",
    "story_root.traverse()"
   ]
  },
  {
   "cell_type": "markdown",
   "metadata": {},
   "source": [
    "# Binary Search Tree"
   ]
  },
  {
   "cell_type": "code",
   "execution_count": 5,
   "metadata": {},
   "outputs": [
    {
     "name": "stdout",
     "output_type": "stream",
     "text": [
      "Creating Binary Search Tree rooted at value 15:\n",
      "Tree node 39 added to the right of 15 at depth 2\n",
      "Tree node 42 added to the right of 39 at depth 3\n",
      "Tree node 31 added to the left of 39 at depth 3\n",
      "Tree node 79 added to the right of 42 at depth 4\n",
      "Tree node 64 added to the left of 79 at depth 5\n",
      "Tree node 68 added to the right of 64 at depth 6\n",
      "Tree node 5 added to the left of 15 at depth 2\n",
      "Tree node 33 added to the right of 31 at depth 4\n",
      "Tree node 11 added to the right of 5 at depth 3\n",
      "Tree node 92 added to the right of 79 at depth 5\n",
      "Printing the inorder depth-first traversal:\n",
      "Depth=2, Value=5\n",
      "Depth=3, Value=11\n",
      "Depth=1, Value=15\n",
      "Depth=3, Value=31\n",
      "Depth=4, Value=33\n",
      "Depth=2, Value=39\n",
      "Depth=3, Value=42\n",
      "Depth=5, Value=64\n",
      "Depth=6, Value=68\n",
      "Depth=4, Value=79\n",
      "Depth=5, Value=92\n"
     ]
    }
   ],
   "source": [
    "import random\n",
    "\n",
    "class BinarySearchTree:\n",
    "  def __init__(self, value, depth=1):\n",
    "    self.value = value\n",
    "    self.depth = depth\n",
    "    self.left = None\n",
    "    self.right = None\n",
    "\n",
    "  def insert(self, value): #O(log N) for a balanced tree, worst case : O(N)\n",
    "    if (value < self.value):\n",
    "      if (self.left is None):\n",
    "        self.left = BinarySearchTree(value, self.depth + 1)\n",
    "        print(f'Tree node {value} added to the left of {self.value} at depth {self.depth + 1}')\n",
    "      else:\n",
    "        self.left.insert(value)\n",
    "    else:\n",
    "      if (self.right is None):\n",
    "        self.right = BinarySearchTree(value, self.depth + 1)\n",
    "        print(f'Tree node {value} added to the right of {self.value} at depth {self.depth + 1}')\n",
    "      else:\n",
    "        self.right.insert(value)\n",
    "        \n",
    "  def get_node_by_value(self, value): #O(log N) for a balanced tree, worst case : O(N)\n",
    "    if (self.value == value):\n",
    "      return self\n",
    "    elif ((self.left is not None) and (value < self.value)):\n",
    "      return self.left.get_node_by_value(value)\n",
    "    elif ((self.right is not None) and (value >= self.value)):\n",
    "      return self.right.get_node_by_value(value)\n",
    "    else:\n",
    "      return None\n",
    "  \n",
    "  def depth_first_traversal(self): #depth-first, inorder, O(N)\n",
    "    if (self.left is not None):\n",
    "      self.left.depth_first_traversal()\n",
    "    print(f'Depth={self.depth}, Value={self.value}')\n",
    "    if (self.right is not None):\n",
    "      self.right.depth_first_traversal()\n",
    "\n",
    "\n",
    "print(\"Creating Binary Search Tree rooted at value 15:\")\n",
    "tree = BinarySearchTree(15)\n",
    "\n",
    "for x in range(10):\n",
    "  tree.insert(random.randint(0, 100))\n",
    "  \n",
    "print(\"Printing the inorder depth-first traversal:\")\n",
    "tree.depth_first_traversal()"
   ]
  },
  {
   "cell_type": "markdown",
   "metadata": {},
   "source": [
    "# Heaps"
   ]
  },
  {
   "cell_type": "code",
   "execution_count": 6,
   "metadata": {},
   "outputs": [],
   "source": [
    "class MinHeap:\n",
    "  def __init__(self):\n",
    "    self.heap_list = [None]\n",
    "    self.count = 0\n",
    "\n",
    "  def parent_idx(self, idx):\n",
    "    return idx // 2\n",
    "\n",
    "  def left_child_idx(self, idx):\n",
    "    return idx * 2\n",
    "\n",
    "  def right_child_idx(self, idx):\n",
    "    return idx * 2 + 1\n",
    "\n",
    "  def child_present(self, idx):\n",
    "    return self.left_child_idx(idx) <= self.count\n",
    "  \n",
    "  def retrieve_min(self):\n",
    "    if self.count == 0:\n",
    "      print(\"No items in heap\")\n",
    "      return None\n",
    "    \n",
    "    min = self.heap_list[1]\n",
    "    self.heap_list[1] = self.heap_list[self.count]\n",
    "    self.count -= 1\n",
    "    self.heap_list.pop()\n",
    "    self.heapify_down()\n",
    "    return min\n",
    "\n",
    "  def add(self, element):\n",
    "    self.count += 1\n",
    "    self.heap_list.append(element)\n",
    "    self.heapify_up()\n",
    "\n",
    "\n",
    "  def get_smaller_child_idx(self, idx):\n",
    "    if self.right_child_idx(idx) > self.count:\n",
    "      return self.left_child_idx(idx)\n",
    "    else:\n",
    "      left_child = self.heap_list[self.left_child_idx(idx)]\n",
    "      right_child = self.heap_list[self.right_child_idx(idx)]\n",
    "      if left_child < right_child:\n",
    "        return self.left_child_idx(idx)\n",
    "      else:\n",
    "        return self.right_child_idx(idx)\n",
    "    \n",
    "  def heapify_up(self):\n",
    "    idx = self.count\n",
    "    swap_count = 0\n",
    "    while self.parent_idx(idx) > 0:\n",
    "      if self.heap_list[self.parent_idx(idx)] > self.heap_list[idx]:\n",
    "        swap_count += 1\n",
    "        tmp = self.heap_list[self.parent_idx(idx)]\n",
    "        self.heap_list[self.parent_idx(idx)] = self.heap_list[idx]\n",
    "        self.heap_list[idx] = tmp\n",
    "      idx = self.parent_idx(idx)\n",
    "\n",
    "    element_count = len(self.heap_list)\n",
    "    if element_count > 10000:\n",
    "      print(\"Heap of {0} elements restored with {1} swaps\"\n",
    "            .format(element_count, swap_count))\n",
    "      print(\"\")    \n",
    "      \n",
    "  def heapify_down(self):\n",
    "    idx = 1\n",
    "    # starts at 1 because we swapped first and last elements\n",
    "    swap_count = 1\n",
    "    while self.child_present(idx):\n",
    "      smaller_child_idx = self.get_smaller_child_idx(idx)\n",
    "      if self.heap_list[idx] > self.heap_list[smaller_child_idx]:\n",
    "        swap_count += 1\n",
    "        tmp = self.heap_list[smaller_child_idx]\n",
    "        self.heap_list[smaller_child_idx] = self.heap_list[idx]\n",
    "        self.heap_list[idx] = tmp\n",
    "      idx = smaller_child_idx\n",
    "\n",
    "    element_count = len(self.heap_list)\n",
    "    if element_count >= 10000:\n",
    "      print(\"Heap of {0} elements restored with {1} swaps\"\n",
    "            .format(element_count, swap_count))\n",
    "      print(\"\")  \n"
   ]
  },
  {
   "cell_type": "code",
   "execution_count": 14,
   "metadata": {
    "collapsed": true,
    "jupyter": {
     "outputs_hidden": true
    }
   },
   "outputs": [
    {
     "name": "stdout",
     "output_type": "stream",
     "text": [
      "ADDING!\n",
      "Heap of 10001 elements restored with 13 swaps\n",
      "\n",
      "[None, 2, 3, 1812, 4, 3861, 2837, 1813, 790, 5, 4374, 3862, 3350, 2838, 2326, 1814, 1303, 791, 279, 6, 4631, 4375, 4119, 3863, 3607, 3351, 3095, 2839, 2583, 2327, 2071, 1815, 1560, 1304, 1048, 792, 536, 280, 24, 7, 4760, 4632, 4504, 4376, 4248, 4120, 3992, 3864, 3736, 3608, 3480, 3352, 3224, 3096, 2968, 2840, 2712, 2584, 2456, 2328, 2200, 2072, 1944, 1816, 1689, 1561, 1433, 1305, 1177, 1049, 921, 793, 665, 537, 409, 281, 153, 25, 8, 4889, 4825, 4761, 4697, 4633, 4569, 4505, 4441, 4377, 4313, 4249, 4185, 4121, 4057, 3993, 3929, 3865, 3801, 3737, 3673, 3609, 3545, 3481, 3417, 3353, 3289, 3225, 3161, 3097, 3033, 2969, 2905, 2841, 2777, 2713, 2649, 2585, 2521, 2457, 2393, 2329, 2265, 2201, 2137, 2073, 2009, 1945, 1881, 1817, 1754, 1690, 1626, 1562, 1498, 1434, 1370, 1306, 1242, 1178, 1114, 1050, 986, 922, 858, 794, 730, 666, 602, 538, 474, 410, 346, 282, 218, 154, 90, 26, 9, 4954, 4922, 4890, 4858, 4826, 4794, 4762, 4730, 4698, 4666, 4634, 4602, 4570, 4538, 4506, 4474, 4442, 4410, 4378, 4346, 4314, 4282, 4250, 4218, 4186, 4154, 4122, 4090, 4058, 4026, 3994, 3962, 3930, 3898, 3866, 3834, 3802, 3770, 3738, 3706, 3674, 3642, 3610, 3578, 3546, 3514, 3482, 3450, 3418, 3386, 3354, 3322, 3290, 3258, 3226, 3194, 3162, 3130, 3098, 3066, 3034, 3002, 2970, 2938, 2906, 2874, 2842, 2810, 2778, 2746, 2714, 2682, 2650, 2618, 2586, 2554, 2522, 2490, 2458, 2426, 2394, 2362, 2330, 2298, 2266, 2234, 2202, 2170, 2138, 2106, 2074, 2042, 2010, 1978, 1946, 1914, 1882, 1850, 1818, 1787, 1755, 1723, 1691, 1659, 1627, 1595, 1563, 1531, 1499, 1467, 1435, 1403, 1371, 1339, 1307, 1275, 1243, 1211, 1179, 1147, 1115, 1083, 1051, 1019, 987, 955, 923, 891, 859, 827, 795, 763, 731, 699, 667, 635, 603, 571, 539, 507, 475, 443, 411, 379, 347, 315, 283, 251, 219, 187, 155, 123, 91, 59, 27, 10, 4987, 4971, 4955, 4939, 4923, 4907, 4891, 4875, 4859, 4843, 4827, 4811, 4795, 4779, 4763, 4747, 4731, 4715, 4699, 4683, 4667, 4651, 4635, 4619, 4603, 4587, 4571, 4555, 4539, 4523, 4507, 4491, 4475, 4459, 4443, 4427, 4411, 4395, 4379, 4363, 4347, 4331, 4315, 4299, 4283, 4267, 4251, 4235, 4219, 4203, 4187, 4171, 4155, 4139, 4123, 4107, 4091, 4075, 4059, 4043, 4027, 4011, 3995, 3979, 3963, 3947, 3931, 3915, 3899, 3883, 3867, 3851, 3835, 3819, 3803, 3787, 3771, 3755, 3739, 3723, 3707, 3691, 3675, 3659, 3643, 3627, 3611, 3595, 3579, 3563, 3547, 3531, 3515, 3499, 3483, 3467, 3451, 3435, 3419, 3403, 3387, 3371, 3355, 3339, 3323, 3307, 3291, 3275, 3259, 3243, 3227, 3211, 3195, 3179, 3163, 3147, 3131, 3115, 3099, 3083, 3067, 3051, 3035, 3019, 3003, 2987, 2971, 2955, 2939, 2923, 2907, 2891, 2875, 2859, 2843, 2827, 2811, 2795, 2779, 2763, 2747, 2731, 2715, 2699, 2683, 2667, 2651, 2635, 2619, 2603, 2587, 2571, 2555, 2539, 2523, 2507, 2491, 2475, 2459, 2443, 2427, 2411, 2395, 2379, 2363, 2347, 2331, 2315, 2299, 2283, 2267, 2251, 2235, 2219, 2203, 2187, 2171, 2155, 2139, 2123, 2107, 2091, 2075, 2059, 2043, 2027, 2011, 1995, 1979, 1963, 1947, 1931, 1915, 1899, 1883, 1867, 1851, 1835, 1819, 1804, 1788, 1772, 1756, 1740, 1724, 1708, 1692, 1676, 1660, 1644, 1628, 1612, 1596, 1580, 1564, 1548, 1532, 1516, 1500, 1484, 1468, 1452, 1436, 1420, 1404, 1388, 1372, 1356, 1340, 1324, 1308, 1292, 1276, 1260, 1244, 1228, 1212, 1196, 1180, 1164, 1148, 1132, 1116, 1100, 1084, 1068, 1052, 1036, 1020, 1004, 988, 972, 956, 940, 924, 908, 892, 876, 860, 844, 828, 812, 796, 780, 764, 748, 732, 716, 700, 684, 668, 652, 636, 620, 604, 588, 572, 556, 540, 524, 508, 492, 476, 460, 444, 428, 412, 396, 380, 364, 348, 332, 316, 300, 284, 268, 252, 236, 220, 204, 188, 172, 156, 140, 124, 108, 92, 76, 60, 44, 28, 12, 11, 4996, 4988, 4980, 4972, 4964, 4956, 4948, 4940, 4932, 4924, 4916, 4908, 4900, 4892, 4884, 4876, 4868, 4860, 4852, 4844, 4836, 4828, 4820, 4812, 4804, 4796, 4788, 4780, 4772, 4764, 4756, 4748, 4740, 4732, 4724, 4716, 4708, 4700, 4692, 4684, 4676, 4668, 4660, 4652, 4644, 4636, 4628, 4620, 4612, 4604, 4596, 4588, 4580, 4572, 4564, 4556, 4548, 4540, 4532, 4524, 4516, 4508, 4500, 4492, 4484, 4476, 4468, 4460, 4452, 4444, 4436, 4428, 4420, 4412, 4404, 4396, 4388, 4380, 4372, 4364, 4356, 4348, 4340, 4332, 4324, 4316, 4308, 4300, 4292, 4284, 4276, 4268, 4260, 4252, 4244, 4236, 4228, 4220, 4212, 4204, 4196, 4188, 4180, 4172, 4164, 4156, 4148, 4140, 4132, 4124, 4116, 4108, 4100, 4092, 4084, 4076, 4068, 4060, 4052, 4044, 4036, 4028, 4020, 4012, 4004, 3996, 3988, 3980, 3972, 3964, 3956, 3948, 3940, 3932, 3924, 3916, 3908, 3900, 3892, 3884, 3876, 3868, 5908, 3852, 3844, 3836, 3828, 3820, 3812, 3804, 3796, 3788, 3780, 3772, 3764, 3756, 3748, 3740, 3732, 3724, 3716, 3708, 3700, 3692, 3684, 3676, 3668, 3660, 3652, 3644, 3636, 3628, 3620, 3612, 3604, 3596, 3588, 3580, 3572, 3564, 3556, 3548, 3540, 3532, 3524, 3516, 3508, 3500, 3492, 3484, 3476, 3468, 3460, 3452, 3444, 3436, 3428, 3420, 3412, 3404, 3396, 3388, 3380, 3372, 3364, 3356, 3348, 3340, 3332, 3324, 3316, 3308, 3300, 3292, 3284, 3276, 3268, 3260, 3252, 3244, 3236, 3228, 3220, 3212, 3204, 3196, 3188, 3180, 3172, 3164, 3156, 3148, 3140, 3132, 3124, 3116, 3108, 3100, 3092, 3084, 3076, 3068, 3060, 3052, 3044, 3036, 3028, 3020, 3012, 3004, 2996, 2988, 2980, 2972, 2964, 2956, 2948, 2940, 2932, 2924, 2916, 2908, 2900, 2892, 2884, 2876, 2868, 2860, 2852, 2844, 2836, 2828, 2820, 2812, 2804, 2796, 2788, 2780, 2772, 2764, 2756, 2748, 2740, 2732, 2724, 2716, 2708, 2700, 2692, 2684, 2676, 2668, 2660, 2652, 2644, 2636, 2628, 2620, 2612, 2604, 2596, 2588, 2580, 2572, 2564, 2556, 2548, 2540, 2532, 2524, 2516, 2508, 2500, 2492, 2484, 2476, 2468, 2460, 2452, 2444, 2436, 2428, 2420, 2412, 2404, 2396, 2388, 2380, 2372, 2364, 2356, 2348, 2340, 2332, 2324, 2316, 2308, 2300, 2292, 2284, 2276, 2268, 2260, 2252, 2244, 2236, 2228, 2220, 2212, 2204, 2196, 2188, 2180, 2172, 2164, 2156, 2148, 2140, 2132, 2124, 2116, 2108, 2100, 2092, 2084, 2076, 2068, 2060, 2052, 2044, 2036, 2028, 2020, 2012, 2004, 1996, 1988, 1980, 1972, 1964, 1956, 1948, 1940, 1932, 1924, 1916, 1908, 1900, 1892, 1884, 1876, 1868, 1860, 1852, 1844, 1836, 1828, 1820, 4885, 1805, 1797, 1789, 1781, 1773, 1765, 1757, 1749, 1741, 1733, 1725, 1717, 1709, 1701, 1693, 1685, 1677, 1669, 1661, 1653, 1645, 1637, 1629, 1621, 1613, 1605, 1597, 1589, 1581, 1573, 1565, 1557, 1549, 1541, 1533, 1525, 1517, 1509, 1501, 1493, 1485, 1477, 1469, 1461, 1453, 1445, 1437, 1429, 1421, 1413, 1405, 1397, 1389, 1381, 1373, 1365, 1357, 1349, 1341, 1333, 1325, 1317, 1309, 1301, 1293, 1285, 1277, 1269, 1261, 1253, 1245, 1237, 1229, 1221, 1213, 1205, 1197, 1189, 1181, 1173, 1165, 1157, 1149, 1141, 1133, 1125, 1117, 1109, 1101, 1093, 1085, 1077, 1069, 1061, 1053, 1045, 1037, 1029, 1021, 1013, 1005, 997, 989, 981, 973, 965, 957, 949, 941, 933, 925, 917, 909, 901, 893, 885, 877, 869, 861, 853, 845, 837, 829, 821, 813, 805, 797, 789, 781, 773, 765, 757, 749, 741, 733, 725, 717, 709, 701, 693, 685, 677, 669, 661, 653, 645, 637, 629, 621, 613, 605, 597, 589, 581, 573, 565, 557, 549, 541, 533, 525, 517, 509, 501, 493, 485, 477, 469, 461, 453, 445, 437, 429, 421, 413, 405, 397, 389, 381, 373, 365, 357, 349, 341, 333, 325, 317, 309, 301, 293, 285, 277, 269, 261, 253, 245, 237, 229, 221, 213, 205, 197, 189, 181, 173, 165, 157, 149, 141, 133, 125, 117, 109, 101, 93, 85, 77, 69, 61, 53, 45, 37, 29, 21, 13, 5004, 5005, 5001, 4997, 4993, 4989, 4985, 4981, 4977, 4973, 4969, 4965, 4961, 4957, 7449, 4949, 4945, 4941, 4937, 4933, 4929, 4925, 4921, 4917, 4913, 4909, 4905, 4901, 4897, 4893, 7417, 6933, 4881, 4877, 4873, 4869, 4865, 4861, 4857, 4853, 4849, 4845, 4841, 4837, 4833, 4829, 7385, 4821, 4817, 4813, 4809, 4805, 4801, 4797, 4793, 4789, 4785, 4781, 4777, 4773, 4769, 4765, 7353, 4757, 4753, 4749, 4745, 4741, 4737, 4733, 4729, 4725, 4721, 4717, 4713, 4709, 4705, 4701, 7321, 4693, 4689, 4685, 4681, 4677, 4673, 4669, 4665, 4661, 4657, 4653, 4649, 4645, 4641, 4637, 7289, 4629, 4625, 4621, 4617, 4613, 4609, 4605, 4601, 4597, 4593, 4589, 4585, 4581, 4577, 4573, 7257, 4565, 4561, 4557, 4553, 4549, 4545, 4541, 4537, 4533, 4529, 4525, 4521, 4517, 4513, 4509, 7225, 4501, 4497, 4493, 4489, 4485, 4481, 4477, 4473, 4469, 4465, 4461, 4457, 4453, 4449, 4445, 7193, 4437, 4433, 4429, 4425, 4421, 4417, 4413, 4409, 4405, 4401, 4397, 4393, 4389, 4385, 4381, 7161, 4373, 4369, 4365, 4361, 4357, 4353, 4349, 4345, 4341, 4337, 4333, 4329, 4325, 4321, 4317, 7129, 4309, 4305, 4301, 4297, 4293, 4289, 4285, 4281, 4277, 4273, 4269, 4265, 4261, 4257, 4253, 7097, 4245, 4241, 4237, 4233, 4229, 4225, 4221, 4217, 4213, 4209, 4205, 4201, 4197, 4193, 4189, 7065, 4181, 4177, 4173, 4169, 4165, 4161, 4157, 4153, 4149, 4145, 4141, 4137, 4133, 4129, 4125, 7033, 4117, 4113, 4109, 4105, 4101, 4097, 4093, 4089, 4085, 4081, 4077, 4073, 4069, 4065, 4061, 7001, 4053, 4049, 4045, 4041, 4037, 4033, 4029, 4025, 4021, 4017, 4013, 4009, 4005, 4001, 3997, 6969, 3989, 3985, 3981, 3977, 3973, 3969, 3965, 3961, 3957, 3953, 3949, 3945, 3941, 3937, 3933, 6937, 3925, 3921, 3917, 3913, 3909, 3905, 3901, 3897, 3893, 3889, 3885, 3881, 3877, 3873, 3869, 6905, 6421, 3857, 3853, 3849, 3845, 3841, 3837, 3833, 3829, 3825, 3821, 3817, 3813, 3809, 3805, 6873, 3797, 3793, 3789, 3785, 3781, 3777, 3773, 3769, 3765, 3761, 3757, 3753, 3749, 3745, 3741, 6841, 3733, 3729, 3725, 3721, 3717, 3713, 3709, 3705, 3701, 3697, 3693, 3689, 3685, 3681, 3677, 6809, 3669, 3665, 3661, 3657, 3653, 3649, 3645, 3641, 3637, 3633, 3629, 3625, 3621, 3617, 3613, 6777, 3605, 3601, 3597, 3593, 3589, 3585, 3581, 3577, 3573, 3569, 3565, 3561, 3557, 3553, 3549, 6745, 3541, 3537, 3533, 3529, 3525, 3521, 3517, 3513, 3509, 3505, 3501, 3497, 3493, 3489, 3485, 6713, 3477, 3473, 3469, 3465, 3461, 3457, 3453, 3449, 3445, 3441, 3437, 3433, 3429, 3425, 3421, 6681, 3413, 3409, 3405, 3401, 3397, 3393, 3389, 3385, 3381, 3377, 3373, 3369, 3365, 3361, 3357, 6649, 3349, 3345, 3341, 3337, 3333, 3329, 3325, 3321, 3317, 3313, 3309, 3305, 3301, 3297, 3293, 6617, 3285, 3281, 3277, 3273, 3269, 3265, 3261, 3257, 3253, 3249, 3245, 3241, 3237, 3233, 3229, 6585, 3221, 3217, 3213, 3209, 3205, 3201, 3197, 3193, 3189, 3185, 3181, 3177, 3173, 3169, 3165, 6553, 3157, 3153, 3149, 3145, 3141, 3137, 3133, 3129, 3125, 3121, 3117, 3113, 3109, 3105, 3101, 6521, 3093, 3089, 3085, 3081, 3077, 3073, 3069, 3065, 3061, 3057, 3053, 3049, 3045, 3041, 3037, 6489, 3029, 3025, 3021, 3017, 3013, 3009, 3005, 3001, 2997, 2993, 2989, 2985, 2981, 2977, 2973, 6457, 2965, 2961, 2957, 2953, 2949, 2945, 2941, 2937, 2933, 2929, 2925, 2921, 2917, 2913, 2909, 6425, 2901, 2897, 2893, 2889, 2885, 2881, 2877, 2873, 2869, 2865, 2861, 2857, 2853, 2849, 2845, 6393, 5909, 2833, 2829, 2825, 2821, 2817, 2813, 2809, 2805, 2801, 2797, 2793, 2789, 2785, 2781, 6361, 2773, 2769, 2765, 2761, 2757, 2753, 2749, 2745, 2741, 2737, 2733, 2729, 2725, 2721, 2717, 6329, 2709, 2705, 2701, 2697, 2693, 2689, 2685, 2681, 2677, 2673, 2669, 2665, 2661, 2657, 2653, 6297, 2645, 2641, 2637, 2633, 2629, 2625, 2621, 2617, 2613, 2609, 2605, 2601, 2597, 2593, 2589, 6265, 2581, 2577, 2573, 2569, 2565, 2561, 2557, 2553, 2549, 2545, 2541, 2537, 2533, 2529, 2525, 6233, 2517, 2513, 2509, 2505, 2501, 2497, 2493, 2489, 2485, 2481, 2477, 2473, 2469, 2465, 2461, 6201, 2453, 2449, 2445, 2441, 2437, 2433, 2429, 2425, 2421, 2417, 2413, 2409, 2405, 2401, 2397, 6169, 2389, 2385, 2381, 2377, 2373, 2369, 2365, 2361, 2357, 2353, 2349, 2345, 2341, 2337, 2333, 6137, 2325, 2321, 2317, 2313, 2309, 2305, 2301, 2297, 2293, 2289, 2285, 2281, 2277, 2273, 2269, 6105, 2261, 2257, 2253, 2249, 2245, 2241, 2237, 2233, 2229, 2225, 2221, 2217, 2213, 2209, 2205, 6073, 2197, 2193, 2189, 2185, 2181, 2177, 2173, 2169, 2165, 2161, 2157, 2153, 2149, 2145, 2141, 6041, 2133, 2129, 2125, 2121, 2117, 2113, 2109, 2105, 2101, 2097, 2093, 2089, 2085, 2081, 2077, 6009, 2069, 2065, 2061, 2057, 2053, 2049, 2045, 2041, 2037, 2033, 2029, 2025, 2021, 2017, 2013, 5977, 2005, 2001, 1997, 1993, 1989, 1985, 1981, 1977, 1973, 1969, 1965, 1961, 1957, 1953, 1949, 5945, 1941, 1937, 1933, 1929, 1925, 1921, 1917, 1913, 1909, 1905, 1901, 1897, 1893, 1889, 1885, 5913, 1877, 1873, 1869, 1865, 1861, 1857, 1853, 1849, 1845, 1841, 1837, 1833, 1829, 1825, 1821, 5882, 5398, 1810, 1806, 1802, 1798, 1794, 1790, 1786, 1782, 1778, 1774, 1770, 1766, 1762, 1758, 5850, 1750, 1746, 1742, 1738, 1734, 1730, 1726, 1722, 1718, 1714, 1710, 1706, 1702, 1698, 1694, 5818, 1686, 1682, 1678, 1674, 1670, 1666, 1662, 1658, 1654, 1650, 1646, 1642, 1638, 1634, 1630, 5786, 1622, 1618, 1614, 1610, 1606, 1602, 1598, 1594, 1590, 1586, 1582, 1578, 1574, 1570, 1566, 5754, 1558, 1554, 1550, 1546, 1542, 1538, 1534, 1530, 1526, 1522, 1518, 1514, 1510, 1506, 1502, 5722, 1494, 1490, 1486, 1482, 1478, 1474, 1470, 1466, 1462, 1458, 1454, 1450, 1446, 1442, 1438, 5690, 1430, 1426, 1422, 1418, 1414, 1410, 1406, 1402, 1398, 1394, 1390, 1386, 1382, 1378, 1374, 5658, 1366, 1362, 1358, 1354, 1350, 1346, 1342, 1338, 1334, 1330, 1326, 1322, 1318, 1314, 1310, 5626, 1302, 1298, 1294, 1290, 1286, 1282, 1278, 1274, 1270, 1266, 1262, 1258, 1254, 1250, 1246, 5594, 1238, 1234, 1230, 1226, 1222, 1218, 1214, 1210, 1206, 1202, 1198, 1194, 1190, 1186, 1182, 5562, 1174, 1170, 1166, 1162, 1158, 1154, 1150, 1146, 1142, 1138, 1134, 1130, 1126, 1122, 1118, 5530, 1110, 1106, 1102, 1098, 1094, 1090, 1086, 1082, 1078, 1074, 1070, 1066, 1062, 1058, 1054, 5498, 1046, 1042, 1038, 1034, 1030, 1026, 1022, 1018, 1014, 1010, 1006, 1002, 998, 994, 990, 5466, 982, 978, 974, 970, 966, 962, 958, 954, 950, 946, 942, 938, 934, 930, 926, 5434, 918, 914, 910, 906, 902, 898, 894, 890, 886, 882, 878, 874, 870, 866, 862, 5402, 854, 850, 846, 842, 838, 834, 830, 826, 822, 818, 814, 810, 806, 802, 798, 5370, 4886, 786, 782, 778, 774, 770, 766, 762, 758, 754, 750, 746, 742, 738, 734, 5338, 726, 722, 718, 714, 710, 706, 702, 698, 694, 690, 686, 682, 678, 674, 670, 5306, 662, 658, 654, 650, 646, 642, 638, 634, 630, 626, 622, 618, 614, 610, 606, 5274, 598, 594, 590, 586, 582, 578, 574, 570, 566, 562, 558, 554, 550, 546, 542, 5242, 534, 530, 526, 522, 518, 514, 510, 506, 502, 498, 494, 490, 486, 482, 478, 5210, 470, 466, 462, 458, 454, 450, 446, 442, 438, 434, 430, 426, 422, 418, 414, 5178, 406, 402, 398, 394, 390, 386, 382, 378, 374, 370, 366, 362, 358, 354, 350, 5146, 342, 338, 334, 330, 326, 322, 318, 314, 310, 306, 302, 298, 294, 290, 286, 5114, 278, 274, 270, 266, 262, 258, 254, 250, 246, 242, 238, 234, 230, 226, 222, 5082, 214, 210, 206, 202, 198, 194, 190, 186, 182, 178, 174, 170, 166, 162, 158, 5050, 150, 146, 142, 138, 134, 130, 126, 122, 118, 114, 110, 106, 102, 98, 94, 5018, 86, 82, 78, 74, 70, 66, 62, 58, 54, 50, 46, 42, 38, 34, 30, 4986, 22, 18, 14, 5009, 5010, 5008, 5006, 7504, 5002, 5000, 4998, 7500, 4994, 4992, 4990, 7496, 7482, 4984, 4982, 7492, 4978, 4976, 4974, 7488, 4970, 4968, 4966, 7484, 4962, 4960, 4958, 7480, 7466, 4952, 4950, 7476, 4946, 4944, 4942, 7472, 4938, 4936, 4934, 7468, 4930, 4928, 4926, 7464, 7450, 4920, 4918, 7460, 4914, 4912, 4910, 7456, 4906, 4904, 4902, 7452, 4898, 4896, 4894, 8696, 7434, 7384, 7190, 7444, 4882, 4880, 4878, 7440, 4874, 4872, 4870, 7436, 4866, 4864, 4862, 7432, 7418, 4856, 4854, 7428, 4850, 4848, 4846, 7424, 4842, 4840, 4838, 7420, 4834, 4832, 4830, 7416, 7402, 4824, 4822, 7412, 4818, 4816, 4814, 7408, 4810, 4808, 4806, 7404, 4802, 4800, 4798, 7400, 7386, 4792, 4790, 7396, 4786, 4784, 4782, 7392, 4778, 4776, 4774, 7388, 4770, 4768, 4766, 8664, 7370, 7320, 4758, 7380, 4754, 4752, 4750, 7376, 4746, 4744, 4742, 7372, 4738, 4736, 4734, 7368, 7354, 4728, 4726, 7364, 4722, 4720, 4718, 7360, 4714, 4712, 4710, 7356, 4706, 4704, 4702, 7352, 7338, 4696, 4694, 7348, 4690, 4688, 4686, 7344, 4682, 4680, 4678, 7340, 4674, 4672, 4670, 7336, 7322, 4664, 4662, 7332, 4658, 4656, 4654, 7328, 4650, 4648, 4646, 7324, 4642, 4640, 4638, 8632, 7306, 7256, 4630, 7316, 4626, 4624, 4622, 7312, 4618, 4616, 4614, 7308, 4610, 4608, 4606, 7304, 7290, 4600, 4598, 7300, 4594, 4592, 4590, 7296, 4586, 4584, 4582, 7292, 4578, 4576, 4574, 7288, 7274, 4568, 4566, 7284, 4562, 4560, 4558, 7280, 4554, 4552, 4550, 7276, 4546, 4544, 4542, 7272, 7258, 4536, 4534, 7268, 4530, 4528, 4526, 7264, 4522, 4520, 4518, 7260, 4514, 4512, 4510, 8600, 7242, 7192, 4502, 7252, 4498, 4496, 4494, 7248, 4490, 4488, 4486, 7244, 4482, 4480, 4478, 7240, 7226, 4472, 4470, 7236, 4466, 4464, 4462, 7232, 4458, 4456, 4454, 7228, 4450, 4448, 4446, 7224, 7210, 4440, 4438, 7220, 4434, 4432, 4430, 7216, 4426, 4424, 4422, 7212, 4418, 4416, 4414, 7208, 7194, 4408, 4406, 7204, 4402, 4400, 4398, 7200, 4394, 4392, 4390, 7196, 4386, 4384, 4382, 8568, 7178, 7128, 6934, 7188, 4370, 4368, 4366, 7184, 4362, 4360, 4358, 7180, 4354, 4352, 4350, 7176, 7162, 4344, 4342, 7172, 4338, 4336, 4334, 7168, 4330, 4328, 4326, 7164, 4322, 4320, 4318, 7160, 7146, 4312, 4310, 7156, 4306, 4304, 4302, 7152, 4298, 4296, 4294, 7148, 4290, 4288, 4286, 7144, 7130, 4280, 4278, 7140, 4274, 4272, 4270, 7136, 4266, 4264, 4262, 7132, 4258, 4256, 4254, 8536, 7114, 7064, 4246, 7124, 4242, 4240, 4238, 7120, 4234, 4232, 4230, 7116, 4226, 4224, 4222, 7112, 7098, 4216, 4214, 7108, 4210, 4208, 4206, 7104, 4202, 4200, 4198, 7100, 4194, 4192, 4190, 7096, 7082, 4184, 4182, 7092, 4178, 4176, 4174, 7088, 4170, 4168, 4166, 7084, 4162, 4160, 4158, 7080, 7066, 4152, 4150, 7076, 4146, 4144, 4142, 7072, 4138, 4136, 4134, 7068, 4130, 4128, 4126, 8504, 7050, 7000, 4118, 7060, 4114, 4112, 4110, 7056, 4106, 4104, 4102, 7052, 4098, 4096, 4094, 7048, 7034, 4088, 4086, 7044, 4082, 4080, 4078, 7040, 4074, 4072, 4070, 7036, 4066, 4064, 4062, 7032, 7018, 4056, 4054, 7028, 4050, 4048, 4046, 7024, 4042, 4040, 4038, 7020, 4034, 4032, 4030, 7016, 7002, 4024, 4022, 7012, 4018, 4016, 4014, 7008, 4010, 4008, 4006, 7004, 4002, 4000, 3998, 8472, 6986, 6936, 3990, 6996, 3986, 3984, 3982, 6992, 3978, 3976, 3974, 6988, 3970, 3968, 3966, 6984, 6970, 3960, 3958, 6980, 3954, 3952, 3950, 6976, 3946, 3944, 3942, 6972, 3938, 3936, 3934, 6968, 6954, 3928, 3926, 6964, 3922, 3920, 3918, 6960, 3914, 3912, 3910, 6956, 3906, 3904, 3902, 6952, 6938, 3896, 3894, 6948, 3890, 3888, 3886, 6944, 3882, 3880, 3878, 6940, 3874, 3872, 3870, 8440, 6922, 6872, 6678, 7956, 3858, 3856, 3854, 6928, 3850, 3848, 3846, 6924, 3842, 3840, 3838, 6920, 6906, 3832, 3830, 6916, 3826, 3824, 3822, 6912, 3818, 3816, 3814, 6908, 3810, 3808, 3806, 6904, 6890, 3800, 3798, 6900, 3794, 3792, 3790, 6896, 3786, 3784, 3782, 6892, 3778, 3776, 3774, 6888, 6874, 3768, 3766, 6884, 3762, 3760, 3758, 6880, 3754, 3752, 3750, 6876, 3746, 3744, 3742, 8408, 6858, 6808, 3734, 6868, 3730, 3728, 3726, 6864, 3722, 3720, 3718, 6860, 3714, 3712, 3710, 6856, 6842, 3704, 3702, 6852, 3698, 3696, 3694, 6848, 3690, 3688, 3686, 6844, 3682, 3680, 3678, 6840, 6826, 3672, 3670, 6836, 3666, 3664, 3662, 6832, 3658, 3656, 3654, 6828, 3650, 3648, 3646, 6824, 6810, 3640, 3638, 6820, 3634, 3632, 3630, 6816, 3626, 3624, 3622, 6812, 3618, 3616, 3614, 8376, 6794, 6744, 3606, 6804, 3602, 3600, 3598, 6800, 3594, 3592, 3590, 6796, 3586, 3584, 3582, 6792, 6778, 3576, 3574, 6788, 3570, 3568, 3566, 6784, 3562, 3560, 3558, 6780, 3554, 3552, 3550, 6776, 6762, 3544, 3542, 6772, 3538, 3536, 3534, 6768, 3530, 3528, 3526, 6764, 3522, 3520, 3518, 6760, 6746, 3512, 3510, 6756, 3506, 3504, 3502, 6752, 3498, 3496, 3494, 6748, 3490, 3488, 3486, 8344, 6730, 6680, 3478, 6740, 3474, 3472, 3470, 6736, 3466, 3464, 3462, 6732, 3458, 3456, 3454, 6728, 6714, 3448, 3446, 6724, 3442, 3440, 3438, 6720, 3434, 3432, 3430, 6716, 3426, 3424, 3422, 6712, 6698, 3416, 3414, 6708, 3410, 3408, 3406, 6704, 3402, 3400, 3398, 6700, 3394, 3392, 3390, 6696, 6682, 3384, 3382, 6692, 3378, 3376, 3374, 6688, 3370, 3368, 3366, 6684, 3362, 3360, 3358, 8312, 6666, 6616, 6422, 6676, 3346, 3344, 3342, 6672, 3338, 3336, 3334, 6668, 3330, 3328, 3326, 6664, 6650, 3320, 3318, 6660, 3314, 3312, 3310, 6656, 3306, 3304, 3302, 6652, 3298, 3296, 3294, 6648, 6634, 3288, 3286, 6644, 3282, 3280, 3278, 6640, 3274, 3272, 3270, 6636, 3266, 3264, 3262, 6632, 6618, 3256, 3254, 6628, 3250, 3248, 3246, 6624, 3242, 3240, 3238, 6620, 3234, 3232, 3230, 8280, 6602, 6552, 3222, 6612, 3218, 3216, 3214, 6608, 3210, 3208, 3206, 6604, 3202, 3200, 3198, 6600, 6586, 3192, 3190, 6596, 3186, 3184, 3182, 6592, 3178, 3176, 3174, 6588, 3170, 3168, 3166, 6584, 6570, 3160, 3158, 6580, 3154, 3152, 3150, 6576, 3146, 3144, 3142, 6572, 3138, 3136, 3134, 6568, 6554, 3128, 3126, 6564, 3122, 3120, 3118, 6560, 3114, 3112, 3110, 6556, 3106, 3104, 3102, 8248, 6538, 6488, 3094, 6548, 3090, 3088, 3086, 6544, 3082, 3080, 3078, 6540, 3074, 3072, 3070, 6536, 6522, 3064, 3062, 6532, 3058, 3056, 3054, 6528, 3050, 3048, 3046, 6524, 3042, 3040, 3038, 6520, 6506, 3032, 3030, 6516, 3026, 3024, 3022, 6512, 3018, 3016, 3014, 6508, 3010, 3008, 3006, 6504, 6490, 3000, 2998, 6500, 2994, 2992, 2990, 6496, 2986, 2984, 2982, 6492, 2978, 2976, 2974, 8216, 6474, 6424, 2966, 6484, 2962, 2960, 2958, 6480, 2954, 2952, 2950, 6476, 2946, 2944, 2942, 6472, 6458, 2936, 2934, 6468, 2930, 2928, 2926, 6464, 2922, 2920, 2918, 6460, 2914, 2912, 2910, 6456, 6442, 2904, 2902, 6452, 2898, 2896, 2894, 6448, 2890, 2888, 2886, 6444, 2882, 2880, 2878, 6440, 6426, 2872, 2870, 6436, 2866, 2864, 2862, 6432, 2858, 2856, 2854, 6428, 2850, 2848, 2846, 8184, 6410, 6360, 6166, 6420, 2834, 2832, 2830, 6416, 2826, 2824, 2822, 6412, 2818, 2816, 2814, 6408, 6394, 2808, 2806, 6404, 2802, 2800, 2798, 6400, 2794, 2792, 2790, 6396, 2786, 2784, 2782, 6392, 6378, 2776, 2774, 6388, 2770, 2768, 2766, 6384, 2762, 2760, 2758, 6380, 2754, 2752, 2750, 6376, 6362, 2744, 2742, 6372, 2738, 2736, 2734, 6368, 2730, 2728, 2726, 6364, 2722, 2720, 2718, 8152, 6346, 6296, 2710, 6356, 2706, 2704, 2702, 6352, 2698, 2696, 2694, 6348, 2690, 2688, 2686, 6344, 6330, 2680, 2678, 6340, 2674, 2672, 2670, 6336, 2666, 2664, 2662, 6332, 2658, 2656, 2654, 6328, 6314, 2648, 2646, 6324, 2642, 2640, 2638, 6320, 2634, 2632, 2630, 6316, 2626, 2624, 2622, 6312, 6298, 2616, 2614, 6308, 2610, 2608, 2606, 6304, 2602, 2600, 2598, 6300, 2594, 2592, 2590, 8120, 6282, 6232, 2582, 6292, 2578, 2576, 2574, 6288, 2570, 2568, 2566, 6284, 2562, 2560, 2558, 6280, 6266, 2552, 2550, 6276, 2546, 2544, 2542, 6272, 2538, 2536, 2534, 6268, 2530, 2528, 2526, 6264, 6250, 2520, 2518, 6260, 2514, 2512, 2510, 6256, 2506, 2504, 2502, 6252, 2498, 2496, 2494, 6248, 6234, 2488, 2486, 6244, 2482, 2480, 2478, 6240, 2474, 2472, 2470, 6236, 2466, 2464, 2462, 8088, 6218, 6168, 2454, 6228, 2450, 2448, 2446, 6224, 2442, 2440, 2438, 6220, 2434, 2432, 2430, 6216, 6202, 2424, 2422, 6212, 2418, 2416, 2414, 6208, 2410, 2408, 2406, 6204, 2402, 2400, 2398, 6200, 6186, 2392, 2390, 6196, 2386, 2384, 2382, 6192, 2378, 2376, 2374, 6188, 2370, 2368, 2366, 6184, 6170, 2360, 2358, 6180, 2354, 2352, 2350, 6176, 2346, 2344, 2342, 6172, 2338, 2336, 2334, 8056, 6154, 6104, 5910, 6164, 2322, 2320, 2318, 6160, 2314, 2312, 2310, 6156, 2306, 2304, 2302, 6152, 6138, 2296, 2294, 6148, 2290, 2288, 2286, 6144, 2282, 2280, 2278, 6140, 2274, 2272, 2270, 6136, 6122, 2264, 2262, 6132, 2258, 2256, 2254, 6128, 2250, 2248, 2246, 6124, 2242, 2240, 2238, 6120, 6106, 2232, 2230, 6116, 2226, 2224, 2222, 6112, 2218, 2216, 2214, 6108, 2210, 2208, 2206, 8024, 6090, 6040, 2198, 6100, 2194, 2192, 2190, 6096, 2186, 2184, 2182, 6092, 2178, 2176, 2174, 6088, 6074, 2168, 2166, 6084, 2162, 2160, 2158, 6080, 2154, 2152, 2150, 6076, 2146, 2144, 2142, 6072, 6058, 2136, 2134, 6068, 2130, 2128, 2126, 6064, 2122, 2120, 2118, 6060, 2114, 2112, 2110, 6056, 6042, 2104, 2102, 6052, 2098, 2096, 2094, 6048, 2090, 2088, 2086, 6044, 2082, 2080, 2078, 7992, 6026, 5976, 2070, 6036, 2066, 2064, 2062, 6032, 2058, 2056, 2054, 6028, 2050, 2048, 2046, 6024, 6010, 2040, 2038, 6020, 2034, 2032, 2030, 6016, 2026, 2024, 2022, 6012, 2018, 2016, 2014, 6008, 5994, 2008, 2006, 6004, 2002, 2000, 1998, 6000, 1994, 1992, 1990, 5996, 1986, 1984, 1982, 5992, 5978, 1976, 1974, 5988, 1970, 1968, 1966, 5984, 1962, 1960, 1958, 5980, 1954, 1952, 1950, 7960, 5962, 5912, 1942, 5972, 1938, 1936, 1934, 5968, 1930, 1928, 1926, 5964, 1922, 1920, 1918, 5960, 5946, 1912, 1910, 5956, 1906, 1904, 1902, 5952, 1898, 1896, 1894, 5948, 1890, 1888, 1886, 5944, 5930, 1880, 1878, 5940, 1874, 1872, 1870, 5936, 1866, 1864, 1862, 5932, 1858, 1856, 1854, 5928, 5914, 1848, 1846, 5924, 1842, 1840, 1838, 5920, 1834, 1832, 1830, 5916, 1826, 1824, 1822, 7929, 5899, 5849, 5655, 7445, 1811, 1809, 1807, 5905, 1803, 1801, 1799, 5901, 1795, 1793, 1791, 5897, 5883, 1785, 1783, 5893, 1779, 1777, 1775, 5889, 1771, 1769, 1767, 5885, 1763, 1761, 1759, 5881, 5867, 1753, 1751, 5877, 1747, 1745, 1743, 5873, 1739, 1737, 1735, 5869, 1731, 1729, 1727, 5865, 5851, 1721, 1719, 5861, 1715, 1713, 1711, 5857, 1707, 1705, 1703, 5853, 1699, 1697, 1695, 7897, 5835, 5785, 1687, 5845, 1683, 1681, 1679, 5841, 1675, 1673, 1671, 5837, 1667, 1665, 1663, 5833, 5819, 1657, 1655, 5829, 1651, 1649, 1647, 5825, 1643, 1641, 1639, 5821, 1635, 1633, 1631, 5817, 5803, 1625, 1623, 5813, 1619, 1617, 1615, 5809, 1611, 1609, 1607, 5805, 1603, 1601, 1599, 5801, 5787, 1593, 1591, 5797, 1587, 1585, 1583, 5793, 1579, 1577, 1575, 5789, 1571, 1569, 1567, 7865, 5771, 5721, 1559, 5781, 1555, 1553, 1551, 5777, 1547, 1545, 1543, 5773, 1539, 1537, 1535, 5769, 5755, 1529, 1527, 5765, 1523, 1521, 1519, 5761, 1515, 1513, 1511, 5757, 1507, 1505, 1503, 5753, 5739, 1497, 1495, 5749, 1491, 1489, 1487, 5745, 1483, 1481, 1479, 5741, 1475, 1473, 1471, 5737, 5723, 1465, 1463, 5733, 1459, 1457, 1455, 5729, 1451, 1449, 1447, 5725, 1443, 1441, 1439, 7833, 5707, 5657, 1431, 5717, 1427, 1425, 1423, 5713, 1419, 1417, 1415, 5709, 1411, 1409, 1407, 5705, 5691, 1401, 1399, 5701, 1395, 1393, 1391, 5697, 1387, 1385, 1383, 5693, 1379, 1377, 1375, 5689, 5675, 1369, 1367, 5685, 1363, 1361, 1359, 5681, 1355, 1353, 1351, 5677, 1347, 1345, 1343, 5673, 5659, 1337, 1335, 5669, 1331, 1329, 1327, 5665, 1323, 1321, 1319, 5661, 1315, 1313, 1311, 7801, 5643, 5593, 5399, 5653, 1299, 1297, 1295, 5649, 1291, 1289, 1287, 5645, 1283, 1281, 1279, 5641, 5627, 1273, 1271, 5637, 1267, 1265, 1263, 5633, 1259, 1257, 1255, 5629, 1251, 1249, 1247, 5625, 5611, 1241, 1239, 5621, 1235, 1233, 1231, 5617, 1227, 1225, 1223, 5613, 1219, 1217, 1215, 5609, 5595, 1209, 1207, 5605, 1203, 1201, 1199, 5601, 1195, 1193, 1191, 5597, 1187, 1185, 1183, 7769, 5579, 5529, 1175, 5589, 1171, 1169, 1167, 5585, 1163, 1161, 1159, 5581, 1155, 1153, 1151, 5577, 5563, 1145, 1143, 5573, 1139, 1137, 1135, 5569, 1131, 1129, 1127, 5565, 1123, 1121, 1119, 5561, 5547, 1113, 1111, 5557, 1107, 1105, 1103, 5553, 1099, 1097, 1095, 5549, 1091, 1089, 1087, 5545, 5531, 1081, 1079, 5541, 1075, 1073, 1071, 5537, 1067, 1065, 1063, 5533, 1059, 1057, 1055, 7737, 5515, 5465, 1047, 5525, 1043, 1041, 1039, 5521, 1035, 1033, 1031, 5517, 1027, 1025, 1023, 5513, 5499, 1017, 1015, 5509, 1011, 1009, 1007, 5505, 1003, 1001, 999, 5501, 995, 993, 991, 5497, 5483, 985, 983, 5493, 979, 977, 975, 5489, 971, 969, 967, 5485, 963, 961, 959, 5481, 5467, 953, 951, 5477, 947, 945, 943, 5473, 939, 937, 935, 5469, 931, 929, 927, 7705, 5451, 5401, 919, 5461, 915, 913, 911, 5457, 907, 905, 903, 5453, 899, 897, 895, 5449, 5435, 889, 887, 5445, 883, 881, 879, 5441, 875, 873, 871, 5437, 867, 865, 863, 5433, 5419, 857, 855, 5429, 851, 849, 847, 5425, 843, 841, 839, 5421, 835, 833, 831, 5417, 5403, 825, 823, 5413, 819, 817, 815, 5409, 811, 809, 807, 5405, 803, 801, 799, 7673, 5387, 5337, 5143, 5397, 787, 785, 783, 5393, 779, 777, 775, 5389, 771, 769, 767, 5385, 5371, 761, 759, 5381, 755, 753, 751, 5377, 747, 745, 743, 5373, 739, 737, 735, 5369, 5355, 729, 727, 5365, 723, 721, 719, 5361, 715, 713, 711, 5357, 707, 705, 703, 5353, 5339, 697, 695, 5349, 691, 689, 687, 5345, 683, 681, 679, 5341, 675, 673, 671, 7641, 5323, 5273, 663, 5333, 659, 657, 655, 5329, 651, 649, 647, 5325, 643, 641, 639, 5321, 5307, 633, 631, 5317, 627, 625, 623, 5313, 619, 617, 615, 5309, 611, 609, 607, 5305, 5291, 601, 599, 5301, 595, 593, 591, 5297, 587, 585, 583, 5293, 579, 577, 575, 5289, 5275, 569, 567, 5285, 563, 561, 559, 5281, 555, 553, 551, 5277, 547, 545, 543, 7609, 5259, 5209, 535, 5269, 531, 529, 527, 5265, 523, 521, 519, 5261, 515, 513, 511, 5257, 5243, 505, 503, 5253, 499, 497, 495, 5249, 491, 489, 487, 5245, 483, 481, 479, 5241, 5227, 473, 471, 5237, 467, 465, 463, 5233, 459, 457, 455, 5229, 451, 449, 447, 5225, 5211, 441, 439, 5221, 435, 433, 431, 5217, 427, 425, 423, 5213, 419, 417, 415, 7577, 5195, 5145, 407, 5205, 403, 401, 399, 5201, 395, 393, 391, 5197, 387, 385, 383, 5193, 5179, 377, 375, 5189, 371, 369, 367, 5185, 363, 361, 359, 5181, 355, 353, 351, 5177, 5163, 345, 343, 5173, 339, 337, 335, 5169, 331, 329, 327, 5165, 323, 321, 319, 5161, 5147, 313, 311, 5157, 307, 305, 303, 5153, 299, 297, 295, 5149, 291, 289, 287, 7545, 5131, 5081, 4887, 5141, 275, 273, 271, 5137, 267, 265, 263, 5133, 259, 257, 255, 5129, 5115, 249, 247, 5125, 243, 241, 239, 5121, 235, 233, 231, 5117, 227, 225, 223, 5113, 5099, 217, 215, 5109, 211, 209, 207, 5105, 203, 201, 199, 5101, 195, 193, 191, 5097, 5083, 185, 183, 5093, 179, 177, 175, 5089, 171, 169, 167, 5085, 163, 161, 159, 7513, 5067, 5017, 151, 5077, 147, 145, 143, 5073, 139, 137, 135, 5069, 131, 129, 127, 5065, 5051, 121, 119, 5061, 115, 113, 111, 5057, 107, 105, 103, 5053, 99, 97, 95, 5049, 5035, 89, 87, 5045, 83, 81, 79, 5041, 75, 73, 71, 5037, 67, 65, 63, 5033, 5019, 57, 55, 5029, 51, 49, 47, 5025, 43, 41, 39, 5021, 35, 33, 31, 7481, 5003, 4953, 23, 5013, 19, 17, 15, 7508, 7511, 9368, 5011, 9377, 7509, 7510, 5007, 9851, 8755, 8758, 7499, 9383, 7505, 7506, 4999, 9688, 7503, 8756, 4995, 8757, 7501, 7502, 4991, 9928, 8751, 9378, 7491, 9381, 7497, 8746, 4983, 9694, 7495, 8752, 4979, 8753, 7493, 7494, 4975, 9695, 8747, 8750, 7483, 9379, 7489, 7490, 4967, 9380, 7487, 8748, 4963, 8749, 7485, 7486, 4959, 9929, 8743, 9374, 7475, 9689, 8729, 8738, 4951, 9692, 7479, 8744, 4947, 9369, 7477, 7478, 4943, 9849, 8739, 8742, 7467, 9375, 7473, 7474, 4935, 9376, 7471, 8740, 4931, 8741, 7469, 7470, 4927, 9850, 8735, 9370, 7459, 9373, 7465, 8730, 4919, 9690, 7463, 8736, 4915, 8737, 7461, 7462, 4911, 9691, 8731, 8734, 7451, 9371, 7457, 7458, 4903, 9372, 7455, 8732, 4899, 8733, 7453, 7454, 4895, 9999, 9335, 9654, 7443, 9813, 8713, 8722, 7319, 9844, 8663, 9352, 4883, 9361, 8469, 8598, 4879, 9923, 8723, 9302, 7435, 9671, 7441, 7442, 4871, 9680, 7439, 8724, 4867, 9237, 7437, 7438, 4863, 9962, 8719, 9362, 7427, 9621, 7433, 8714, 4855, 9830, 7431, 8720, 4851, 8721, 7429, 7430, 4847, 9839, 8715, 8718, 7419, 9363, 7425, 7426, 4839, 9364, 7423, 8716, 4835, 8717, 7421, 7422, 4831, 9981, 8711, 9358, 7411, 9681, 8697, 8706, 4823, 9684, 7415, 8712, 4819, 9353, 7413, 7414, 4815, 9909, 8707, 8710, 7403, 9359, 7409, 7410, 4807, 9360, 7407, 8708, 4803, 8709, 7405, 7406, 4799, 9918, 8703, 9354, 7395, 9357, 7401, 8698, 4791, 9682, 7399, 8704, 4787, 8705, 7397, 7398, 4783, 9683, 8699, 8702, 7387, 9355, 7393, 7394, 4775, 9356, 7391, 8700, 4771, 8701, 7389, 7390, 4767, 9984, 8695, 9350, 7379, 9677, 8681, 8690, 4759, 9840, 7383, 9336, 4755, 9345, 7381, 7382, 4751, 9843, 8691, 8694, 7371, 9351, 7377, 7378, 4743, 9672, 7375, 8692, 4739, 8693, 7373, 7374, 4735, 9924, 8687, 9346, 7363, 9349, 7369, 8682, 4727, 9678, 7367, 8688, 4723, 8689, 7365, 7366, 4719, 9679, 8683, 8686, 7355, 9347, 7361, 7362, 4711, 9348, 7359, 8684, 4707, 8685, 7357, 7358, 4703, 9957, 8679, 9342, 7347, 9673, 8665, 8674, 4695, 9676, 7351, 8680, 4691, 9337, 7349, 7350, 4687, 9841, 8675, 8678, 7339, 9343, 7345, 7346, 4679, 9344, 7343, 8676, 4675, 8677, 7341, 7342, 4671, 9842, 8671, 9338, 7331, 9341, 7337, 8666, 4663, 9674, 7335, 8672, 4659, 8673, 7333, 7334, 4655, 9675, 8667, 8670, 7323, 9339, 7329, 7330, 4647, 9340, 7327, 8668, 4643, 8669, 7325, 7326, 4639, 9993, 9303, 9334, 7315, 9669, 8649, 8658, 7191, 9836, 8599, 9320, 4627, 9329, 7317, 7318, 4623, 9919, 8659, 8662, 7307, 9655, 7313, 7314, 4615, 9664, 7311, 8660, 4611, 8661, 7309, 7310, 4607, 9922, 8655, 9330, 7299, 9333, 7305, 8650, 4599, 9670, 7303, 8656, 4595, 8657, 7301, 7302, 4591, 9831, 8651, 8654, 7291, 9331, 7297, 7298, 4583, 9332, 7295, 8652, 4579, 8653, 7293, 7294, 4575, 9963, 8647, 9326, 7283, 9665, 8633, 8642, 4567, 9668, 7287, 8648, 4563, 9321, 7285, 7286, 4559, 9837, 8643, 8646, 7275, 9327, 7281, 7282, 4551, 9328, 7279, 8644, 4547, 8645, 7277, 7278, 4543, 9838, 8639, 9322, 7267, 9325, 7273, 8634, 4535, 9666, 7271, 8640, 4531, 8641, 7269, 7270, 4527, 9667, 8635, 8638, 7259, 9323, 7265, 7266, 4519, 9324, 7263, 8636, 4515, 8637, 7261, 7262, 4511, 9964, 8631, 9318, 7251, 9661, 8617, 8626, 4503, 9832, 7255, 9304, 4499, 9313, 7253, 7254, 4495, 9835, 8627, 8630, 7243, 9319, 7249, 7250, 4487, 9656, 7247, 8628, 4483, 8629, 7245, 7246, 4479, 9920, 8623, 9314, 7235, 9317, 7241, 8618, 4471, 9662, 7239, 8624, 4467, 8625, 7237, 7238, 4463, 9663, 8619, 8622, 7227, 9315, 7233, 7234, 4455, 9316, 7231, 8620, 4451, 8621, 7229, 7230, 4447, 9921, 8615, 9310, 7219, 9657, 8601, 8610, 4439, 9660, 7223, 8616, 4435, 9305, 7221, 7222, 4431, 9833, 8611, 8614, 7211, 9311, 7217, 7218, 4423, 9312, 7215, 8612, 4419, 8613, 7213, 7214, 4415, 9834, 8607, 9306, 7203, 9309, 7209, 8602, 4407, 9658, 7207, 8608, 4403, 8609, 7205, 7206, 4399, 9659, 8603, 8606, 7195, 9307, 7201, 7202, 4391, 9308, 7199, 8604, 4387, 8605, 7197, 7198, 4383, 9994, 9271, 9622, 7187, 9653, 8585, 8594, 7063, 9828, 8535, 9288, 4371, 9297, 7189, 8470, 4367, 9915, 8595, 9238, 7179, 9639, 7185, 7186, 4359, 9648, 7183, 8596, 4355, 8597, 7181, 7182, 4351, 9958, 8591, 9298, 7171, 9301, 7177, 8586, 4343, 9814, 7175, 8592, 4339, 8593, 7173, 7174, 4335, 9823, 8587, 8590, 7163, 9299, 7169, 7170, 4327, 9300, 7167, 8588, 4323, 8589, 7165, 7166, 4319, 9961, 8583, 9294, 7155, 9649, 8569, 8578, 4311, 9652, 7159, 8584, 4307, 9289, 7157, 7158, 4303, 9829, 8579, 8582, 7147, 9295, 7153, 7154, 4295, 9296, 7151, 8580, 4291, 8581, 7149, 7150, 4287, 9910, 8575, 9290, 7139, 9293, 7145, 8570, 4279, 9650, 7143, 8576, 4275, 8577, 7141, 7142, 4271, 9651, 8571, 8574, 7131, 9291, 7137, 7138, 4263, 9292, 7135, 8572, 4259, 8573, 7133, 7134, 4255, 9982, 8567, 9286, 7123, 9645, 8553, 8562, 4247, 9824, 7127, 9272, 4243, 9281, 7125, 7126, 4239, 9827, 8563, 8566, 7115, 9287, 7121, 7122, 4231, 9640, 7119, 8564, 4227, 8565, 7117, 7118, 4223, 9916, 8559, 9282, 7107, 9285, 7113, 8554, 4215, 9646, 7111, 8560, 4211, 8561, 7109, 7110, 4207, 9647, 8555, 8558, 7099, 9283, 7105, 7106, 4199, 9284, 7103, 8556, 4195, 8557, 7101, 7102, 4191, 9917, 8551, 9278, 7091, 9641, 8537, 8546, 4183, 9644, 7095, 8552, 4179, 9273, 7093, 7094, 4175, 9825, 8547, 8550, 7083, 9279, 7089, 7090, 4167, 9280, 7087, 8548, 4163, 8549, 7085, 7086, 4159, 9826, 8543, 9274, 7075, 9277, 7081, 8538, 4151, 9642, 7079, 8544, 4147, 8545, 7077, 7078, 4143, 9643, 8539, 8542, 7067, 9275, 7073, 7074, 4135, 9276, 7071, 8540, 4131, 8541, 7069, 7070, 4127, 9983, 9239, 9270, 7059, 9637, 8521, 8530, 6935, 9820, 8471, 9256, 4115, 9265, 7061, 7062, 4111, 9911, 8531, 8534, 7051, 9623, 7057, 7058, 4103, 9632, 7055, 8532, 4099, 8533, 7053, 7054, 4095, 9914, 8527, 9266, 7043, 9269, 7049, 8522, 4087, 9638, 7047, 8528, 4083, 8529, 7045, 7046, 4079, 9815, 8523, 8526, 7035, 9267, 7041, 7042, 4071, 9268, 7039, 8524, 4067, 8525, 7037, 7038, 4063, 9959, 8519, 9262, 7027, 9633, 8505, 8514, 4055, 9636, 7031, 8520, 4051, 9257, 7029, 7030, 4047, 9821, 8515, 8518, 7019, 9263, 7025, 7026, 4039, 9264, 7023, 8516, 4035, 8517, 7021, 7022, 4031, 9822, 8511, 9258, 7011, 9261, 7017, 8506, 4023, 9634, 7015, 8512, 4019, 8513, 7013, 7014, 4015, 9635, 8507, 8510, 7003, 9259, 7009, 7010, 4007, 9260, 7007, 8508, 4003, 8509, 7005, 7006, 3999, 9960, 8503, 9254, 6995, 9629, 8489, 8498, 3991, 9816, 6999, 9240, 3987, 9249, 6997, 6998, 3983, 9819, 8499, 8502, 6987, 9255, 6993, 6994, 3975, 9624, 6991, 8500, 3971, 8501, 6989, 6990, 3967, 9912, 8495, 9250, 6979, 9253, 6985, 8490, 3959, 9630, 6983, 8496, 3955, 8497, 6981, 6982, 3951, 9631, 8491, 8494, 6971, 9251, 6977, 6978, 3943, 9252, 6975, 8492, 3939, 8493, 6973, 6974, 3935, 9913, 8487, 9246, 6963, 9625, 8473, 8482, 3927, 9628, 6967, 8488, 3923, 9241, 6965, 6966, 3919, 9817, 8483, 8486, 6955, 9247, 6961, 6962, 3911, 9248, 6959, 8484, 3907, 8485, 6957, 6958, 3903, 9818, 8479, 9242, 6947, 9245, 6953, 8474, 3895, 9626, 6951, 8480, 3891, 8481, 6949, 6950, 3887, 9627, 8475, 8478, 6939, 9243, 6945, 6946, 3879, 9244, 6943, 8476, 3875, 8477, 6941, 6942, 3871, 10000, 9207, 9590, 6931, 9781, 8457, 8466, 6807, 9876, 8407, 9224, 3859, 9233, 8213, 8342, 3855, 9907, 8467, 9174, 6923, 9607, 6929, 6930, 3847, 9616, 6927, 8980, 3843, 9109, 6925, 6926, 3839, 9954, 8463, 9234, 6915, 9557, 6921, 8458, 3831, 9798, 6919, 8464, 3827, 8465, 6917, 6918, 3823, 9807, 8459, 8462, 6907, 9235, 6913, 6914, 3815, 9492, 6911, 8460, 3811, 8461, 6909, 6910, 3807, 9977, 8455, 9230, 6899, 9617, 8441, 8450, 3799, 9748, 6903, 8456, 3795, 9225, 6901, 6902, 3791, 9893, 8451, 8454, 6891, 9231, 6897, 6898, 3783, 9232, 6895, 8452, 3779, 8453, 6893, 6894, 3775, 9902, 8447, 9226, 6883, 9229, 6889, 8442, 3767, 9618, 6887, 8448, 3763, 8449, 6885, 6886, 3759, 9619, 8443, 8446, 6875, 9227, 6881, 6882, 3751, 9228, 6879, 8444, 3747, 8445, 6877, 6878, 3743, 9988, 8439, 9222, 6867, 9613, 8425, 8434, 3735, 9808, 6871, 9208, 3731, 9217, 6869, 6870, 3727, 9811, 8435, 8438, 6859, 9223, 6865, 6866, 3719, 9608, 6863, 8436, 3715, 8437, 6861, 6862, 3711, 9940, 8431, 9218, 6851, 9221, 6857, 8426, 3703, 9614, 6855, 8432, 3699, 8433, 6853, 6854, 3695, 9615, 8427, 8430, 6843, 9219, 6849, 6850, 3687, 9220, 6847, 8428, 3683, 8429, 6845, 6846, 3679, 9949, 8423, 9214, 6835, 9609, 8409, 8418, 3671, 9612, 6839, 8424, 3667, 9209, 6837, 6838, 3663, 9809, 8419, 8422, 6827, 9215, 6833, 6834, 3655, 9216, 6831, 8420, 3651, 8421, 6829, 6830, 3647, 9810, 8415, 9210, 6819, 9213, 6825, 8410, 3639, 9610, 6823, 8416, 3635, 8417, 6821, 6822, 3631, 9611, 8411, 8414, 6811, 9211, 6817, 6818, 3623, 9212, 6815, 8412, 3619, 8413, 6813, 6814, 3615, 9991, 9175, 9206, 6803, 9605, 8393, 8402, 6679, 9804, 8343, 9192, 3603, 9201, 6805, 6806, 3599, 9903, 8403, 8406, 6795, 9591, 6801, 6802, 3591, 9600, 6799, 8404, 3587, 8405, 6797, 6798, 3583, 9906, 8399, 9202, 6787, 9205, 6793, 8394, 3575, 9606, 6791, 8400, 3571, 8401, 6789, 6790, 3567, 9799, 8395, 8398, 6779, 9203, 6785, 6786, 3559, 9204, 6783, 8396, 3555, 8397, 6781, 6782, 3551, 9955, 8391, 9198, 6771, 9601, 8377, 8386, 3543, 9604, 6775, 8392, 3539, 9193, 6773, 6774, 3535, 9805, 8387, 8390, 6763, 9199, 6769, 6770, 3527, 9200, 6767, 8388, 3523, 8389, 6765, 6766, 3519, 9806, 8383, 9194, 6755, 9197, 6761, 8378, 3511, 9602, 6759, 8384, 3507, 8385, 6757, 6758, 3503, 9603, 8379, 8382, 6747, 9195, 6753, 6754, 3495, 9196, 6751, 8380, 3491, 8381, 6749, 6750, 3487, 9972, 8375, 9190, 6739, 9597, 8361, 8370, 3479, 9800, 6743, 9176, 3475, 9185, 6741, 6742, 3471, 9803, 8371, 8374, 6731, 9191, 6737, 6738, 3463, 9592, 6735, 8372, 3459, 8373, 6733, 6734, 3455, 9904, 8367, 9186, 6723, 9189, 6729, 8362, 3447, 9598, 6727, 8368, 3443, 8369, 6725, 6726, 3439, 9599, 8363, 8366, 6715, 9187, 6721, 6722, 3431, 9188, 6719, 8364, 3427, 8365, 6717, 6718, 3423, 9905, 8359, 9182, 6707, 9593, 8345, 8354, 3415, 9596, 6711, 8360, 3411, 9177, 6709, 6710, 3407, 9801, 8355, 8358, 6699, 9183, 6705, 6706, 3399, 9184, 6703, 8356, 3395, 8357, 6701, 6702, 3391, 9802, 8351, 9178, 6691, 9181, 6697, 8346, 3383, 9594, 6695, 8352, 3379, 8353, 6693, 6694, 3375, 9595, 8347, 8350, 6683, 9179, 6689, 6690, 3367, 9180, 6687, 8348, 3363, 8349, 6685, 6686, 3359, 9996, 9143, 9558, 6675, 9589, 8329, 8338, 6551, 9796, 8279, 9160, 3347, 9169, 6677, 8214, 3343, 9899, 8339, 9110, 6667, 9575, 6673, 6674, 3335, 9584, 6671, 8340, 3331, 8341, 6669, 6670, 3327, 9950, 8335, 9170, 6659, 9173, 6665, 8330, 3319, 9782, 6663, 8336, 3315, 8337, 6661, 6662, 3311, 9791, 8331, 8334, 6651, 9171, 6657, 6658, 3303, 9172, 6655, 8332, 3299, 8333, 6653, 6654, 3295, 9953, 8327, 9166, 6643, 9585, 8313, 8322, 3287, 9588, 6647, 8328, 3283, 9161, 6645, 6646, 3279, 9797, 8323, 8326, 6635, 9167, 6641, 6642, 3271, 9168, 6639, 8324, 3267, 8325, 6637, 6638, 3263, 9894, 8319, 9162, 6627, 9165, 6633, 8314, 3255, 9586, 6631, 8320, 3251, 8321, 6629, 6630, 3247, 9587, 8315, 8318, 6619, 9163, 6625, 6626, 3239, 9164, 6623, 8316, 3235, 8317, 6621, 6622, 3231, 9978, 8311, 9158, 6611, 9581, 8297, 8306, 3223, 9792, 6615, 9144, 3219, 9153, 6613, 6614, 3215, 9795, 8307, 8310, 6603, 9159, 6609, 6610, 3207, 9576, 6607, 8308, 3203, 8309, 6605, 6606, 3199, 9900, 8303, 9154, 6595, 9157, 6601, 8298, 3191, 9582, 6599, 8304, 3187, 8305, 6597, 6598, 3183, 9583, 8299, 8302, 6587, 9155, 6593, 6594, 3175, 9156, 6591, 8300, 3171, 8301, 6589, 6590, 3167, 9901, 8295, 9150, 6579, 9577, 8281, 8290, 3159, 9580, 6583, 8296, 3155, 9145, 6581, 6582, 3151, 9793, 8291, 8294, 6571, 9151, 6577, 6578, 3143, 9152, 6575, 8292, 3139, 8293, 6573, 6574, 3135, 9794, 8287, 9146, 6563, 9149, 6569, 8282, 3127, 9578, 6567, 8288, 3123, 8289, 6565, 6566, 3119, 9579, 8283, 8286, 6555, 9147, 6561, 6562, 3111, 9148, 6559, 8284, 3107, 8285, 6557, 6558, 3103, 9979, 9111, 9142, 6547, 9573, 8265, 8274, 6423, 9788, 8215, 9128, 3091, 9137, 6549, 6550, 3087, 9895, 8275, 8278, 6539, 9559, 6545, 6546, 3079, 9568, 6543, 8276, 3075, 8277, 6541, 6542, 3071, 9898, 8271, 9138, 6531, 9141, 6537, 8266, 3063, 9574, 6535, 8272, 3059, 8273, 6533, 6534, 3055, 9783, 8267, 8270, 6523, 9139, 6529, 6530, 3047, 9140, 6527, 8268, 3043, 8269, 6525, 6526, 3039, 9951, 8263, 9134, 6515, 9569, 8249, 8258, 3031, 9572, 6519, 8264, 3027, 9129, 6517, 6518, 3023, 9789, 8259, 8262, 6507, 9135, 6513, 6514, 3015, 9136, 6511, 8260, 3011, 8261, 6509, 6510, 3007, 9790, 8255, 9130, 6499, 9133, 6505, 8250, 2999, 9570, 6503, 8256, 2995, 8257, 6501, 6502, 2991, 9571, 8251, 8254, 6491, 9131, 6497, 6498, 2983, 9132, 6495, 8252, 2979, 8253, 6493, 6494, 2975, 9952, 8247, 9126, 6483, 9565, 8233, 8242, 2967, 9784, 6487, 9112, 2963, 9121, 6485, 6486, 2959, 9787, 8243, 8246, 6475, 9127, 6481, 6482, 2951, 9560, 6479, 8244, 2947, 8245, 6477, 6478, 2943, 9896, 8239, 9122, 6467, 9125, 6473, 8234, 2935, 9566, 6471, 8240, 2931, 8241, 6469, 6470, 2927, 9567, 8235, 8238, 6459, 9123, 6465, 6466, 2919, 9124, 6463, 8236, 2915, 8237, 6461, 6462, 2911, 9897, 8231, 9118, 6451, 9561, 8217, 8226, 2903, 9564, 6455, 8232, 2899, 9113, 6453, 6454, 2895, 9785, 8227, 8230, 6443, 9119, 6449, 6450, 2887, 9120, 6447, 8228, 2883, 8229, 6445, 6446, 2879, 9786, 8223, 9114, 6435, 9117, 6441, 8218, 2871, 9562, 6439, 8224, 2867, 8225, 6437, 6438, 2863, 9563, 8219, 8222, 6427, 9115, 6433, 6434, 2855, 9116, 6431, 8220, 2851, 8221, 6429, 6430, 2847, 9997, 9079, 9526, 6419, 9749, 8201, 8210, 6295, 9780, 8151, 9096, 2835, 9105, 7957, 8086, 2831, 9891, 8211, 9046, 6411, 9543, 6417, 6418, 2823, 9552, 6415, 8212, 2819, 8981, 6413, 6414, 2815, 9946, 8207, 9106, 6403, 9493, 6409, 8202, 2807, 9766, 6407, 8208, 2803, 8209, 6405, 6406, 2799, 9775, 8203, 8206, 6395, 9107, 6401, 6402, 2791, 9108, 6399, 8204, 2787, 8205, 6397, 6398, 2783, 9973, 8199, 9102, 6387, 9553, 8185, 8194, 2775, 9556, 6391, 8200, 2771, 9097, 6389, 6390, 2767, 9877, 8195, 8198, 6379, 9103, 6385, 6386, 2759, 9104, 6383, 8196, 2755, 8197, 6381, 6382, 2751, 9886, 8191, 9098, 6371, 9101, 6377, 8186, 2743, 9554, 6375, 8192, 2739, 8193, 6373, 6374, 2735, 9555, 8187, 8190, 6363, 9099, 6369, 6370, 2727, 9100, 6367, 8188, 2723, 8189, 6365, 6366, 2719, 9976, 8183, 9094, 6355, 9549, 8169, 8178, 2711, 9776, 6359, 9080, 2707, 9089, 6357, 6358, 2703, 9779, 8179, 8182, 6347, 9095, 6353, 6354, 2695, 9544, 6351, 8180, 2691, 8181, 6349, 6350, 2687, 9892, 8175, 9090, 6339, 9093, 6345, 8170, 2679, 9550, 6343, 8176, 2675, 8177, 6341, 6342, 2671, 9551, 8171, 8174, 6331, 9091, 6337, 6338, 2663, 9092, 6335, 8172, 2659, 8173, 6333, 6334, 2655, 9941, 8167, 9086, 6323, 9545, 8153, 8162, 2647, 9548, 6327, 8168, 2643, 9081, 6325, 6326, 2639, 9777, 8163, 8166, 6315, 9087, 6321, 6322, 2631, 9088, 6319, 8164, 2627, 8165, 6317, 6318, 2623, 9778, 8159, 9082, 6307, 9085, 6313, 8154, 2615, 9546, 6311, 8160, 2611, 8161, 6309, 6310, 2607, 9547, 8155, 8158, 6299, 9083, 6305, 6306, 2599, 9084, 6303, 8156, 2595, 8157, 6301, 6302, 2591, 9989, 9047, 9078, 6291, 9541, 8137, 8146, 6167, 9772, 8087, 9064, 2579, 9073, 6293, 6294, 2575, 9887, 8147, 8150, 6283, 9527, 6289, 6290, 2567, 9536, 6287, 8148, 2563, 8149, 6285, 6286, 2559, 9890, 8143, 9074, 6275, 9077, 6281, 8138, 2551, 9542, 6279, 8144, 2547, 8145, 6277, 6278, 2543, 9767, 8139, 8142, 6267, 9075, 6273, 6274, 2535, 9076, 6271, 8140, 2531, 8141, 6269, 6270, 2527, 9947, 8135, 9070, 6259, 9537, 8121, 8130, 2519, 9540, 6263, 8136, 2515, 9065, 6261, 6262, 2511, 9773, 8131, 8134, 6251, 9071, 6257, 6258, 2503, 9072, 6255, 8132, 2499, 8133, 6253, 6254, 2495, 9774, 8127, 9066, 6243, 9069, 6249, 8122, 2487, 9538, 6247, 8128, 2483, 8129, 6245, 6246, 2479, 9539, 8123, 8126, 6235, 9067, 6241, 6242, 2471, 9068, 6239, 8124, 2467, 8125, 6237, 6238, 2463, 9948, 8119, 9062, 6227, 9533, 8105, 8114, 2455, 9768, 6231, 9048, 2451, 9057, 6229, 6230, 2447, 9771, 8115, 8118, 6219, 9063, 6225, 6226, 2439, 9528, 6223, 8116, 2435, 8117, 6221, 6222, 2431, 9888, 8111, 9058, 6211, 9061, 6217, 8106, 2423, 9534, 6215, 8112, 2419, 8113, 6213, 6214, 2415, 9535, 8107, 8110, 6203, 9059, 6209, 6210, 2407, 9060, 6207, 8108, 2403, 8109, 6205, 6206, 2399, 9889, 8103, 9054, 6195, 9529, 8089, 8098, 2391, 9532, 6199, 8104, 2387, 9049, 6197, 6198, 2383, 9769, 8099, 8102, 6187, 9055, 6193, 6194, 2375, 9056, 6191, 8100, 2371, 8101, 6189, 6190, 2367, 9770, 8095, 9050, 6179, 9053, 6185, 8090, 2359, 9530, 6183, 8096, 2355, 8097, 6181, 6182, 2351, 9531, 8091, 8094, 6171, 9051, 6177, 6178, 2343, 9052, 6175, 8092, 2339, 8093, 6173, 6174, 2335, 9990, 9015, 9494, 6163, 9525, 8073, 8082, 6039, 9764, 8023, 9032, 2323, 9041, 6165, 7958, 2319, 9883, 8083, 8982, 6155, 9511, 6161, 6162, 2311, 9520, 6159, 8084, 2307, 8085, 6157, 6158, 2303, 9942, 8079, 9042, 6147, 9045, 6153, 8074, 2295, 9750, 6151, 8080, 2291, 8081, 6149, 6150, 2287, 9759, 8075, 8078, 6139, 9043, 6145, 6146, 2279, 9044, 6143, 8076, 2275, 8077, 6141, 6142, 2271, 9945, 8071, 9038, 6131, 9521, 8057, 8066, 2263, 9524, 6135, 8072, 2259, 9033, 6133, 6134, 2255, 9765, 8067, 8070, 6123, 9039, 6129, 6130, 2247, 9040, 6127, 8068, 2243, 8069, 6125, 6126, 2239, 9878, 8063, 9034, 6115, 9037, 6121, 8058, 2231, 9522, 6119, 8064, 2227, 8065, 6117, 6118, 2223, 9523, 8059, 8062, 6107, 9035, 6113, 6114, 2215, 9036, 6111, 8060, 2211, 8061, 6109, 6110, 2207, 9974, 8055, 9030, 6099, 9517, 8041, 8050, 2199, 9760, 6103, 9016, 2195, 9025, 6101, 6102, 2191, 9763, 8051, 8054, 6091, 9031, 6097, 6098, 2183, 9512, 6095, 8052, 2179, 8053, 6093, 6094, 2175, 9884, 8047, 9026, 6083, 9029, 6089, 8042, 2167, 9518, 6087, 8048, 2163, 8049, 6085, 6086, 2159, 9519, 8043, 8046, 6075, 9027, 6081, 6082, 2151, 9028, 6079, 8044, 2147, 8045, 6077, 6078, 2143, 9885, 8039, 9022, 6067, 9513, 8025, 8034, 2135, 9516, 6071, 8040, 2131, 9017, 6069, 6070, 2127, 9761, 8035, 8038, 6059, 9023, 6065, 6066, 2119, 9024, 6063, 8036, 2115, 8037, 6061, 6062, 2111, 9762, 8031, 9018, 6051, 9021, 6057, 8026, 2103, 9514, 6055, 8032, 2099, 8033, 6053, 6054, 2095, 9515, 8027, 8030, 6043, 9019, 6049, 6050, 2087, 9020, 6047, 8028, 2083, 8029, 6045, 6046, 2079, 9975, 8983, 9014, 6035, 9509, 8009, 8018, 5911, 9756, 7959, 9000, 2067, 9009, 6037, 6038, 2063, 9879, 8019, 8022, 6027, 9495, 6033, 6034, 2055, 9504, 6031, 8020, 2051, 8021, 6029, 6030, 2047, 9882, 8015, 9010, 6019, 9013, 6025, 8010, 2039, 9510, 6023, 8016, 2035, 8017, 6021, 6022, 2031, 9751, 8011, 8014, 6011, 9011, 6017, 6018, 2023, 9012, 6015, 8012, 2019, 8013, 6013, 6014, 2015, 9943, 8007, 9006, 6003, 9505, 7993, 8002, 2007, 9508, 6007, 8008, 2003, 9001, 6005, 6006, 1999, 9757, 8003, 8006, 5995, 9007, 6001, 6002, 1991, 9008, 5999, 8004, 1987, 8005, 5997, 5998, 1983, 9758, 7999, 9002, 5987, 9005, 5993, 7994, 1975, 9506, 5991, 8000, 1971, 8001, 5989, 5990, 1967, 9507, 7995, 7998, 5979, 9003, 5985, 5986, 1959, 9004, 5983, 7996, 1955, 7997, 5981, 5982, 1951, 9944, 7991, 8998, 5971, 9501, 7977, 7986, 1943, 9752, 5975, 8984, 1939, 8993, 5973, 5974, 1935, 9755, 7987, 7990, 5963, 8999, 5969, 5970, 1927, 9496, 5967, 7988, 1923, 7989, 5965, 5966, 1919, 9880, 7983, 8994, 5955, 8997, 5961, 7978, 1911, 9502, 5959, 7984, 1907, 7985, 5957, 5958, 1903, 9503, 7979, 7982, 5947, 8995, 5953, 5954, 1895, 8996, 5951, 7980, 1891, 7981, 5949, 5950, 1887, 9881, 7975, 8990, 5939, 9497, 7961, 7970, 1879, 9500, 5943, 7976, 1875, 8985, 5941, 5942, 1871, 9753, 7971, 7974, 5931, 8991, 5937, 5938, 1863, 8992, 5935, 7972, 1859, 7973, 5933, 5934, 1855, 9754, 7967, 8986, 5923, 8989, 5929, 7962, 1847, 9498, 5927, 7968, 1843, 7969, 5925, 5926, 1839, 9499, 7963, 7966, 5915, 8987, 5921, 5922, 1831, 8988, 5919, 7964, 1827, 7965, 5917, 5918, 1823, 10001, 8952, 9463, 6932, 9718, 7946, 7955, 5784, 9845, 7896, 8969, 3860, 8978, 7702, 7831, 1808, 9908, 8468, 8919, 5900, 9480, 5906, 5907, 1800, 9489, 5904, 8725, 1796, 8854, 5902, 5903, 1792, 9939, 7952, 8979, 5892, 9430, 5898, 7947, 1784, 9735, 5896, 7953, 1780, 7954, 5894, 5895, 1776, 9744, 7948, 7951, 5884, 9236, 5890, 5891, 1768, 9365, 5888, 7949, 1764, 7950, 5886, 5887, 1760, 9970, 7944, 8975, 5876, 9490, 7930, 7939, 1752, 9685, 5880, 7945, 1748, 8970, 5878, 5879, 1744, 9862, 7940, 7943, 5868, 8976, 5874, 5875, 1736, 8977, 5872, 7941, 1732, 7942, 5870, 5871, 1728, 9871, 7936, 8971, 5860, 8974, 5866, 7931, 1720, 9491, 5864, 7937, 1716, 7938, 5862, 5863, 1712, 9620, 7932, 7935, 5852, 8972, 5858, 5859, 1704, 8973, 5856, 7933, 1700, 7934, 5854, 5855, 1696, 9985, 7928, 8967, 5844, 9486, 7914, 7923, 1688, 9745, 5848, 8953, 1684, 8962, 5846, 5847, 1680, 9812, 7924, 7927, 5836, 8968, 5842, 5843, 1672, 9481, 5840, 7925, 1668, 7926, 5838, 5839, 1664, 9925, 7920, 8963, 5828, 8966, 5834, 7915, 1656, 9487, 5832, 7921, 1652, 7922, 5830, 5831, 1648, 9488, 7916, 7919, 5820, 8964, 5826, 5827, 1640, 8965, 5824, 7917, 1636, 7918, 5822, 5823, 1632, 9934, 7912, 8959, 5812, 9482, 7898, 7907, 1624, 9485, 5816, 7913, 1620, 8954, 5814, 5815, 1616, 9746, 7908, 7911, 5804, 8960, 5810, 5811, 1608, 8961, 5808, 7909, 1604, 7910, 5806, 5807, 1600, 9747, 7904, 8955, 5796, 8958, 5802, 7899, 1592, 9483, 5800, 7905, 1588, 7906, 5798, 5799, 1584, 9484, 7900, 7903, 5788, 8956, 5794, 5795, 1576, 8957, 5792, 7901, 1572, 7902, 5790, 5791, 1568, 9992, 8920, 8951, 5780, 9478, 7882, 7891, 5656, 9741, 7832, 8937, 1556, 8946, 5782, 5783, 1552, 9872, 7892, 7895, 5772, 9464, 5778, 5779, 1544, 9473, 5776, 7893, 1540, 7894, 5774, 5775, 1536, 9875, 7888, 8947, 5764, 8950, 5770, 7883, 1528, 9479, 5768, 7889, 1524, 7890, 5766, 5767, 1520, 9736, 7884, 7887, 5756, 8948, 5762, 5763, 1512, 8949, 5760, 7885, 1508, 7886, 5758, 5759, 1504, 9956, 7880, 8943, 5748, 9474, 7866, 7875, 1496, 9477, 5752, 7881, 1492, 8938, 5750, 5751, 1488, 9742, 7876, 7879, 5740, 8944, 5746, 5747, 1480, 8945, 5744, 7877, 1476, 7878, 5742, 5743, 1472, 9743, 7872, 8939, 5732, 8942, 5738, 7867, 1464, 9475, 5736, 7873, 1460, 7874, 5734, 5735, 1456, 9476, 7868, 7871, 5724, 8940, 5730, 5731, 1448, 8941, 5728, 7869, 1444, 7870, 5726, 5727, 1440, 9965, 7864, 8935, 5716, 9470, 7850, 7859, 1432, 9737, 5720, 8921, 1428, 8930, 5718, 5719, 1424, 9740, 7860, 7863, 5708, 8936, 5714, 5715, 1416, 9465, 5712, 7861, 1412, 7862, 5710, 5711, 1408, 9873, 7856, 8931, 5700, 8934, 5706, 7851, 1400, 9471, 5704, 7857, 1396, 7858, 5702, 5703, 1392, 9472, 7852, 7855, 5692, 8932, 5698, 5699, 1384, 8933, 5696, 7853, 1380, 7854, 5694, 5695, 1376, 9874, 7848, 8927, 5684, 9466, 7834, 7843, 1368, 9469, 5688, 7849, 1364, 8922, 5686, 5687, 1360, 9738, 7844, 7847, 5676, 8928, 5682, 5683, 1352, 8929, 5680, 7845, 1348, 7846, 5678, 5679, 1344, 9739, 7840, 8923, 5668, 8926, 5674, 7835, 1336, 9467, 5672, 7841, 1332, 7842, 5670, 5671, 1328, 9468, 7836, 7839, 5660, 8924, 5666, 5667, 1320, 8925, 5664, 7837, 1316, 7838, 5662, 5663, 1312, 9995, 8888, 9431, 5652, 9462, 7818, 7827, 5528, 9733, 7768, 8905, 1300, 8914, 5654, 7703, 1296, 9868, 7828, 8855, 5644, 9448, 5650, 5651, 1288, 9457, 5648, 7829, 1284, 7830, 5646, 5647, 1280, 9935, 7824, 8915, 5636, 8918, 5642, 7819, 1272, 9719, 5640, 7825, 1268, 7826, 5638, 5639, 1264, 9728, 7820, 7823, 5628, 8916, 5634, 5635, 1256, 8917, 5632, 7821, 1252, 7822, 5630, 5631, 1248, 9938, 7816, 8911, 5620, 9458, 7802, 7811, 1240, 9461, 5624, 7817, 1236, 8906, 5622, 5623, 1232, 9734, 7812, 7815, 5612, 8912, 5618, 5619, 1224, 8913, 5616, 7813, 1220, 7814, 5614, 5615, 1216, 9863, 7808, 8907, 5604, 8910, 5610, 7803, 1208, 9459, 5608, 7809, 1204, 7810, 5606, 5607, 1200, 9460, 7804, 7807, 5596, 8908, 5602, 5603, 1192, 8909, 5600, 7805, 1188, 7806, 5598, 5599, 1184, 9971, 7800, 8903, 5588, 9454, 7786, 7795, 1176, 9729, 5592, 8889, 1172, 8898, 5590, 5591, 1168, 9732, 7796, 7799, 5580, 8904, 5586, 5587, 1160, 9449, 5584, 7797, 1156, 7798, 5582, 5583, 1152, 9869, 7792, 8899, 5572, 8902, 5578, 7787, 1144, 9455, 5576, 7793, 1140, 7794, 5574, 5575, 1136, 9456, 7788, 7791, 5564, 8900, 5570, 5571, 1128, 8901, 5568, 7789, 1124, 7790, 5566, 5567, 1120, 9870, 7784, 8895, 5556, 9450, 7770, 7779, 1112, 9453, 5560, 7785, 1108, 8890, 5558, 5559, 1104, 9730, 7780, 7783, 5548, 8896, 5554, 5555, 1096, 8897, 5552, 7781, 1092, 7782, 5550, 5551, 1088, 9731, 7776, 8891, 5540, 8894, 5546, 7771, 1080, 9451, 5544, 7777, 1076, 7778, 5542, 5543, 1072, 9452, 7772, 7775, 5532, 8892, 5538, 5539, 1064, 8893, 5536, 7773, 1060, 7774, 5534, 5535, 1056, 9980, 8856, 8887, 5524, 9446, 7754, 7763, 5400, 9725, 7704, 8873, 1044, 8882, 5526, 5527, 1040, 9864, 7764, 7767, 5516, 9432, 5522, 5523, 1032, 9441, 5520, 7765, 1028, 7766, 5518, 5519, 1024, 9867, 7760, 8883, 5508, 8886, 5514, 7755, 1016, 9447, 5512, 7761, 1012, 7762, 5510, 5511, 1008, 9720, 7756, 7759, 5500, 8884, 5506, 5507, 1000, 8885, 5504, 7757, 996, 7758, 5502, 5503, 992, 9936, 7752, 8879, 5492, 9442, 7738, 7747, 984, 9445, 5496, 7753, 980, 8874, 5494, 5495, 976, 9726, 7748, 7751, 5484, 8880, 5490, 5491, 968, 8881, 5488, 7749, 964, 7750, 5486, 5487, 960, 9727, 7744, 8875, 5476, 8878, 5482, 7739, 952, 9443, 5480, 7745, 948, 7746, 5478, 5479, 944, 9444, 7740, 7743, 5468, 8876, 5474, 5475, 936, 8877, 5472, 7741, 932, 7742, 5470, 5471, 928, 9937, 7736, 8871, 5460, 9438, 7722, 7731, 920, 9721, 5464, 8857, 916, 8866, 5462, 5463, 912, 9724, 7732, 7735, 5452, 8872, 5458, 5459, 904, 9433, 5456, 7733, 900, 7734, 5454, 5455, 896, 9865, 7728, 8867, 5444, 8870, 5450, 7723, 888, 9439, 5448, 7729, 884, 7730, 5446, 5447, 880, 9440, 7724, 7727, 5436, 8868, 5442, 5443, 872, 8869, 5440, 7725, 868, 7726, 5438, 5439, 864, 9866, 7720, 8863, 5428, 9434, 7706, 7715, 856, 9437, 5432, 7721, 852, 8858, 5430, 5431, 848, 9722, 7716, 7719, 5420, 8864, 5426, 5427, 840, 8865, 5424, 7717, 836, 7718, 5422, 5423, 832, 9723, 7712, 8859, 5412, 8862, 5418, 7707, 824, 9435, 5416, 7713, 820, 7714, 5414, 5415, 816, 9436, 7708, 7711, 5404, 8860, 5410, 5411, 808, 8861, 5408, 7709, 804, 7710, 5406, 5407, 800, 9998, 8824, 9399, 5396, 9686, 7690, 7699, 5272, 9717, 7640, 8841, 788, 8850, 7446, 7575, 784, 9860, 7700, 8791, 5388, 9416, 5394, 5395, 776, 9425, 5392, 7701, 772, 8726, 5390, 5391, 768, 9931, 7696, 8851, 5380, 9366, 5386, 7691, 760, 9703, 5384, 7697, 756, 7698, 5382, 5383, 752, 9712, 7692, 7695, 5372, 8852, 5378, 5379, 744, 8853, 5376, 7693, 740, 7694, 5374, 5375, 736, 9966, 7688, 8847, 5364, 9426, 7674, 7683, 728, 9429, 5368, 7689, 724, 8842, 5366, 5367, 720, 9846, 7684, 7687, 5356, 8848, 5362, 5363, 712, 8849, 5360, 7685, 708, 7686, 5358, 5359, 704, 9855, 7680, 8843, 5348, 8846, 5354, 7675, 696, 9427, 5352, 7681, 692, 7682, 5350, 5351, 688, 9428, 7676, 7679, 5340, 8844, 5346, 5347, 680, 8845, 5344, 7677, 676, 7678, 5342, 5343, 672, 9969, 7672, 8839, 5332, 9422, 7658, 7667, 664, 9713, 5336, 8825, 660, 8834, 5334, 5335, 656, 9716, 7668, 7671, 5324, 8840, 5330, 5331, 648, 9417, 5328, 7669, 644, 7670, 5326, 5327, 640, 9861, 7664, 8835, 5316, 8838, 5322, 7659, 632, 9423, 5320, 7665, 628, 7666, 5318, 5319, 624, 9424, 7660, 7663, 5308, 8836, 5314, 5315, 616, 8837, 5312, 7661, 612, 7662, 5310, 5311, 608, 9926, 7656, 8831, 5300, 9418, 7642, 7651, 600, 9421, 5304, 7657, 596, 8826, 5302, 5303, 592, 9714, 7652, 7655, 5292, 8832, 5298, 5299, 584, 8833, 5296, 7653, 580, 7654, 5294, 5295, 576, 9715, 7648, 8827, 5284, 8830, 5290, 7643, 568, 9419, 5288, 7649, 564, 7650, 5286, 5287, 560, 9420, 7644, 7647, 5276, 8828, 5282, 5283, 552, 8829, 5280, 7645, 548, 7646, 5278, 5279, 544, 9986, 8792, 8823, 5268, 9414, 7626, 7635, 5144, 9709, 7576, 8809, 532, 8818, 5270, 5271, 528, 9856, 7636, 7639, 5260, 9400, 5266, 5267, 520, 9409, 5264, 7637, 516, 7638, 5262, 5263, 512, 9859, 7632, 8819, 5252, 8822, 5258, 7627, 504, 9415, 5256, 7633, 500, 7634, 5254, 5255, 496, 9704, 7628, 7631, 5244, 8820, 5250, 5251, 488, 8821, 5248, 7629, 484, 7630, 5246, 5247, 480, 9932, 7624, 8815, 5236, 9410, 7610, 7619, 472, 9413, 5240, 7625, 468, 8810, 5238, 5239, 464, 9710, 7620, 7623, 5228, 8816, 5234, 5235, 456, 8817, 5232, 7621, 452, 7622, 5230, 5231, 448, 9711, 7616, 8811, 5220, 8814, 5226, 7611, 440, 9411, 5224, 7617, 436, 7618, 5222, 5223, 432, 9412, 7612, 7615, 5212, 8812, 5218, 5219, 424, 8813, 5216, 7613, 420, 7614, 5214, 5215, 416, 9933, 7608, 8807, 5204, 9406, 7594, 7603, 408, 9705, 5208, 8793, 404, 8802, 5206, 5207, 400, 9708, 7604, 7607, 5196, 8808, 5202, 5203, 392, 9401, 5200, 7605, 388, 7606, 5198, 5199, 384, 9857, 7600, 8803, 5188, 8806, 5194, 7595, 376, 9407, 5192, 7601, 372, 7602, 5190, 5191, 368, 9408, 7596, 7599, 5180, 8804, 5186, 5187, 360, 8805, 5184, 7597, 356, 7598, 5182, 5183, 352, 9858, 7592, 8799, 5172, 9402, 7578, 7587, 344, 9405, 5176, 7593, 340, 8794, 5174, 5175, 336, 9706, 7588, 7591, 5164, 8800, 5170, 5171, 328, 8801, 5168, 7589, 324, 7590, 5166, 5167, 320, 9707, 7584, 8795, 5156, 8798, 5162, 7579, 312, 9403, 5160, 7585, 308, 7586, 5158, 5159, 304, 9404, 7580, 7583, 5148, 8796, 5154, 5155, 296, 8797, 5152, 7581, 292, 7582, 5150, 5151, 288, 9987, 8760, 9367, 5140, 9398, 7562, 7571, 5016, 9701, 7512, 8777, 276, 8786, 5142, 7447, 272, 9852, 7572, 8727, 5132, 9384, 5138, 5139, 264, 9393, 5136, 7573, 260, 7574, 5134, 5135, 256, 9927, 7568, 8787, 5124, 8790, 5130, 7563, 248, 9687, 5128, 7569, 244, 7570, 5126, 5127, 240, 9696, 7564, 7567, 5116, 8788, 5122, 5123, 232, 8789, 5120, 7565, 228, 7566, 5118, 5119, 224, 9930, 7560, 8783, 5108, 9394, 7546, 7555, 216, 9397, 5112, 7561, 212, 8778, 5110, 5111, 208, 9702, 7556, 7559, 5100, 8784, 5106, 5107, 200, 8785, 5104, 7557, 196, 7558, 5102, 5103, 192, 9847, 7552, 8779, 5092, 8782, 5098, 7547, 184, 9395, 5096, 7553, 180, 7554, 5094, 5095, 176, 9396, 7548, 7551, 5084, 8780, 5090, 5091, 168, 8781, 5088, 7549, 164, 7550, 5086, 5087, 160, 9967, 7544, 8775, 5076, 9390, 7530, 7539, 152, 9697, 5080, 8761, 148, 8770, 5078, 5079, 144, 9700, 7540, 7543, 5068, 8776, 5074, 5075, 136, 9385, 5072, 7541, 132, 7542, 5070, 5071, 128, 9853, 7536, 8771, 5060, 8774, 5066, 7531, 120, 9391, 5064, 7537, 116, 7538, 5062, 5063, 112, 9392, 7532, 7535, 5052, 8772, 5058, 5059, 104, 8773, 5056, 7533, 100, 7534, 5054, 5055, 96, 9854, 7528, 8767, 5044, 9386, 7514, 7523, 88, 9389, 5048, 7529, 84, 8762, 5046, 5047, 80, 9698, 7524, 7527, 5036, 8768, 5042, 5043, 72, 8769, 5040, 7525, 68, 7526, 5038, 5039, 64, 9699, 7520, 8763, 5028, 8766, 5034, 7515, 56, 9387, 5032, 7521, 52, 7522, 5030, 5031, 48, 9388, 7516, 7519, 5020, 8764, 5026, 5027, 40, 8765, 5024, 7517, 36, 7518, 5022, 5023, 32, 9968, 8728, 8759, 5012, 9382, 7498, 7507, 4888, 9693, 7448, 8745, 20, 8754, 5014, 5015, 16, 9848]\n",
      "REMOVING!\n",
      "Heap of 10000 elements restored with 13 swaps\n",
      "\n"
     ]
    },
    {
     "data": {
      "text/plain": [
       "2"
      ]
     },
     "execution_count": 14,
     "metadata": {},
     "output_type": "execute_result"
    }
   ],
   "source": [
    "# import random number generator\n",
    "from random import randrange\n",
    "# make an instance of MinHeap\n",
    "min_heap = MinHeap()\n",
    "\n",
    "# populate min_heap with descending numbers\n",
    "descending_nums = [n for n in range(10001, 1, -1)]\n",
    "print(\"ADDING!\")\n",
    "for el in descending_nums:\n",
    "  min_heap.add(el)\n",
    "print(min_heap.heap_list)\n",
    "print(\"REMOVING!\")\n",
    "# remove minimum until min_heap is empty\n",
    "min_heap.retrieve_min()"
   ]
  },
  {
   "cell_type": "markdown",
   "metadata": {},
   "source": [
    "# Graphs"
   ]
  },
  {
   "cell_type": "code",
   "execution_count": 2,
   "metadata": {},
   "outputs": [],
   "source": [
    "class Vertex:\n",
    "  def __init__(self, value):\n",
    "    self.value = value\n",
    "    self.edges = {}\n",
    "\n",
    "  def add_edge(self, vertex, weight = 0):\n",
    "    self.edges[vertex] = weight\n",
    "\n",
    "  def get_edges(self):\n",
    "    return list(self.edges.keys())"
   ]
  },
  {
   "cell_type": "code",
   "execution_count": 2,
   "metadata": {},
   "outputs": [],
   "source": [
    "class Graph:\n",
    "  def __init__(self, directed = False):\n",
    "    self.graph_dict = {}\n",
    "    self.directed = directed\n",
    "\n",
    "  def add_vertex(self, vertex):\n",
    "    self.graph_dict[vertex.value] = vertex\n",
    "\n",
    "  def add_edge(self, from_vertex, to_vertex, weight = 0):\n",
    "    self.graph_dict[from_vertex.value].add_edge(to_vertex.value, weight)\n",
    "    if not self.directed:\n",
    "      self.graph_dict[to_vertex.value].add_edge(from_vertex.value, weight)\n",
    "\n",
    "  def find_path(self, start_vertex, end_vertex):\n",
    "    start = [start_vertex]\n",
    "    seen = {}\n",
    "    while len(start) > 0:\n",
    "      current_vertex = start.pop(0)\n",
    "      seen[current_vertex] = True\n",
    "      print(\"Visiting \" + current_vertex)\n",
    "      if current_vertex == end_vertex:\n",
    "        return True\n",
    "      else:\n",
    "        vertices_to_visit = set(self.graph_dict[current_vertex].edges.keys())\n",
    "        start += [vertex for vertex in vertices_to_visit if vertex not in seen]\n",
    "    return False"
   ]
  },
  {
   "cell_type": "code",
   "execution_count": 3,
   "metadata": {},
   "outputs": [
    {
     "name": "stdout",
     "output_type": "stream",
     "text": [
      "\n",
      "a connected to\n",
      "=> b\n",
      "=> f\n",
      "\n",
      "b connected to\n",
      "=> a\n",
      "=> b\n",
      "\n",
      "c connected to\n",
      "No edges!\n",
      "\n",
      "d connected to\n",
      "=> d\n",
      "=> f\n",
      "\n",
      "e connected to\n",
      "No edges!\n",
      "\n",
      "f connected to\n",
      "=> a\n",
      "=> d\n",
      "\n",
      "g connected to\n",
      "No edges!\n"
     ]
    }
   ],
   "source": [
    "from random import randrange\n",
    "\n",
    "def print_graph(graph):\n",
    "  for vertex in graph.graph_dict:\n",
    "    print(\"\")\n",
    "    print(vertex + \" connected to\")\n",
    "    vertex_neighbors = graph.graph_dict[vertex].edges\n",
    "    if len(vertex_neighbors) == 0:\n",
    "      print(\"No edges!\")\n",
    "    for adjacent_vertex in vertex_neighbors:\n",
    "      print(\"=> \" + adjacent_vertex)\n",
    "\n",
    "\n",
    "def build_graph(directed):\n",
    "  g = Graph(directed)\n",
    "  vertices = []\n",
    "  for val in ['a', 'b', 'c', 'd', 'e', 'f', 'g']:\n",
    "    vertex = Vertex(val)\n",
    "    vertices.append(vertex)\n",
    "    g.add_vertex(vertex)\n",
    "\n",
    "  for v in range(len(vertices)):\n",
    "    v_idx = randrange(0, len(vertices) - 1)\n",
    "    v1 = vertices[v_idx]\n",
    "    v_idx = randrange(0, len(vertices) - 1)\n",
    "    v2 = vertices[v_idx]\n",
    "    g.add_edge(v1, v2, randrange(1, 10))\n",
    "\n",
    "  print_graph(g)\n",
    "\n",
    "build_graph(False)\n"
   ]
  },
  {
   "cell_type": "markdown",
   "metadata": {},
   "source": [
    "# Graph Project - Maze Explorer"
   ]
  },
  {
   "cell_type": "code",
   "execution_count": 3,
   "metadata": {},
   "outputs": [],
   "source": [
    "#from vertex import Vertex\n",
    "\n",
    "class Graph:\n",
    "  def __init__(self):\n",
    "    self.graph_dict = {}\n",
    "\n",
    "  def add_vertex(self, node):\n",
    "    self.graph_dict[node.value] = node\n",
    "\n",
    "  def add_edge(self, from_node, to_node, weight = 0):\n",
    "    self.graph_dict[from_node.value].add_edge(to_node.value, weight)\n",
    "    self.graph_dict[to_node.value].add_edge(from_node.value, weight)\n",
    "\n",
    "  def explore(self):\n",
    "    print(\"Exploring the graph....\\n\")\n",
    "    #FILL IN EXPLORE METHOD BELOW\n",
    "    current_room = 'entrance'\n",
    "    path_total = 0\n",
    "    print(\"\\nStarting off at the {0} \\n\".format(current_room))\n",
    "    while current_room != \"treasure room\":\n",
    "      node = self.graph_dict[current_room]\n",
    "      for connected_room, weight in node.edges.items():\n",
    "        key = connected_room[0]\n",
    "        print(f\"enter {key} for {connected_room}: {weight} cost\")\n",
    "      valid_choices = [room[0] for room in node.edges.keys()]\n",
    "      print(f\"\\n You have accumulated: {path_total} cost\")\n",
    "      choice = input(\"\\nWhich room do you move to?\")\n",
    "      if choice not in valid_choices:\n",
    "        print(f\"please select form these letters: {valid_choices}\")\n",
    "      else:\n",
    "        for room in node.edges.keys():\n",
    "            if room.startswith(choice):\n",
    "              current_room = room\n",
    "              path_total += node.edges[room]\n",
    "        print(f\"\\n*** You have chosen: {current_room} ***\\n\")\n",
    "    print(f\"Made it to the treasure room with {path_total} cost\")  \n",
    "\n",
    "\n",
    "  def print_map(self):\n",
    "    print(\"\\nMAZE LAYOUT\\n\")\n",
    "    for node_key in self.graph_dict:\n",
    "      print(\"{0} connected to...\".format(node_key))\n",
    "      node = self.graph_dict[node_key]\n",
    "      for adjacent_node, weight in node.edges.items():\n",
    "        print(\"=> {0}: cost is {1}\".format(adjacent_node, weight))\n",
    "      print(\"\")\n",
    "    print(\"\")\n",
    "\n",
    "def build_graph():\n",
    "  graph = Graph()\n",
    "  \n",
    "  # MAKE ROOMS INTO VERTICES BELOW...\n",
    "  entrance = Vertex(\"entrance\")\n",
    "  ante_chamber = Vertex(\"ante-chamber\")\n",
    "  kings_room = Vertex(\"king's room\")\n",
    "  grand_gallery = Vertex(\"grand gallery\")\n",
    "  treasure_room = Vertex(\"treasure room\")\n",
    "  # ADD ROOMS TO GRAPH BELOW...\n",
    "  graph.add_vertex(entrance)\n",
    "  graph.add_vertex(ante_chamber)\n",
    "  graph.add_vertex(kings_room)\n",
    "  graph.add_vertex(grand_gallery)\n",
    "  graph.add_vertex(treasure_room)\n",
    "  # ADD EDGES BETWEEN ROOMS BELOW...\n",
    "  graph.add_edge(entrance, ante_chamber, 7)\n",
    "  graph.add_edge(entrance, kings_room, 3)\n",
    "  graph.add_edge(kings_room, ante_chamber, 1)\n",
    "  graph.add_edge(grand_gallery, ante_chamber, 2)\n",
    "  graph.add_edge(grand_gallery, kings_room, 2)\n",
    "  graph.add_edge(treasure_room, ante_chamber, 6)\n",
    "  graph.add_edge(treasure_room, grand_gallery, 4)\n",
    "  # DON'T CHANGE THIS CODE\n",
    "  graph.print_map()\n",
    "  return graph\n"
   ]
  },
  {
   "cell_type": "code",
   "execution_count": 5,
   "metadata": {},
   "outputs": [
    {
     "name": "stdout",
     "output_type": "stream",
     "text": [
      "\n",
      "MAZE LAYOUT\n",
      "\n",
      "entrance connected to...\n",
      "=> ante-chamber: cost is 7\n",
      "=> king's room: cost is 3\n",
      "\n",
      "ante-chamber connected to...\n",
      "=> entrance: cost is 7\n",
      "=> king's room: cost is 1\n",
      "=> grand gallery: cost is 2\n",
      "=> treasure room: cost is 6\n",
      "\n",
      "king's room connected to...\n",
      "=> entrance: cost is 3\n",
      "=> ante-chamber: cost is 1\n",
      "=> grand gallery: cost is 2\n",
      "\n",
      "grand gallery connected to...\n",
      "=> ante-chamber: cost is 2\n",
      "=> king's room: cost is 2\n",
      "=> treasure room: cost is 4\n",
      "\n",
      "treasure room connected to...\n",
      "=> ante-chamber: cost is 6\n",
      "=> grand gallery: cost is 4\n",
      "\n",
      "\n",
      "Exploring the graph....\n",
      "\n",
      "\n",
      "Starting off at the entrance \n",
      "\n",
      "enter a for ante-chamber: 7 cost\n",
      "enter k for king's room: 3 cost\n",
      "\n",
      " You have accumulated: 0 cost\n"
     ]
    },
    {
     "name": "stdin",
     "output_type": "stream",
     "text": [
      "\n",
      "Which room do you move to? a\n"
     ]
    },
    {
     "name": "stdout",
     "output_type": "stream",
     "text": [
      "\n",
      "*** You have chosen: ante-chamber ***\n",
      "\n",
      "enter e for entrance: 7 cost\n",
      "enter k for king's room: 1 cost\n",
      "enter g for grand gallery: 2 cost\n",
      "enter t for treasure room: 6 cost\n",
      "\n",
      " You have accumulated: 7 cost\n"
     ]
    },
    {
     "name": "stdin",
     "output_type": "stream",
     "text": [
      "\n",
      "Which room do you move to? g\n"
     ]
    },
    {
     "name": "stdout",
     "output_type": "stream",
     "text": [
      "\n",
      "*** You have chosen: grand gallery ***\n",
      "\n",
      "enter a for ante-chamber: 2 cost\n",
      "enter k for king's room: 2 cost\n",
      "enter t for treasure room: 4 cost\n",
      "\n",
      " You have accumulated: 9 cost\n"
     ]
    },
    {
     "name": "stdin",
     "output_type": "stream",
     "text": [
      "\n",
      "Which room do you move to? t\n"
     ]
    },
    {
     "name": "stdout",
     "output_type": "stream",
     "text": [
      "\n",
      "*** You have chosen: treasure room ***\n",
      "\n",
      "Made it to the treasure room with 13 cost\n"
     ]
    }
   ],
   "source": [
    "# # import classes\n",
    "# from graph import Graph, build_graph\n",
    "# from vertex import Vertex\n",
    "\n",
    "execavation_site = build_graph()\n",
    "execavation_site.explore()"
   ]
  }
 ],
 "metadata": {
  "kernelspec": {
   "display_name": "Python 3",
   "language": "python",
   "name": "python3"
  },
  "language_info": {
   "codemirror_mode": {
    "name": "ipython",
    "version": 3
   },
   "file_extension": ".py",
   "mimetype": "text/x-python",
   "name": "python",
   "nbconvert_exporter": "python",
   "pygments_lexer": "ipython3",
   "version": "3.6.8"
  }
 },
 "nbformat": 4,
 "nbformat_minor": 4
}
